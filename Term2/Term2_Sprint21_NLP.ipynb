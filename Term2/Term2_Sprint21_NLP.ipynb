{
 "cells": [
  {
   "cell_type": "markdown",
   "id": "inner-interface",
   "metadata": {},
   "source": [
    "# Sprint 自然言語処理入門"
   ]
  },
  {
   "cell_type": "markdown",
   "id": "headed-franklin",
   "metadata": {},
   "source": [
    "## 1.このSprintについて\n",
    "\n",
    "**<u>Sprintの目的</u>**\n",
    "\n",
    "- 自然言語処理の一連の流れを学ぶ\n",
    "- 自然言語のベクトル化の方法を学ぶ\n",
    "\n",
    "**<u>どのように学ぶか</u>**\n",
    "\n",
    "自然言語処理定番のデータセットを用いて、一連の流れを見ていきます。"
   ]
  },
  {
   "cell_type": "markdown",
   "id": "atmospheric-creator",
   "metadata": {},
   "source": [
    "## 2.自然言語のベクトル化\n",
    "\n",
    "**自然言語処理（NLP, Natural Language Processing）** とは人間が普段使っている **自然言語** をコンピュータに処理させる技術のことです。ここではその中でも、機械学習の入力として自然言語を用いることを考えていきます。\n",
    "\n",
    "\n",
    "多くの機械学習手法は **数値データ（量的変数）** の入力を前提にしていますので、自然言語の **テキストデータ** を数値データに変換する必要があります。これを **自然言語のベクトル化** と呼びます。ベクトル化の際にテキストデータの特徴をうまく捉えられるよう、様々な手法が考えられてきていますので、このSprintではそれらを学びます。\n",
    "\n",
    "**<u>非構造化データ</u>**\n",
    "\n",
    "データの分類として、表に数値がまとめられたようなコンピュータが扱いやすい形を **構造化データ** 、人間が扱いやすい画像・動画・テキスト・音声などを **非構造化データ** と呼ぶことがあります。自然言語のベクトル化は、非構造化データを構造化データに変換する工程と言えます。同じ非構造化データでも、画像に対してはディープラーニングを用いる場合この変換作業はあまり必要がありませんでしたが、テキストにおいてはこれをどう行うかが重要です。\n",
    "\n",
    "\n",
    "**<u>自然言語処理により何ができるか</u>**\n",
    "\n",
    "機械学習の入力や出力に自然言語のテキストを用いることで様々なことができます。入力も出力もテキストである例としては **機械翻訳** があげられ、実用化されています。入力は画像で出力がテキストである **画像キャプション生成** やその逆の文章からの画像生成も研究が進んでいます。\n",
    "\n",
    "\n",
    "しかし、出力をテキストや画像のような非構造化データとすることは難易度が高いです。比較的簡単にできることとしては、入力をテキスト、出力をカテゴリーとする **テキスト分類** です。\n",
    "\n",
    "\n",
    "アヤメやタイタニック、手書き数字のような定番の存在として、**IMDB映画レビューデータセット** の感情分析があります。レビューの文書が映画に対して肯定的か否定的かを2値分類します。文書ごとの肯定・否定はラベルが与えられています。このSprintではこれを使っていきます。"
   ]
  },
  {
   "cell_type": "markdown",
   "id": "alternative-survey",
   "metadata": {},
   "source": [
    "## 3.IMDB映画レビューデータセットの準備\n",
    "\n",
    "IMDB映画レビューデータセットを準備します。\n",
    "\n",
    "\n",
    "**<u>ダウンロード</u>**\n",
    "\n",
    "次のwgetコマンドによってダウンロードします。"
   ]
  },
  {
   "cell_type": "code",
   "execution_count": 1,
   "id": "herbal-negative",
   "metadata": {},
   "outputs": [
    {
     "name": "stdout",
     "output_type": "stream",
     "text": [
      "--2021-04-07 14:52:32--  http://ai.stanford.edu/~amaas/data/sentiment/aclImdb_v1.tar.gz\n",
      "ai.stanford.edu (ai.stanford.edu) をDNSに問いあわせています... 171.64.68.10\n",
      "ai.stanford.edu (ai.stanford.edu)|171.64.68.10|:80 に接続しています... 接続しました。\n",
      "HTTP による接続要求を送信しました、応答を待っています... 200 OK\n",
      "長さ: 84125825 (80M) [application/x-gzip]\n",
      "`aclImdb_v1.tar.gz' に保存中\n",
      "\n",
      "aclImdb_v1.tar.gz   100%[===================>]  80.23M  6.29MB/s 時間 13s        \n",
      "\n",
      "2021-04-07 14:52:45 (6.20 MB/s) - `aclImdb_v1.tar.gz' へ保存完了 [84125825/84125825]\n",
      "\n",
      "Large Movie Review Dataset v1.0\n",
      "\n",
      "Overview\n",
      "\n",
      "This dataset contains movie reviews along with their associated binary\n",
      "sentiment polarity labels. It is intended to serve as a benchmark for\n",
      "sentiment classification. This document outlines how the dataset was\n",
      "gathered, and how to use the files provided. \n",
      "\n",
      "Dataset \n",
      "\n",
      "The core dataset contains 50,000 reviews split evenly into 25k train\n",
      "and 25k test sets. The overall distribution of labels is balanced (25k\n",
      "pos and 25k neg). We also include an additional 50,000 unlabeled\n",
      "documents for unsupervised learning. \n",
      "\n",
      "In the entire collection, no more than 30 reviews are allowed for any\n",
      "given movie because reviews for the same movie tend to have correlated\n",
      "ratings. Further, the train and test sets contain a disjoint set of\n",
      "movies, so no significant performance is obtained by memorizing\n",
      "movie-unique terms and their associated with observed labels.  In the\n",
      "labeled train/test sets, a negative review has a score <= 4 out of 10,\n",
      "and a positive review has a score >= 7 out of 10. Thus reviews with\n",
      "more neutral ratings are not included in the train/test sets. In the\n",
      "unsupervised set, reviews of any rating are included and there are an\n",
      "even number of reviews > 5 and <= 5.\n",
      "\n",
      "Files\n",
      "\n",
      "There are two top-level directories [train/, test/] corresponding to\n",
      "the training and test sets. Each contains [pos/, neg/] directories for\n",
      "the reviews with binary labels positive and negative. Within these\n",
      "directories, reviews are stored in text files named following the\n",
      "convention [[id]_[rating].txt] where [id] is a unique id and [rating] is\n",
      "the star rating for that review on a 1-10 scale. For example, the file\n",
      "[test/pos/200_8.txt] is the text for a positive-labeled test set\n",
      "example with unique id 200 and star rating 8/10 from IMDb. The\n",
      "[train/unsup/] directory has 0 for all ratings because the ratings are\n",
      "omitted for this portion of the dataset.\n",
      "\n",
      "We also include the IMDb URLs for each review in a separate\n",
      "[urls_[pos, neg, unsup].txt] file. A review with unique id 200 will\n",
      "have its URL on line 200 of this file. Due the ever-changing IMDb, we\n",
      "are unable to link directly to the review, but only to the movie's\n",
      "review page.\n",
      "\n",
      "In addition to the review text files, we include already-tokenized bag\n",
      "of words (BoW) features that were used in our experiments. These \n",
      "are stored in .feat files in the train/test directories. Each .feat\n",
      "file is in LIBSVM format, an ascii sparse-vector format for labeled\n",
      "data.  The feature indices in these files start from 0, and the text\n",
      "tokens corresponding to a feature index is found in [imdb.vocab]. So a\n",
      "line with 0:7 in a .feat file means the first word in [imdb.vocab]\n",
      "(the) appears 7 times in that review.\n",
      "\n",
      "LIBSVM page for details on .feat file format:\n",
      "http://www.csie.ntu.edu.tw/~cjlin/libsvm/\n",
      "\n",
      "We also include [imdbEr.txt] which contains the expected rating for\n",
      "each token in [imdb.vocab] as computed by (Potts, 2011). The expected\n",
      "rating is a good way to get a sense for the average polarity of a word\n",
      "in the dataset.\n",
      "\n",
      "Citing the dataset\n",
      "\n",
      "When using this dataset please cite our ACL 2011 paper which\n",
      "introduces it. This paper also contains classification results which\n",
      "you may want to compare against.\n",
      "\n",
      "\n",
      "@InProceedings{maas-EtAl:2011:ACL-HLT2011,\n",
      "  author    = {Maas, Andrew L.  and  Daly, Raymond E.  and  Pham, Peter T.  and  Huang, Dan  and  Ng, Andrew Y.  and  Potts, Christopher},\n",
      "  title     = {Learning Word Vectors for Sentiment Analysis},\n",
      "  booktitle = {Proceedings of the 49th Annual Meeting of the Association for Computational Linguistics: Human Language Technologies},\n",
      "  month     = {June},\n",
      "  year      = {2011},\n",
      "  address   = {Portland, Oregon, USA},\n",
      "  publisher = {Association for Computational Linguistics},\n",
      "  pages     = {142--150},\n",
      "  url       = {http://www.aclweb.org/anthology/P11-1015}\n",
      "}\n",
      "\n",
      "References\n",
      "\n",
      "Potts, Christopher. 2011. On the negativity of negation. In Nan Li and\n",
      "David Lutz, eds., Proceedings of Semantics and Linguistic Theory 20,\n",
      "636-659.\n",
      "\n",
      "Contact\n",
      "\n",
      "For questions/comments/corrections please contact Andrew Maas\n",
      "amaas@cs.stanford.edu\n"
     ]
    }
   ],
   "source": [
    "# IMDBをカレントフォルダにダウンロード\n",
    "!wget http://ai.stanford.edu/~amaas/data/sentiment/aclImdb_v1.tar.gz\n",
    "# 解凍\n",
    "!tar zxf aclImdb_v1.tar.gz\n",
    "# aclImdb/train/unsupはラベル無しのため削除\n",
    "!rm -rf aclImdb/train/unsup\n",
    "# IMDBデータセットの説明を表示\n",
    "!cat aclImdb/README"
   ]
  },
  {
   "cell_type": "markdown",
   "id": "visible-uncertainty",
   "metadata": {},
   "source": [
    "以下のサイトで公開されているデータセットです。\n",
    "\n",
    "[Sentiment Analysis](http://ai.stanford.edu/~amaas/data/sentiment/)"
   ]
  },
  {
   "cell_type": "markdown",
   "id": "realistic-ghost",
   "metadata": {},
   "source": [
    "**読み込み**\n",
    "\n",
    "scikit-learnのload_filesを用いて読み込みます。\n",
    "\n",
    "\n",
    "[sklearn.datasets.load_files — scikit-learn 0.21.3 documentation](https://scikit-learn.org/stable/modules/generated/sklearn.datasets.load_files.html)"
   ]
  },
  {
   "cell_type": "code",
   "execution_count": 1,
   "id": "spare-wales",
   "metadata": {},
   "outputs": [
    {
     "name": "stdout",
     "output_type": "stream",
     "text": [
      "['neg', 'pos']\n"
     ]
    }
   ],
   "source": [
    "from sklearn.datasets import load_files\n",
    "train_review = load_files('./aclImdb/train/', encoding='utf-8')\n",
    "x_train, y_train = train_review.data, train_review.target\n",
    "test_review = load_files('./aclImdb/test/', encoding='utf-8')\n",
    "x_test, y_test = test_review.data, test_review.target\n",
    "# ラベルの0,1と意味の対応の表示\n",
    "print(train_review.target_names)"
   ]
  },
  {
   "cell_type": "markdown",
   "id": "handmade-stream",
   "metadata": {},
   "source": [
    "**<u>このデータセットについて</u>**\n",
    "\n",
    "中身を見てみると、英語の文章が入っていることが分かります。"
   ]
  },
  {
   "cell_type": "code",
   "execution_count": 2,
   "id": "prerequisite-surface",
   "metadata": {},
   "outputs": [
    {
     "name": "stdout",
     "output_type": "stream",
     "text": [
      "x : Zero Day leads you to think, even re-think why two boys/young men would do what they did - commit mutual suicide via slaughtering their classmates. It captures what must be beyond a bizarre mode of being for two humans who have decided to withdraw from common civility in order to define their own/mutual world via coupled destruction.<br /><br />It is not a perfect movie but given what money/time the filmmaker and actors had - it is a remarkable product. In terms of explaining the motives and actions of the two young suicide/murderers it is better than 'Elephant' - in terms of being a film that gets under our 'rationalistic' skin it is a far, far better film than almost anything you are likely to see. <br /><br />Flawed but honest with a terrible honesty.\n"
     ]
    }
   ],
   "source": [
    "print(\"x : {}\".format(x_train[0]))"
   ]
  },
  {
   "cell_type": "code",
   "execution_count": 6,
   "id": "arctic-mapping",
   "metadata": {},
   "outputs": [
    {
     "data": {
      "text/plain": [
       "1"
      ]
     },
     "execution_count": 6,
     "metadata": {},
     "output_type": "execute_result"
    }
   ],
   "source": [
    "y_train[0]"
   ]
  },
  {
   "cell_type": "code",
   "execution_count": 7,
   "id": "interracial-occupation",
   "metadata": {},
   "outputs": [
    {
     "data": {
      "text/plain": [
       "'Words can\\'t describe how bad this movie is. I can\\'t explain it by writing only. You have too see it for yourself to get at grip of how horrible a movie really can be. Not that I recommend you to do that. There are so many clichés, mistakes (and all other negative things you can imagine) here that will just make you cry. To start with the technical first, there are a LOT of mistakes regarding the airplane. I won\\'t list them here, but just mention the coloring of the plane. They didn\\'t even manage to show an airliner in the colors of a fictional airline, but instead used a 747 painted in the original Boeing livery. Very bad. The plot is stupid and has been done many times before, only much, much better. There are so many ridiculous moments here that i lost count of it really early. Also, I was on the bad guys\\' side all the time in the movie, because the good guys were so stupid. \"Executive Decision\" should without a doubt be you\\'re choice over this one, even the \"Turbulence\"-movies are better. In fact, every other movie in the world is better than this one.'"
      ]
     },
     "execution_count": 7,
     "metadata": {},
     "output_type": "execute_result"
    }
   ],
   "source": [
    "x_train[1]"
   ]
  },
  {
   "cell_type": "code",
   "execution_count": 8,
   "id": "industrial-landing",
   "metadata": {},
   "outputs": [
    {
     "data": {
      "text/plain": [
       "0"
      ]
     },
     "execution_count": 8,
     "metadata": {},
     "output_type": "execute_result"
    }
   ],
   "source": [
    "y_train[1]"
   ]
  },
  {
   "cell_type": "markdown",
   "id": "opposite-questionnaire",
   "metadata": {},
   "source": [
    "IMDBはInternet Movie Databaseの略で、映画のデータベースサイトです。\n",
    "\n",
    "\n",
    "[Ratings and Reviews for New Movies and TV Shows - IMDb](https://www.imdb.com/)\n",
    "\n",
    "\n",
    "このサイトではユーザが映画に対して1から10点の評価とコメントを投稿することができます。そのデータベースから訓練データは25000件、テストデータは25000件のデータセットを作成しています。\n",
    "\n",
    "\n",
    "4点以下を否定的、7点以下を肯定的なレビューとして2値のラベル付けしており、これにより感情の分類を行います。5,6点の中立的なレビューはデータセットに含んでいません。また、ラベルは訓練用・テスト用それぞれで均一に入っています。詳細はダウンロードしたREADMEを確認してください。"
   ]
  },
  {
   "cell_type": "markdown",
   "id": "informational-cornwall",
   "metadata": {},
   "source": [
    "## 4.古典的な手法\n",
    "\n",
    "古典的ながら現在でも強力な手法であるBoWとTF-IDFを見ていきます。"
   ]
  },
  {
   "cell_type": "markdown",
   "id": "embedded-banks",
   "metadata": {},
   "source": [
    "## 5.BoW\n",
    "\n",
    "単純ながら効果的な方法として **BoW (Bag of Words)** があります。これは、サンプルごとに単語などの **登場回数** を数えたものをベクトルとする方法です。単語をカテゴリとして捉え **one-hot表現** していることになります。\n",
    "\n",
    "\n",
    "<u>例</u>\n",
    "\n",
    "例として、IMDBデータセットからある3文の最初の5単語を抜き出したものを用意しました。"
   ]
  },
  {
   "cell_type": "code",
   "execution_count": 13,
   "id": "tight-beaver",
   "metadata": {},
   "outputs": [],
   "source": [
    "mini_dataset = \\\n",
    "  [\"This movie is very good.\",\n",
    "  \"This film is a good\",\n",
    "  \"Very bad. Very, very bad.\"]"
   ]
  },
  {
   "cell_type": "markdown",
   "id": "spanish-software",
   "metadata": {},
   "source": [
    "この3文にBoWを適用させてみます。scikit-learnのCountVectorizerを利用します。\n",
    "\n",
    "\n",
    "[sklearn.feature_extraction.text.CountVectorizer — scikit-learn 0.21.3 documentation](https://scikit-learn.org/stable/modules/generated/sklearn.feature_extraction.text.CountVectorizer.html)"
   ]
  },
  {
   "cell_type": "code",
   "execution_count": 14,
   "id": "engaged-transmission",
   "metadata": {},
   "outputs": [
    {
     "data": {
      "text/html": [
       "<div>\n",
       "<style scoped>\n",
       "    .dataframe tbody tr th:only-of-type {\n",
       "        vertical-align: middle;\n",
       "    }\n",
       "\n",
       "    .dataframe tbody tr th {\n",
       "        vertical-align: top;\n",
       "    }\n",
       "\n",
       "    .dataframe thead th {\n",
       "        text-align: right;\n",
       "    }\n",
       "</style>\n",
       "<table border=\"1\" class=\"dataframe\">\n",
       "  <thead>\n",
       "    <tr style=\"text-align: right;\">\n",
       "      <th></th>\n",
       "      <th>a</th>\n",
       "      <th>bad</th>\n",
       "      <th>film</th>\n",
       "      <th>good</th>\n",
       "      <th>is</th>\n",
       "      <th>movie</th>\n",
       "      <th>this</th>\n",
       "      <th>very</th>\n",
       "    </tr>\n",
       "  </thead>\n",
       "  <tbody>\n",
       "    <tr>\n",
       "      <th>0</th>\n",
       "      <td>0</td>\n",
       "      <td>0</td>\n",
       "      <td>0</td>\n",
       "      <td>1</td>\n",
       "      <td>1</td>\n",
       "      <td>1</td>\n",
       "      <td>1</td>\n",
       "      <td>1</td>\n",
       "    </tr>\n",
       "    <tr>\n",
       "      <th>1</th>\n",
       "      <td>1</td>\n",
       "      <td>0</td>\n",
       "      <td>1</td>\n",
       "      <td>1</td>\n",
       "      <td>1</td>\n",
       "      <td>0</td>\n",
       "      <td>1</td>\n",
       "      <td>0</td>\n",
       "    </tr>\n",
       "    <tr>\n",
       "      <th>2</th>\n",
       "      <td>0</td>\n",
       "      <td>2</td>\n",
       "      <td>0</td>\n",
       "      <td>0</td>\n",
       "      <td>0</td>\n",
       "      <td>0</td>\n",
       "      <td>0</td>\n",
       "      <td>3</td>\n",
       "    </tr>\n",
       "  </tbody>\n",
       "</table>\n",
       "</div>"
      ],
      "text/plain": [
       "   a  bad  film  good  is  movie  this  very\n",
       "0  0    0     0     1   1      1     1     1\n",
       "1  1    0     1     1   1      0     1     0\n",
       "2  0    2     0     0   0      0     0     3"
      ]
     },
     "metadata": {},
     "output_type": "display_data"
    }
   ],
   "source": [
    "import pandas as pd\n",
    "from sklearn.feature_extraction.text import CountVectorizer\n",
    "vectorizer = CountVectorizer(token_pattern=r'(?u)\\b\\w+\\b')\n",
    "bow = (vectorizer.fit_transform(mini_dataset)).toarray()\n",
    "# DataFrameにまとめる\n",
    "df = pd.DataFrame(bow, columns=vectorizer.get_feature_names())\n",
    "display(df)"
   ]
  },
  {
   "cell_type": "markdown",
   "id": "unavailable-edmonton",
   "metadata": {},
   "source": [
    "例にあげた3文の中で登場する8種類の単語が列名になり、0,1,2番目のサンプルでそれらが何回登場しているかを示しています。2番目のサンプル「Very bad. Very, very bad.」ではbadが2回、veryが3回登場しています。列名になっている言葉はデータセットが持つ **語彙** と呼びます。\n",
    "\n",
    "\n",
    "テキストはBoWにより各サンプルが語彙数の次元を持つ特徴量となり、機械学習モデルへ入力できるようになります。この時使用したテキスト全体のことを **コーパス** と呼びます。語彙はコーパスに含まれる言葉によって決まり、それを特徴量としてモデルの学習を行います。そのため、テストデータではじめて登場する語彙はベクトル化される際に無視されます。"
   ]
  },
  {
   "cell_type": "markdown",
   "id": "social-appendix",
   "metadata": {},
   "source": [
    "**<u>前処理</u>**\n",
    "\n",
    "CountVectorizerクラスでは大文字は小文字に揃えるという **前処理** が自動的に行われています。こういった前処理は自然言語処理において大切で、不要な記号などの消去（**テキストクリーニング**）や表記揺れの統一といったことを別途行うことが一般的です。\n",
    "\n",
    "\n",
    "語形が「see」「saw」「seen」のように変化する単語に対して語幹に揃える **ステミング** と呼ばれる処理を行うこともあります。"
   ]
  },
  {
   "cell_type": "markdown",
   "id": "sublime-burning",
   "metadata": {},
   "source": [
    "**<u>トークン</u>**\n",
    "\n",
    "BoWは厳密には単語を数えているのではなく、 **トークン（token）** として定めた固まりを数えます。\n",
    "\n",
    "\n",
    "何をトークンとするかはCountVectorizerでは引数token_patternで **正規表現** の記法により指定されます。デフォルトはr'(?u)\\b\\w\\w+\\b'ですが、上の例ではr'(?u)\\b\\w+\\b'としています。\n",
    "\n",
    "\n",
    "デフォルトでは空白・句読点・スラッシュなどに囲まれた2文字以上の文字を1つのトークンとして抜き出すようになっているため、「a」や「I」などがカウントされません。英語では1文字の単語は文章の特徴をあまり表さないため、除外されることもあります。しかし、上の例では1文字の単語もトークンとして抜き出すように引数を指定しています。"
   ]
  },
  {
   "cell_type": "markdown",
   "id": "composed-experiment",
   "metadata": {},
   "source": [
    "**<u>《正規表現》</u>**\n",
    "\n",
    "\n",
    "正規表現は前処理の際にも活用しますが、ここでは詳細は扱いません。Pythonではreモジュールによって正規表現操作ができます。\n",
    "\n",
    "\n",
    "[re — 正規表現操作](https://docs.python.org/ja/3/library/re.html)\n",
    "\n",
    "\n",
    "正規表現を利用する際はリアルタイムで結果を確認できる以下のようなサービスが便利です。\n",
    "\n",
    "\n",
    "[Online regex tester and debugger: PHP, PCRE, Python, Golang and JavaScript](https://regex101.com/)"
   ]
  },
  {
   "cell_type": "markdown",
   "id": "introductory-composition",
   "metadata": {},
   "source": [
    "**<u>形態素解析<u/>**\n",
    "    \n",
    "英語などの多くの言語では空白という分かりやすい基準でトークン化が行えますが、日本語ではそれが行えません。\n",
    "\n",
    "\n",
    "日本語では名詞や助詞、動詞のように異なる **品詞** で分けられる単位で **分かち書き** することになります。例えば「私はプログラミングを学びます」という日本語の文は「私/は/プログラミング/を/学び/ます」という風になります。\n",
    "\n",
    "\n",
    "これには **MeCab** や **Janome** のような形態素解析ツールを用います。Pythonから利用することも可能です。MeCabをウェブ上で簡単に利用できるWeb[茶まめ](http://chamame.ninjal.ac.jp/)というサービスも国立国語研究所が提供しています。\n",
    "\n",
    "\n",
    "自然言語では新しい言葉も日々生まれますので、それにどれだけ対応できるかも大切です。MeCab用の毎週更新される辞書として **mecab-ipadic-NEologd** がオープンソースで存在しています。\n",
    "\n",
    "\n",
    "[mecab-ipadic-neologd/README.ja.md at master · neologd/mecab-ipadic-neologd](https://github.com/neologd/mecab-ipadic-neologd/blob/master/README.ja.md)"
   ]
  },
  {
   "cell_type": "markdown",
   "id": "composed-essex",
   "metadata": {},
   "source": [
    "**<u>n-gram<u/>**\n",
    "    \n",
    "上のBoWの例では1つの単語（トークン）毎の登場回数を数えましたが、これでは語順はまったく考慮されていません。\n",
    "\n",
    "\n",
    "考慮するために、隣あう単語同士をまとめて扱う **n-gram** という考え方を適用することがあります。2つの単語をまとめる場合は **2-gram (bigram)** と呼び、次のようになります。"
   ]
  },
  {
   "cell_type": "code",
   "execution_count": 15,
   "id": "exterior-imperial",
   "metadata": {},
   "outputs": [
    {
     "data": {
      "text/html": [
       "<div>\n",
       "<style scoped>\n",
       "    .dataframe tbody tr th:only-of-type {\n",
       "        vertical-align: middle;\n",
       "    }\n",
       "\n",
       "    .dataframe tbody tr th {\n",
       "        vertical-align: top;\n",
       "    }\n",
       "\n",
       "    .dataframe thead th {\n",
       "        text-align: right;\n",
       "    }\n",
       "</style>\n",
       "<table border=\"1\" class=\"dataframe\">\n",
       "  <thead>\n",
       "    <tr style=\"text-align: right;\">\n",
       "      <th></th>\n",
       "      <th>a good</th>\n",
       "      <th>bad very</th>\n",
       "      <th>film is</th>\n",
       "      <th>is a</th>\n",
       "      <th>is very</th>\n",
       "      <th>movie is</th>\n",
       "      <th>this film</th>\n",
       "      <th>this movie</th>\n",
       "      <th>very bad</th>\n",
       "      <th>very good</th>\n",
       "      <th>very very</th>\n",
       "    </tr>\n",
       "  </thead>\n",
       "  <tbody>\n",
       "    <tr>\n",
       "      <th>0</th>\n",
       "      <td>0</td>\n",
       "      <td>0</td>\n",
       "      <td>0</td>\n",
       "      <td>0</td>\n",
       "      <td>1</td>\n",
       "      <td>1</td>\n",
       "      <td>0</td>\n",
       "      <td>1</td>\n",
       "      <td>0</td>\n",
       "      <td>1</td>\n",
       "      <td>0</td>\n",
       "    </tr>\n",
       "    <tr>\n",
       "      <th>1</th>\n",
       "      <td>1</td>\n",
       "      <td>0</td>\n",
       "      <td>1</td>\n",
       "      <td>1</td>\n",
       "      <td>0</td>\n",
       "      <td>0</td>\n",
       "      <td>1</td>\n",
       "      <td>0</td>\n",
       "      <td>0</td>\n",
       "      <td>0</td>\n",
       "      <td>0</td>\n",
       "    </tr>\n",
       "    <tr>\n",
       "      <th>2</th>\n",
       "      <td>0</td>\n",
       "      <td>1</td>\n",
       "      <td>0</td>\n",
       "      <td>0</td>\n",
       "      <td>0</td>\n",
       "      <td>0</td>\n",
       "      <td>0</td>\n",
       "      <td>0</td>\n",
       "      <td>2</td>\n",
       "      <td>0</td>\n",
       "      <td>1</td>\n",
       "    </tr>\n",
       "  </tbody>\n",
       "</table>\n",
       "</div>"
      ],
      "text/plain": [
       "   a good  bad very  film is  is a  is very  movie is  this film  this movie  \\\n",
       "0       0         0        0     0        1         1          0           1   \n",
       "1       1         0        1     1        0         0          1           0   \n",
       "2       0         1        0     0        0         0          0           0   \n",
       "\n",
       "   very bad  very good  very very  \n",
       "0         0          1          0  \n",
       "1         0          0          0  \n",
       "2         2          0          1  "
      ]
     },
     "metadata": {},
     "output_type": "display_data"
    }
   ],
   "source": [
    "# ngram_rangeで利用するn-gramの範囲を指定する\n",
    "vectorizer = CountVectorizer(ngram_range=(2, 2), token_pattern=r'(?u)\\b\\w+\\b')\n",
    "bow_train = (vectorizer.fit_transform(mini_dataset)).toarray()\n",
    "df = pd.DataFrame(bow_train, columns=vectorizer.get_feature_names())\n",
    "display(df)"
   ]
  },
  {
   "cell_type": "markdown",
   "id": "comprehensive-willow",
   "metadata": {},
   "source": [
    "2-gramにより「very good」と「very bad」が区別して数えられています。\n",
    "\n",
    "\n",
    "単語をまとめない場合は **1-gram (unigram)** と呼びます。3つまとめる3-gram(trigram)など任意の数を考えることができます。1-gramと2-gramを組み合わせてBoWを行うといったこともあります。"
   ]
  },
  {
   "cell_type": "markdown",
   "id": "regional-responsibility",
   "metadata": {},
   "source": [
    "## 【問題1】BoWのスクラッチ実装\n",
    "以下の3文のBoWを求められるプログラムをscikit-learnを使わずに作成してください。1-gramと2-gramで計算してください。\n",
    "\n",
    "This movie is SOOOO funny!!!\n",
    "\n",
    "What a movie! I never\n",
    "\n",
    "best movie ever!!!!! this movie"
   ]
  },
  {
   "cell_type": "code",
   "execution_count": 16,
   "id": "incoming-medicine",
   "metadata": {},
   "outputs": [],
   "source": [
    "import re # 正規表現操作\n",
    "import numpy as np\n",
    "import pandas as pd"
   ]
  },
  {
   "cell_type": "code",
   "execution_count": 17,
   "id": "reflected-poison",
   "metadata": {},
   "outputs": [],
   "source": [
    "def calc_bow(texts, gram=1):\n",
    "    \n",
    "    # 辞書を作成\n",
    "    vocabulary = []\n",
    "    if gram == 1: # 1-gramの時の処理\n",
    "        \n",
    "        for i in range(len(texts)):\n",
    "            \n",
    "            # 単語の分割\n",
    "            tokens = re.split(' ', texts[i])\n",
    "            # 辞書に追加\n",
    "            for token in tokens:\n",
    "                if token not in vocabulary:\n",
    "                    vocabulary.append(token)       \n",
    "                    \n",
    "    else: # 2-gramの時の処理\n",
    "        for i in range(len(texts)):\n",
    "            \n",
    "            # 単語の分割\n",
    "            tokens = re.split(' ', texts[i])\n",
    "            # 辞書に追加\n",
    "            for j in range(len(tokens) - 1):\n",
    "                vocabulary.append(tokens[j] + ' ' +tokens[j + 1])\n",
    "        vocabulary = list(set(vocabulary)) # 重複をなくす\n",
    "    \n",
    "    # bowを入れる箱を用意\n",
    "    bow = np.zeros([len(texts), len(vocabulary)])\n",
    "    \n",
    "    for i in range(len(texts)):\n",
    "        for j in range(len(vocabulary)):\n",
    "            bow[i][j] = texts[i].count(vocabulary[j])\n",
    "            \n",
    "    return vocabulary, bow"
   ]
  },
  {
   "cell_type": "code",
   "execution_count": 18,
   "id": "structural-arctic",
   "metadata": {},
   "outputs": [],
   "source": [
    "# 入力文のlist\n",
    "texts = [\n",
    "    'This movie is SOOOO funny!!!',\n",
    "    'What a movie! I never',\n",
    "    'best movie ever!!!!! this movie',\n",
    "]\n",
    "\n",
    "# 特殊文字（!）の除去、大文字の小文字化\n",
    "for i in range(len(texts)):\n",
    "    texts[i] = texts[i].lower()\n",
    "    texts[i] = texts[i].replace('!', '').replace('soooo', 'so') # 複数の文字列を置換"
   ]
  },
  {
   "cell_type": "markdown",
   "id": "protected-minimum",
   "metadata": {},
   "source": [
    "(参考記事)[Pythonで文字列を置換（replace, translate, re.sub, re.subn）](https://note.nkmk.me/python-str-replace-translate-re-sub/)"
   ]
  },
  {
   "cell_type": "code",
   "execution_count": 19,
   "id": "closed-albany",
   "metadata": {},
   "outputs": [
    {
     "data": {
      "text/plain": [
       "['this movie is so funny',\n",
       " 'what a movie i never',\n",
       " 'best movie ever this movie']"
      ]
     },
     "execution_count": 19,
     "metadata": {},
     "output_type": "execute_result"
    }
   ],
   "source": [
    "texts"
   ]
  },
  {
   "cell_type": "code",
   "execution_count": 20,
   "id": "broken-degree",
   "metadata": {},
   "outputs": [
    {
     "data": {
      "text/html": [
       "<div>\n",
       "<style scoped>\n",
       "    .dataframe tbody tr th:only-of-type {\n",
       "        vertical-align: middle;\n",
       "    }\n",
       "\n",
       "    .dataframe tbody tr th {\n",
       "        vertical-align: top;\n",
       "    }\n",
       "\n",
       "    .dataframe thead th {\n",
       "        text-align: right;\n",
       "    }\n",
       "</style>\n",
       "<table border=\"1\" class=\"dataframe\">\n",
       "  <thead>\n",
       "    <tr style=\"text-align: right;\">\n",
       "      <th></th>\n",
       "      <th>this</th>\n",
       "      <th>movie</th>\n",
       "      <th>is</th>\n",
       "      <th>so</th>\n",
       "      <th>funny</th>\n",
       "      <th>what</th>\n",
       "      <th>a</th>\n",
       "      <th>i</th>\n",
       "      <th>never</th>\n",
       "      <th>best</th>\n",
       "      <th>ever</th>\n",
       "    </tr>\n",
       "  </thead>\n",
       "  <tbody>\n",
       "    <tr>\n",
       "      <th>0</th>\n",
       "      <td>1</td>\n",
       "      <td>1</td>\n",
       "      <td>2</td>\n",
       "      <td>1</td>\n",
       "      <td>1</td>\n",
       "      <td>0</td>\n",
       "      <td>0</td>\n",
       "      <td>3</td>\n",
       "      <td>0</td>\n",
       "      <td>0</td>\n",
       "      <td>0</td>\n",
       "    </tr>\n",
       "    <tr>\n",
       "      <th>1</th>\n",
       "      <td>0</td>\n",
       "      <td>1</td>\n",
       "      <td>0</td>\n",
       "      <td>0</td>\n",
       "      <td>0</td>\n",
       "      <td>1</td>\n",
       "      <td>2</td>\n",
       "      <td>2</td>\n",
       "      <td>1</td>\n",
       "      <td>0</td>\n",
       "      <td>1</td>\n",
       "    </tr>\n",
       "    <tr>\n",
       "      <th>2</th>\n",
       "      <td>1</td>\n",
       "      <td>2</td>\n",
       "      <td>1</td>\n",
       "      <td>0</td>\n",
       "      <td>0</td>\n",
       "      <td>0</td>\n",
       "      <td>0</td>\n",
       "      <td>3</td>\n",
       "      <td>0</td>\n",
       "      <td>1</td>\n",
       "      <td>1</td>\n",
       "    </tr>\n",
       "  </tbody>\n",
       "</table>\n",
       "</div>"
      ],
      "text/plain": [
       "   this  movie  is  so  funny  what  a  i  never  best  ever\n",
       "0     1      1   2   1      1     0  0  3      0     0     0\n",
       "1     0      1   0   0      0     1  2  2      1     0     1\n",
       "2     1      2   1   0      0     0  0  3      0     1     1"
      ]
     },
     "execution_count": 20,
     "metadata": {},
     "output_type": "execute_result"
    }
   ],
   "source": [
    "# 1-gram\n",
    "\n",
    "vocabulary01, bow01 = calc_bow(texts, gram=1) # vocabulary01:list, bow01:ndarray\n",
    "pd.DataFrame(bow01, columns=vocabulary01).astype('int')"
   ]
  },
  {
   "cell_type": "code",
   "execution_count": 21,
   "id": "coastal-chess",
   "metadata": {},
   "outputs": [
    {
     "data": {
      "text/html": [
       "<div>\n",
       "<style scoped>\n",
       "    .dataframe tbody tr th:only-of-type {\n",
       "        vertical-align: middle;\n",
       "    }\n",
       "\n",
       "    .dataframe tbody tr th {\n",
       "        vertical-align: top;\n",
       "    }\n",
       "\n",
       "    .dataframe thead th {\n",
       "        text-align: right;\n",
       "    }\n",
       "</style>\n",
       "<table border=\"1\" class=\"dataframe\">\n",
       "  <thead>\n",
       "    <tr style=\"text-align: right;\">\n",
       "      <th></th>\n",
       "      <th>what a</th>\n",
       "      <th>movie ever</th>\n",
       "      <th>a movie</th>\n",
       "      <th>this movie</th>\n",
       "      <th>movie is</th>\n",
       "      <th>movie i</th>\n",
       "      <th>is so</th>\n",
       "      <th>best movie</th>\n",
       "      <th>ever this</th>\n",
       "      <th>i never</th>\n",
       "      <th>so funny</th>\n",
       "    </tr>\n",
       "  </thead>\n",
       "  <tbody>\n",
       "    <tr>\n",
       "      <th>0</th>\n",
       "      <td>0</td>\n",
       "      <td>0</td>\n",
       "      <td>0</td>\n",
       "      <td>1</td>\n",
       "      <td>1</td>\n",
       "      <td>1</td>\n",
       "      <td>1</td>\n",
       "      <td>0</td>\n",
       "      <td>0</td>\n",
       "      <td>0</td>\n",
       "      <td>1</td>\n",
       "    </tr>\n",
       "    <tr>\n",
       "      <th>1</th>\n",
       "      <td>1</td>\n",
       "      <td>0</td>\n",
       "      <td>1</td>\n",
       "      <td>0</td>\n",
       "      <td>0</td>\n",
       "      <td>1</td>\n",
       "      <td>0</td>\n",
       "      <td>0</td>\n",
       "      <td>0</td>\n",
       "      <td>1</td>\n",
       "      <td>0</td>\n",
       "    </tr>\n",
       "    <tr>\n",
       "      <th>2</th>\n",
       "      <td>0</td>\n",
       "      <td>1</td>\n",
       "      <td>0</td>\n",
       "      <td>1</td>\n",
       "      <td>0</td>\n",
       "      <td>0</td>\n",
       "      <td>0</td>\n",
       "      <td>1</td>\n",
       "      <td>1</td>\n",
       "      <td>0</td>\n",
       "      <td>0</td>\n",
       "    </tr>\n",
       "  </tbody>\n",
       "</table>\n",
       "</div>"
      ],
      "text/plain": [
       "   what a  movie ever  a movie  this movie  movie is  movie i  is so  \\\n",
       "0       0           0        0           1         1        1      1   \n",
       "1       1           0        1           0         0        1      0   \n",
       "2       0           1        0           1         0        0      0   \n",
       "\n",
       "   best movie  ever this  i never  so funny  \n",
       "0           0          0        0         1  \n",
       "1           0          0        1         0  \n",
       "2           1          1        0         0  "
      ]
     },
     "execution_count": 21,
     "metadata": {},
     "output_type": "execute_result"
    }
   ],
   "source": [
    "# 2-gram\n",
    "\n",
    "vocabulary02, bow02 = calc_bow(texts, gram=2) # vocabulary02:list, bow02:ndarray\n",
    "pd.DataFrame(bow02, columns=vocabulary02).astype('int')"
   ]
  },
  {
   "cell_type": "markdown",
   "id": "planned-night",
   "metadata": {},
   "source": [
    "## 6.TF-IDF\n",
    "\n",
    "BoWの発展的手法として **TF-IDF** もよく使われます。これは **Term Frequency (TF)** と **Inverse Document Frequency (IDF)** という2つの指標の組み合わせです。\n",
    "\n",
    "**<u>IDF</u>**\n",
    "\n",
    "IDFはそのトークンがデータセット内で珍しいほど値が大きくなる指標です。\n",
    "\n",
    "\n",
    "サンプル数 N をIMDB映画レビューデータセットの訓練データに合わせ25000として、トークンが出現するサンプル数 df(t) を変化させたグラフを確認してみると、次のようになります。"
   ]
  },
  {
   "cell_type": "code",
   "execution_count": 22,
   "id": "hearing-participation",
   "metadata": {},
   "outputs": [
    {
     "data": {
      "image/png": "[encoded data removed]",
      "text/plain": [
       "<Figure size 432x288 with 1 Axes>"
      ]
     },
     "metadata": {
      "needs_background": "light"
     },
     "output_type": "display_data"
    }
   ],
   "source": [
    "import numpy as np\n",
    "import matplotlib.pyplot as plt\n",
    "n_samples = 25000\n",
    "idf = np.log(n_samples/np.arange(1,n_samples))\n",
    "plt.title(\"IDF\")\n",
    "plt.xlabel(\"df(t)\")\n",
    "plt.ylabel(\"IDF\")\n",
    "plt.plot(idf)\n",
    "plt.show()"
   ]
  },
  {
   "cell_type": "markdown",
   "id": "republican-armor",
   "metadata": {},
   "source": [
    "TF-IDFではこの数を出現回数に掛け合わせるので、珍しいトークンの登場に重み付けを行なっていることになります。"
   ]
  },
  {
   "cell_type": "markdown",
   "id": "disabled-refund",
   "metadata": {},
   "source": [
    "**<u>ストップワード</u>**\n",
    "\n",
    "あまりにも頻繁に登場するトークンは、値を小さくするだけでなく、取り除くという前処理を加えることもあります。取り除くもののことを **ストップワード** と呼びます。既存のストップワード一覧を利用したり、しきい値によって求めたりします。\n",
    "\n",
    "\n",
    "scikit-learnのCountVectorizerでは引数stop_wordsにリストで指定することで処理を行なってくれます。"
   ]
  },
  {
   "cell_type": "code",
   "execution_count": 23,
   "id": "running-genealogy",
   "metadata": {},
   "outputs": [
    {
     "data": {
      "text/html": [
       "<div>\n",
       "<style scoped>\n",
       "    .dataframe tbody tr th:only-of-type {\n",
       "        vertical-align: middle;\n",
       "    }\n",
       "\n",
       "    .dataframe tbody tr th {\n",
       "        vertical-align: top;\n",
       "    }\n",
       "\n",
       "    .dataframe thead th {\n",
       "        text-align: right;\n",
       "    }\n",
       "</style>\n",
       "<table border=\"1\" class=\"dataframe\">\n",
       "  <thead>\n",
       "    <tr style=\"text-align: right;\">\n",
       "      <th></th>\n",
       "      <th>a</th>\n",
       "      <th>bad</th>\n",
       "      <th>film</th>\n",
       "      <th>good</th>\n",
       "      <th>movie</th>\n",
       "      <th>this</th>\n",
       "      <th>very</th>\n",
       "    </tr>\n",
       "  </thead>\n",
       "  <tbody>\n",
       "    <tr>\n",
       "      <th>0</th>\n",
       "      <td>0</td>\n",
       "      <td>0</td>\n",
       "      <td>0</td>\n",
       "      <td>1</td>\n",
       "      <td>1</td>\n",
       "      <td>1</td>\n",
       "      <td>1</td>\n",
       "    </tr>\n",
       "    <tr>\n",
       "      <th>1</th>\n",
       "      <td>1</td>\n",
       "      <td>0</td>\n",
       "      <td>1</td>\n",
       "      <td>1</td>\n",
       "      <td>0</td>\n",
       "      <td>1</td>\n",
       "      <td>0</td>\n",
       "    </tr>\n",
       "    <tr>\n",
       "      <th>2</th>\n",
       "      <td>0</td>\n",
       "      <td>2</td>\n",
       "      <td>0</td>\n",
       "      <td>0</td>\n",
       "      <td>0</td>\n",
       "      <td>0</td>\n",
       "      <td>3</td>\n",
       "    </tr>\n",
       "  </tbody>\n",
       "</table>\n",
       "</div>"
      ],
      "text/plain": [
       "   a  bad  film  good  movie  this  very\n",
       "0  0    0     0     1      1     1     1\n",
       "1  1    0     1     1      0     1     0\n",
       "2  0    2     0     0      0     0     3"
      ]
     },
     "metadata": {},
     "output_type": "display_data"
    }
   ],
   "source": [
    "vectorizer = CountVectorizer(stop_words=[\"is\"], token_pattern=r'\\b\\w+\\b')\n",
    "bow_train = (vectorizer.fit_transform(mini_dataset)).toarray()\n",
    "df = pd.DataFrame(bow_train, columns=vectorizer.get_feature_names())\n",
    "display(df)"
   ]
  },
  {
   "cell_type": "markdown",
   "id": "wicked-audit",
   "metadata": {},
   "source": [
    "代表的な既存のストップワード一覧としては、**NLTK** という自然言語処理のライブラリのものがあげられます。あるデータセットにおいては特別重要な意味を持つ単語が一覧に含まれている可能性もあるため、使用する際は中身を確認することが望ましいです。"
   ]
  },
  {
   "cell_type": "code",
   "execution_count": 24,
   "id": "mature-player",
   "metadata": {},
   "outputs": [
    {
     "name": "stdout",
     "output_type": "stream",
     "text": [
      "stop word : ['i', 'me', 'my', 'myself', 'we', 'our', 'ours', 'ourselves', 'you', \"you're\", \"you've\", \"you'll\", \"you'd\", 'your', 'yours', 'yourself', 'yourselves', 'he', 'him', 'his', 'himself', 'she', \"she's\", 'her', 'hers', 'herself', 'it', \"it's\", 'its', 'itself', 'they', 'them', 'their', 'theirs', 'themselves', 'what', 'which', 'who', 'whom', 'this', 'that', \"that'll\", 'these', 'those', 'am', 'is', 'are', 'was', 'were', 'be', 'been', 'being', 'have', 'has', 'had', 'having', 'do', 'does', 'did', 'doing', 'a', 'an', 'the', 'and', 'but', 'if', 'or', 'because', 'as', 'until', 'while', 'of', 'at', 'by', 'for', 'with', 'about', 'against', 'between', 'into', 'through', 'during', 'before', 'after', 'above', 'below', 'to', 'from', 'up', 'down', 'in', 'out', 'on', 'off', 'over', 'under', 'again', 'further', 'then', 'once', 'here', 'there', 'when', 'where', 'why', 'how', 'all', 'any', 'both', 'each', 'few', 'more', 'most', 'other', 'some', 'such', 'no', 'nor', 'not', 'only', 'own', 'same', 'so', 'than', 'too', 'very', 's', 't', 'can', 'will', 'just', 'don', \"don't\", 'should', \"should've\", 'now', 'd', 'll', 'm', 'o', 're', 've', 'y', 'ain', 'aren', \"aren't\", 'couldn', \"couldn't\", 'didn', \"didn't\", 'doesn', \"doesn't\", 'hadn', \"hadn't\", 'hasn', \"hasn't\", 'haven', \"haven't\", 'isn', \"isn't\", 'ma', 'mightn', \"mightn't\", 'mustn', \"mustn't\", 'needn', \"needn't\", 'shan', \"shan't\", 'shouldn', \"shouldn't\", 'wasn', \"wasn't\", 'weren', \"weren't\", 'won', \"won't\", 'wouldn', \"wouldn't\"]\n"
     ]
    },
    {
     "name": "stderr",
     "output_type": "stream",
     "text": [
      "[nltk_data] Downloading package stopwords to\n",
      "[nltk_data]     /Users/wuchuan/nltk_data...\n",
      "[nltk_data]   Package stopwords is already up-to-date!\n"
     ]
    }
   ],
   "source": [
    "# はじめて使う場合はストップワードをダウンロード\n",
    "import nltk\n",
    "stop_words = nltk.download('stopwords')\n",
    "from nltk.corpus import stopwords\n",
    "stop_words = stopwords.words('english')\n",
    "print(\"stop word : {}\".format(stop_words)) # 'i', 'me', 'my', ..."
   ]
  },
  {
   "cell_type": "markdown",
   "id": "returning-projector",
   "metadata": {},
   "source": [
    "逆に、登場回数が特に少ないトークンも取り除くことが多いです。すべてのトークンを用いるとベクトルの次元数が著しく大きくなってしまい計算コストが高まるためです。\n",
    "\n",
    "\n",
    "scikit-learnのCountVectorizerでは引数max_featuresに最大の語彙数を指定することで処理を行なってくれます。以下の例では出現数が多い順に5個でベクトル化しています。"
   ]
  },
  {
   "cell_type": "code",
   "execution_count": 25,
   "id": "devoted-zambia",
   "metadata": {},
   "outputs": [
    {
     "data": {
      "text/html": [
       "<div>\n",
       "<style scoped>\n",
       "    .dataframe tbody tr th:only-of-type {\n",
       "        vertical-align: middle;\n",
       "    }\n",
       "\n",
       "    .dataframe tbody tr th {\n",
       "        vertical-align: top;\n",
       "    }\n",
       "\n",
       "    .dataframe thead th {\n",
       "        text-align: right;\n",
       "    }\n",
       "</style>\n",
       "<table border=\"1\" class=\"dataframe\">\n",
       "  <thead>\n",
       "    <tr style=\"text-align: right;\">\n",
       "      <th></th>\n",
       "      <th>bad</th>\n",
       "      <th>good</th>\n",
       "      <th>is</th>\n",
       "      <th>this</th>\n",
       "      <th>very</th>\n",
       "    </tr>\n",
       "  </thead>\n",
       "  <tbody>\n",
       "    <tr>\n",
       "      <th>0</th>\n",
       "      <td>0</td>\n",
       "      <td>1</td>\n",
       "      <td>1</td>\n",
       "      <td>1</td>\n",
       "      <td>1</td>\n",
       "    </tr>\n",
       "    <tr>\n",
       "      <th>1</th>\n",
       "      <td>0</td>\n",
       "      <td>1</td>\n",
       "      <td>1</td>\n",
       "      <td>1</td>\n",
       "      <td>0</td>\n",
       "    </tr>\n",
       "    <tr>\n",
       "      <th>2</th>\n",
       "      <td>2</td>\n",
       "      <td>0</td>\n",
       "      <td>0</td>\n",
       "      <td>0</td>\n",
       "      <td>3</td>\n",
       "    </tr>\n",
       "  </tbody>\n",
       "</table>\n",
       "</div>"
      ],
      "text/plain": [
       "   bad  good  is  this  very\n",
       "0    0     1   1     1     1\n",
       "1    0     1   1     1     0\n",
       "2    2     0   0     0     3"
      ]
     },
     "metadata": {},
     "output_type": "display_data"
    }
   ],
   "source": [
    "vectorizer = CountVectorizer(token_pattern=r'\\b\\w+\\b', max_features = 5)\n",
    "bow_train = (vectorizer.fit_transform(mini_dataset)).toarray()\n",
    "df = pd.DataFrame(bow_train, columns=vectorizer.get_feature_names())\n",
    "display(df)"
   ]
  },
  {
   "cell_type": "markdown",
   "id": "corresponding-blues",
   "metadata": {},
   "source": [
    "## 【問題2】TF-IDFの計算\n",
    "IMDB映画レビューデータセットをTF-IDFによりベクトル化してください。NLTKのストップワードを利用し、最大の語彙数は5000程度に設定してください。テキストクリーニングやステミングなどの前処理はこの問題では要求しません。\n",
    "\n",
    "\n",
    "TF-IDFの計算にはscikit-learnの以下のどちらかのクラスを使用してください。\n",
    "\n",
    "\n",
    "[sklearn.feature_extraction.text.TfidfVectorizer — scikit-learn 0.21.3 documentation](https://scikit-learn.org/stable/modules/generated/sklearn.feature_extraction.text.TfidfVectorizer.html)\n",
    "[sklearn.feature_extraction.text.TfidfTransformer — scikit-learn 0.21.3 documentation](https://scikit-learn.org/stable/modules/generated/sklearn.feature_extraction.text.TfidfTransformer.html)\n",
    "\n",
    "\n",
    "なお、scikit-learnでは標準的な式とは異なる式が採用されています。\n",
    "\n",
    "\n",
    "また、デフォルトではnorm=\"l2\"の引数が設定されており、各サンプルにL2正規化が行われます。norm=Noneとすることで正規化は行われなくなります。\n",
    "\n",
    "詳細は以下のドキュメントを確認してください。\n",
    "\n",
    "\n",
    "[5.2.3.4. Tf–idf term weighting — scikit-learn 0.21.3 documentation](https://scikit-learn.org/stable/modules/feature_extraction.html#tfidf-term-weighting)\n"
   ]
  },
  {
   "cell_type": "code",
   "execution_count": 26,
   "id": "relative-cambridge",
   "metadata": {},
   "outputs": [],
   "source": [
    "from sklearn.feature_extraction.text import TfidfVectorizer"
   ]
  },
  {
   "cell_type": "code",
   "execution_count": 27,
   "id": "solved-silence",
   "metadata": {},
   "outputs": [],
   "source": [
    "# NLTKのストップワードを利用,最大の語彙数は5000,1-gram(ユニグラム)\n",
    "\n",
    "vectorizer = TfidfVectorizer(stop_words=stop_words, max_features=5000, ngram_range=(1,1))\n",
    "vectorizer.fit(x_train)\n",
    "tfidf = vectorizer.transform(x_train)"
   ]
  },
  {
   "cell_type": "code",
   "execution_count": 28,
   "id": "soviet-facing",
   "metadata": {},
   "outputs": [
    {
     "data": {
      "text/plain": [
       "(25000, 5000)"
      ]
     },
     "execution_count": 28,
     "metadata": {},
     "output_type": "execute_result"
    }
   ],
   "source": [
    "tfidf.shape"
   ]
  },
  {
   "cell_type": "code",
   "execution_count": 16,
   "id": "widespread-korea",
   "metadata": {},
   "outputs": [
    {
     "name": "stdout",
     "output_type": "stream",
     "text": [
      "  (0, 4995)\t0.13693218984506625\n",
      "  (0, 4992)\t0.16450474907891674\n",
      "  (0, 4964)\t0.05425587149266504\n",
      "  (0, 4953)\t0.08074683081159045\n",
      "  (0, 4746)\t0.308028981096096\n",
      "  (0, 4639)\t0.20047008228549903\n",
      "  (0, 4515)\t0.05242790153478025\n",
      "  (0, 4474)\t0.12903114072897479\n",
      "  (0, 4444)\t0.10041129167597974\n",
      "  (0, 4443)\t0.26258748459210246\n",
      "  (0, 4316)\t0.28032537429141946\n",
      "  (0, 4045)\t0.14959008783968586\n",
      "  (0, 3884)\t0.05436294092381457\n",
      "  (0, 3635)\t0.14016268714570973\n",
      "  (0, 3436)\t0.14650744967796336\n",
      "  (0, 3236)\t0.09997509327067182\n",
      "  (0, 3136)\t0.11230006872388465\n",
      "  (0, 2967)\t0.08158447663501085\n",
      "  (0, 2942)\t0.03808395521159995\n",
      "  (0, 2932)\t0.16717269022616268\n",
      "  (0, 2907)\t0.09052589699629517\n",
      "  (0, 2821)\t0.09945392614500648\n",
      "  (0, 2609)\t0.130786432007285\n",
      "  (0, 2554)\t0.11722257815761256\n",
      "  (0, 2199)\t0.14375695703613686\n",
      "  :\t:\n",
      "  (24999, 903)\t0.05134792680613674\n",
      "  (24999, 902)\t0.10018930373060742\n",
      "  (24999, 814)\t0.0817152568819128\n",
      "  (24999, 765)\t0.03934671110080626\n",
      "  (24999, 721)\t0.07539525933092615\n",
      "  (24999, 715)\t0.08541427201023195\n",
      "  (24999, 713)\t0.058562396956036\n",
      "  (24999, 709)\t0.0953403053218371\n",
      "  (24999, 690)\t0.06477737895096194\n",
      "  (24999, 636)\t0.500589076316356\n",
      "  (24999, 603)\t0.06827665652722346\n",
      "  (24999, 592)\t0.06880023337454069\n",
      "  (24999, 562)\t0.045688488987360165\n",
      "  (24999, 480)\t0.04744171588824864\n",
      "  (24999, 378)\t0.057361284810144936\n",
      "  (24999, 356)\t0.05408216396371426\n",
      "  (24999, 343)\t0.09172850719752176\n",
      "  (24999, 326)\t0.07731079927955417\n",
      "  (24999, 285)\t0.06667267378622241\n",
      "  (24999, 274)\t0.10634148122847231\n",
      "  (24999, 266)\t0.050234486085227834\n",
      "  (24999, 207)\t0.10518196056440303\n",
      "  (24999, 198)\t0.0802090671695495\n",
      "  (24999, 114)\t0.043681022437253296\n",
      "  (24999, 81)\t0.05801418974130403\n"
     ]
    }
   ],
   "source": [
    "print(tfidf)"
   ]
  },
  {
   "cell_type": "code",
   "execution_count": 29,
   "id": "fiscal-iraqi",
   "metadata": {},
   "outputs": [],
   "source": [
    "# NLTKのストップワードを利用,最大の語彙数は5000,2-gram(バイグラム)\n",
    "\n",
    "vectorizer02 = TfidfVectorizer(stop_words=stop_words, max_features=5000, ngram_range=(2,2))\n",
    "vectorizer02.fit(x_train)\n",
    "tfidf02 = vectorizer02.transform(x_train)"
   ]
  },
  {
   "cell_type": "code",
   "execution_count": 30,
   "id": "advanced-venice",
   "metadata": {},
   "outputs": [
    {
     "data": {
      "text/plain": [
       "(25000, 5000)"
      ]
     },
     "execution_count": 30,
     "metadata": {},
     "output_type": "execute_result"
    }
   ],
   "source": [
    "tfidf02.shape"
   ]
  },
  {
   "cell_type": "code",
   "execution_count": 19,
   "id": "happy-philippines",
   "metadata": {},
   "outputs": [
    {
     "name": "stdout",
     "output_type": "stream",
     "text": [
      "  (0, 4997)\t0.31653922339677404\n",
      "  (0, 4989)\t0.2779033727913634\n",
      "  (0, 4608)\t0.26971915725466644\n",
      "  (0, 4387)\t0.2917543309605415\n",
      "  (0, 3936)\t0.2404561601582769\n",
      "  (0, 3472)\t0.28908290834664513\n",
      "  (0, 2792)\t0.2842264967855029\n",
      "  (0, 1489)\t0.27600167531027925\n",
      "  (0, 1416)\t0.2624972017390703\n",
      "  (0, 1358)\t0.29770717276538994\n",
      "  (0, 1355)\t0.24585376050536575\n",
      "  (0, 1237)\t0.26716271611356407\n",
      "  (0, 522)\t0.12147801672247782\n",
      "  (0, 418)\t0.2494847977201336\n",
      "  (1, 4844)\t0.27189140896566394\n",
      "  (1, 4828)\t0.2184535401771622\n",
      "  (1, 4477)\t0.21450815953193705\n",
      "  (1, 3732)\t0.27189140896566394\n",
      "  (1, 3270)\t0.24045272550203134\n",
      "  (1, 3080)\t0.2371858664845659\n",
      "  (1, 3064)\t0.16410798627320972\n",
      "  (1, 2960)\t0.1795463198210764\n",
      "  (1, 2895)\t0.1883924218177699\n",
      "  (1, 2687)\t0.18961676835650954\n",
      "  (1, 2598)\t0.26989585745590045\n",
      "  :\t:\n",
      "  (24998, 522)\t0.15453030367840245\n",
      "  (24999, 4867)\t0.17625756109686727\n",
      "  (24999, 3905)\t0.14997526782288825\n",
      "  (24999, 3693)\t0.2302370792703867\n",
      "  (24999, 3513)\t0.23955174851445424\n",
      "  (24999, 3447)\t0.17154503975854504\n",
      "  (24999, 3089)\t0.22312305662766305\n",
      "  (24999, 2930)\t0.18869070042516944\n",
      "  (24999, 2859)\t0.21979078690395756\n",
      "  (24999, 2757)\t0.19153276272764794\n",
      "  (24999, 2275)\t0.19439518467508243\n",
      "  (24999, 2256)\t0.3713607973777533\n",
      "  (24999, 2120)\t0.1554857623633538\n",
      "  (24999, 2114)\t0.20212546965938114\n",
      "  (24999, 2112)\t0.22608082997453305\n",
      "  (24999, 1672)\t0.16669251595760937\n",
      "  (24999, 1620)\t0.2185541615461723\n",
      "  (24999, 1534)\t0.18350862688499356\n",
      "  (24999, 1280)\t0.15858526949642032\n",
      "  (24999, 831)\t0.2050832430062511\n",
      "  (24999, 522)\t0.04645097523479676\n",
      "  (24999, 506)\t0.20587012139239022\n",
      "  (24999, 272)\t0.21795427828831052\n",
      "  (24999, 239)\t0.18077766937335138\n",
      "  (24999, 183)\t0.20793167275270252\n"
     ]
    }
   ],
   "source": [
    "print(tfidf02)"
   ]
  },
  {
   "cell_type": "markdown",
   "id": "central-durham",
   "metadata": {},
   "source": [
    "## 【問題3】TF-IDFを用いた学習\n",
    "\n",
    "問題2で求めたベクトルを用いてIMDB映画レビューデータセットの学習・推定を行なってください。モデルは2値分類が行える任意のものを利用してください。\n",
    "\n",
    "\n",
    "ここでは精度の高さは求めませんが、最大の語彙数やストップワード、n-gramの数を変化させて影響を検証してみてください。"
   ]
  },
  {
   "cell_type": "code",
   "execution_count": 31,
   "id": "dying-atlantic",
   "metadata": {},
   "outputs": [],
   "source": [
    "from sklearn.model_selection import train_test_split\n",
    "from sklearn.svm import SVC\n",
    "from sklearn.metrics import accuracy_score"
   ]
  },
  {
   "cell_type": "markdown",
   "id": "legendary-vault",
   "metadata": {},
   "source": [
    "**NLTKのストップワード,最大語彙数5000,1-gram(ユニグラム)で学習・推定**"
   ]
  },
  {
   "cell_type": "code",
   "execution_count": 33,
   "id": "joined-housing",
   "metadata": {},
   "outputs": [
    {
     "name": "stdout",
     "output_type": "stream",
     "text": [
      "X_train.shape:  (20000, 5000)\n",
      "X_val.shape:  (5000, 5000)\n",
      "y_train.shape:  (20000,)\n",
      "y_val.shape:  (5000,)\n"
     ]
    }
   ],
   "source": [
    "# データ分割\n",
    "X_train, X_val, y_train, y_val = train_test_split(tfidf, y_train, test_size=0.2)\n",
    "print('X_train.shape: ', X_train.shape)\n",
    "print('X_val.shape: ', X_val.shape)\n",
    "print('y_train.shape: ', y_train.shape)\n",
    "print('y_val.shape: ', y_val.shape)"
   ]
  },
  {
   "cell_type": "code",
   "execution_count": 34,
   "id": "medieval-canon",
   "metadata": {},
   "outputs": [],
   "source": [
    "# SVMによる学習・推定\n",
    "\n",
    "classifier = SVC()\n",
    "classifier.fit(X_train, y_train)\n",
    "y_pred01 = classifier.predict(X_val)"
   ]
  },
  {
   "cell_type": "code",
   "execution_count": 36,
   "id": "different-outline",
   "metadata": {},
   "outputs": [
    {
     "data": {
      "text/plain": [
       "0.889"
      ]
     },
     "execution_count": 36,
     "metadata": {},
     "output_type": "execute_result"
    }
   ],
   "source": [
    "# 正解率\n",
    "\n",
    "accuracy_score(y_pred01, y_val)"
   ]
  },
  {
   "cell_type": "markdown",
   "id": "historical-evolution",
   "metadata": {},
   "source": [
    "**NLTKのストップワード,最大語彙数100,1-gram(ユニグラム)で学習・推定**"
   ]
  },
  {
   "cell_type": "code",
   "execution_count": 57,
   "id": "editorial-prefix",
   "metadata": {},
   "outputs": [],
   "source": [
    "# データ再読込み\n",
    "x_train, y_train = train_review.data, train_review.target\n",
    "x_test, y_test = test_review.data, test_review.target"
   ]
  },
  {
   "cell_type": "code",
   "execution_count": 58,
   "id": "afraid-montreal",
   "metadata": {},
   "outputs": [],
   "source": [
    "vectorizer_100 = TfidfVectorizer(stop_words=stop_words, max_features=100, ngram_range=(1,1))\n",
    "tfidf_100 = vectorizer_100.fit_transform(x_train)"
   ]
  },
  {
   "cell_type": "code",
   "execution_count": 59,
   "id": "convenient-substance",
   "metadata": {},
   "outputs": [
    {
     "name": "stdout",
     "output_type": "stream",
     "text": [
      "X_train.shape:  (20000, 100)\n",
      "X_val.shape:  (5000, 100)\n",
      "y_train.shape:  (20000,)\n",
      "y_val.shape:  (5000,)\n"
     ]
    }
   ],
   "source": [
    "# データ分割\n",
    "X_train, X_val, y_train, y_val = train_test_split(tfidf_100, y_train, test_size=0.2)\n",
    "print('X_train.shape: ', X_train.shape)\n",
    "print('X_val.shape: ', X_val.shape)\n",
    "print('y_train.shape: ', y_train.shape)\n",
    "print('y_val.shape: ', y_val.shape)"
   ]
  },
  {
   "cell_type": "code",
   "execution_count": 60,
   "id": "variable-filing",
   "metadata": {},
   "outputs": [],
   "source": [
    "# SVMによる学習・推定\n",
    "\n",
    "classifier02 = SVC()\n",
    "classifier02.fit(X_train, y_train)\n",
    "y_pred02 = classifier02.predict(X_val)"
   ]
  },
  {
   "cell_type": "code",
   "execution_count": 61,
   "id": "neural-label",
   "metadata": {},
   "outputs": [
    {
     "data": {
      "text/plain": [
       "0.738"
      ]
     },
     "execution_count": 61,
     "metadata": {},
     "output_type": "execute_result"
    }
   ],
   "source": [
    "# 正解率\n",
    "\n",
    "accuracy_score(y_pred02, y_val)"
   ]
  },
  {
   "cell_type": "markdown",
   "id": "exposed-picture",
   "metadata": {},
   "source": [
    "**NLTKのストップワード,最大語彙数100,2-gram(バイグラム)で学習・推定**"
   ]
  },
  {
   "cell_type": "code",
   "execution_count": 62,
   "id": "existing-convention",
   "metadata": {},
   "outputs": [],
   "source": [
    "# データ再読込み\n",
    "x_train, y_train = train_review.data, train_review.target\n",
    "x_test, y_test = test_review.data, test_review.target"
   ]
  },
  {
   "cell_type": "code",
   "execution_count": 63,
   "id": "unable-cover",
   "metadata": {},
   "outputs": [],
   "source": [
    "vectorizer_100_2 = TfidfVectorizer(stop_words=stop_words, max_features=100, ngram_range=(2,2))\n",
    "tfidf_100_2 = vectorizer_100_2.fit_transform(x_train)"
   ]
  },
  {
   "cell_type": "code",
   "execution_count": 64,
   "id": "congressional-retention",
   "metadata": {},
   "outputs": [
    {
     "name": "stdout",
     "output_type": "stream",
     "text": [
      "X_train.shape:  (20000, 100)\n",
      "X_val.shape:  (5000, 100)\n",
      "y_train.shape:  (20000,)\n",
      "y_val.shape:  (5000,)\n"
     ]
    }
   ],
   "source": [
    "# データ分割\n",
    "X_train, X_val, y_train, y_val = train_test_split(tfidf_100_2, y_train, test_size=0.2)\n",
    "print('X_train.shape: ', X_train.shape)\n",
    "print('X_val.shape: ', X_val.shape)\n",
    "print('y_train.shape: ', y_train.shape)\n",
    "print('y_val.shape: ', y_val.shape)"
   ]
  },
  {
   "cell_type": "code",
   "execution_count": 65,
   "id": "postal-nudist",
   "metadata": {},
   "outputs": [],
   "source": [
    "# SVMによる学習・推定\n",
    "\n",
    "classifier03 = SVC()\n",
    "classifier03.fit(X_train, y_train)\n",
    "y_pred03 = classifier03.predict(X_val)"
   ]
  },
  {
   "cell_type": "code",
   "execution_count": 66,
   "id": "accompanied-arnold",
   "metadata": {},
   "outputs": [
    {
     "data": {
      "text/plain": [
       "0.6476"
      ]
     },
     "execution_count": 66,
     "metadata": {},
     "output_type": "execute_result"
    }
   ],
   "source": [
    "# 正解率\n",
    "\n",
    "accuracy_score(y_pred03, y_val)"
   ]
  },
  {
   "cell_type": "markdown",
   "id": "worth-aquatic",
   "metadata": {},
   "source": [
    "**ストップワード無し,最大語彙数100,2-gram(バイグラム)で学習・推定**"
   ]
  },
  {
   "cell_type": "code",
   "execution_count": 67,
   "id": "orange-apparatus",
   "metadata": {},
   "outputs": [],
   "source": [
    "# データ再読込み\n",
    "x_train, y_train = train_review.data, train_review.target\n",
    "x_test, y_test = test_review.data, test_review.target"
   ]
  },
  {
   "cell_type": "code",
   "execution_count": 68,
   "id": "innocent-fantasy",
   "metadata": {},
   "outputs": [],
   "source": [
    "vectorizer_100_3 = TfidfVectorizer(max_features=100, ngram_range=(2,2))\n",
    "tfidf_100_3 = vectorizer_100_3.fit_transform(x_train)"
   ]
  },
  {
   "cell_type": "code",
   "execution_count": 69,
   "id": "protecting-whole",
   "metadata": {},
   "outputs": [
    {
     "name": "stdout",
     "output_type": "stream",
     "text": [
      "X_train.shape:  (20000, 100)\n",
      "X_val.shape:  (5000, 100)\n",
      "y_train.shape:  (20000,)\n",
      "y_val.shape:  (5000,)\n"
     ]
    }
   ],
   "source": [
    "# データ分割\n",
    "X_train, X_val, y_train, y_val = train_test_split(tfidf_100_3, y_train, test_size=0.2)\n",
    "print('X_train.shape: ', X_train.shape)\n",
    "print('X_val.shape: ', X_val.shape)\n",
    "print('y_train.shape: ', y_train.shape)\n",
    "print('y_val.shape: ', y_val.shape)"
   ]
  },
  {
   "cell_type": "code",
   "execution_count": 71,
   "id": "subject-physics",
   "metadata": {},
   "outputs": [],
   "source": [
    "# SVMによる学習・推定\n",
    "\n",
    "classifier04 = SVC()\n",
    "classifier04.fit(X_train, y_train)\n",
    "y_pred04 = classifier04.predict(X_val)"
   ]
  },
  {
   "cell_type": "code",
   "execution_count": 72,
   "id": "worldwide-deadline",
   "metadata": {},
   "outputs": [
    {
     "data": {
      "text/plain": [
       "0.6748"
      ]
     },
     "execution_count": 72,
     "metadata": {},
     "output_type": "execute_result"
    }
   ],
   "source": [
    "# 正解率\n",
    "\n",
    "accuracy_score(y_pred04, y_val)"
   ]
  },
  {
   "cell_type": "markdown",
   "id": "characteristic-running",
   "metadata": {},
   "source": [
    "## 【問題4】TF-IDFのスクラッチ実装\n",
    "\n",
    "以下の3文のTF-IDFを求められるプログラムをscikit-learnを使わずに作成してください。標準的な式と、scikit-learnの採用している式の2種類を作成してください。正規化は不要です。\n",
    "\n",
    "This movie is SOOOO funny!!!\n",
    "\n",
    "What a movie! I never\n",
    "\n",
    "best movie ever!!!!! this movie"
   ]
  },
  {
   "cell_type": "markdown",
   "id": "informal-arthritis",
   "metadata": {},
   "source": [
    "**標準的なTF-IDFの式で実装**"
   ]
  },
  {
   "cell_type": "code",
   "execution_count": 32,
   "id": "convertible-purse",
   "metadata": {},
   "outputs": [],
   "source": [
    "def calc_tfidf(texts, gram=1):\n",
    "    \n",
    "    # 辞書を作成\n",
    "    vocabulary = []\n",
    "    if gram == 1: # 1-gramの時の処理\n",
    "        \n",
    "        for i in range(len(texts)):\n",
    "            \n",
    "            # 単語の分割\n",
    "            tokens = re.split(' ', texts[i])\n",
    "            # 辞書に追加\n",
    "            for token in tokens:\n",
    "                if token not in vocabulary:\n",
    "                    vocabulary.append(token)       \n",
    "                    \n",
    "    else: # 2-gramの時の処理\n",
    "        for i in range(len(texts)):\n",
    "            \n",
    "            # 単語の分割\n",
    "            tokens = re.split(' ', texts[i])\n",
    "            # 辞書に追加\n",
    "            for j in range(len(tokens) - 1):\n",
    "                vocabulary.append(tokens[j] + ' ' +tokens[j + 1])\n",
    "        vocabulary = list(set(vocabulary)) # 重複をなくす\n",
    "    \n",
    "    # tfidfを入れる箱を用意\n",
    "    tfidf = np.zeros([len(texts), len(vocabulary)])\n",
    "    \n",
    "    for i in range(len(texts)):\n",
    "        for j in range(len(vocabulary)):\n",
    "            tf = texts[i].count(vocabulary[j]) / len(re.split(' ', texts[i]))\n",
    "            df = 0\n",
    "            for text in texts:\n",
    "                df += 1 if vocabulary[j] in text else 0\n",
    "            idf = np.log(len(texts) / (df + 1)) # IDfの分母が0になることを防ぐため1を足す           \n",
    "            tfidf[i][j] = tf*idf\n",
    "            \n",
    "    return vocabulary, tfidf"
   ]
  },
  {
   "cell_type": "markdown",
   "id": "nervous-soldier",
   "metadata": {},
   "source": [
    "(参考記事)[自然言語処理の基礎であるTF-IDFの計算方法とPythonによる実装方法を解説](https://note.com/shimakaze_soft/n/n6e92d1a4851b)"
   ]
  },
  {
   "cell_type": "code",
   "execution_count": 33,
   "id": "extreme-works",
   "metadata": {},
   "outputs": [],
   "source": [
    "# 入力文のlist\n",
    "texts = [\n",
    "    'This movie is SOOOO funny!!!',\n",
    "    'What a movie! I never',\n",
    "    'best movie ever!!!!! this movie',\n",
    "]\n",
    "\n",
    "# 特殊文字（!）の除去、大文字の小文字化\n",
    "for i in range(len(texts)):\n",
    "    texts[i] = texts[i].lower()\n",
    "    texts[i] = texts[i].replace('!', '').replace('soooo', 'so') # 複数の文字列を置換"
   ]
  },
  {
   "cell_type": "code",
   "execution_count": 34,
   "id": "floating-distribution",
   "metadata": {},
   "outputs": [
    {
     "data": {
      "text/plain": [
       "['this movie is so funny',\n",
       " 'what a movie i never',\n",
       " 'best movie ever this movie']"
      ]
     },
     "execution_count": 34,
     "metadata": {},
     "output_type": "execute_result"
    }
   ],
   "source": [
    "texts"
   ]
  },
  {
   "cell_type": "code",
   "execution_count": 83,
   "id": "roman-latex",
   "metadata": {},
   "outputs": [
    {
     "data": {
      "text/html": [
       "<div>\n",
       "<style scoped>\n",
       "    .dataframe tbody tr th:only-of-type {\n",
       "        vertical-align: middle;\n",
       "    }\n",
       "\n",
       "    .dataframe tbody tr th {\n",
       "        vertical-align: top;\n",
       "    }\n",
       "\n",
       "    .dataframe thead th {\n",
       "        text-align: right;\n",
       "    }\n",
       "</style>\n",
       "<table border=\"1\" class=\"dataframe\">\n",
       "  <thead>\n",
       "    <tr style=\"text-align: right;\">\n",
       "      <th></th>\n",
       "      <th>this</th>\n",
       "      <th>movie</th>\n",
       "      <th>is</th>\n",
       "      <th>so</th>\n",
       "      <th>funny</th>\n",
       "      <th>what</th>\n",
       "      <th>a</th>\n",
       "      <th>i</th>\n",
       "      <th>never</th>\n",
       "      <th>best</th>\n",
       "      <th>ever</th>\n",
       "    </tr>\n",
       "  </thead>\n",
       "  <tbody>\n",
       "    <tr>\n",
       "      <th>0</th>\n",
       "      <td>0.0</td>\n",
       "      <td>-0.057536</td>\n",
       "      <td>0.0</td>\n",
       "      <td>0.081093</td>\n",
       "      <td>0.081093</td>\n",
       "      <td>0.000000</td>\n",
       "      <td>0.000000</td>\n",
       "      <td>-0.172609</td>\n",
       "      <td>0.000000</td>\n",
       "      <td>0.000000</td>\n",
       "      <td>0.0</td>\n",
       "    </tr>\n",
       "    <tr>\n",
       "      <th>1</th>\n",
       "      <td>0.0</td>\n",
       "      <td>-0.057536</td>\n",
       "      <td>0.0</td>\n",
       "      <td>0.000000</td>\n",
       "      <td>0.000000</td>\n",
       "      <td>0.081093</td>\n",
       "      <td>0.162186</td>\n",
       "      <td>-0.115073</td>\n",
       "      <td>0.081093</td>\n",
       "      <td>0.000000</td>\n",
       "      <td>0.0</td>\n",
       "    </tr>\n",
       "    <tr>\n",
       "      <th>2</th>\n",
       "      <td>0.0</td>\n",
       "      <td>-0.115073</td>\n",
       "      <td>0.0</td>\n",
       "      <td>0.000000</td>\n",
       "      <td>0.000000</td>\n",
       "      <td>0.000000</td>\n",
       "      <td>0.000000</td>\n",
       "      <td>-0.172609</td>\n",
       "      <td>0.000000</td>\n",
       "      <td>0.081093</td>\n",
       "      <td>0.0</td>\n",
       "    </tr>\n",
       "  </tbody>\n",
       "</table>\n",
       "</div>"
      ],
      "text/plain": [
       "   this     movie   is        so     funny      what         a         i  \\\n",
       "0   0.0 -0.057536  0.0  0.081093  0.081093  0.000000  0.000000 -0.172609   \n",
       "1   0.0 -0.057536  0.0  0.000000  0.000000  0.081093  0.162186 -0.115073   \n",
       "2   0.0 -0.115073  0.0  0.000000  0.000000  0.000000  0.000000 -0.172609   \n",
       "\n",
       "      never      best  ever  \n",
       "0  0.000000  0.000000   0.0  \n",
       "1  0.081093  0.000000   0.0  \n",
       "2  0.000000  0.081093   0.0  "
      ]
     },
     "execution_count": 83,
     "metadata": {},
     "output_type": "execute_result"
    }
   ],
   "source": [
    "# 1-gram\n",
    "\n",
    "vocabulary01, tfidf01 = calc_tfidf(texts, gram=1) # vocabulary01:list, bow01:ndarray\n",
    "pd.DataFrame(tfidf01, columns=vocabulary01)"
   ]
  },
  {
   "cell_type": "code",
   "execution_count": 84,
   "id": "joint-surface",
   "metadata": {},
   "outputs": [
    {
     "data": {
      "text/html": [
       "<div>\n",
       "<style scoped>\n",
       "    .dataframe tbody tr th:only-of-type {\n",
       "        vertical-align: middle;\n",
       "    }\n",
       "\n",
       "    .dataframe tbody tr th {\n",
       "        vertical-align: top;\n",
       "    }\n",
       "\n",
       "    .dataframe thead th {\n",
       "        text-align: right;\n",
       "    }\n",
       "</style>\n",
       "<table border=\"1\" class=\"dataframe\">\n",
       "  <thead>\n",
       "    <tr style=\"text-align: right;\">\n",
       "      <th></th>\n",
       "      <th>i never</th>\n",
       "      <th>ever this</th>\n",
       "      <th>is so</th>\n",
       "      <th>what a</th>\n",
       "      <th>movie ever</th>\n",
       "      <th>best movie</th>\n",
       "      <th>a movie</th>\n",
       "      <th>this movie</th>\n",
       "      <th>movie i</th>\n",
       "      <th>movie is</th>\n",
       "      <th>so funny</th>\n",
       "    </tr>\n",
       "  </thead>\n",
       "  <tbody>\n",
       "    <tr>\n",
       "      <th>0</th>\n",
       "      <td>0.000000</td>\n",
       "      <td>0.000000</td>\n",
       "      <td>0.081093</td>\n",
       "      <td>0.000000</td>\n",
       "      <td>0.000000</td>\n",
       "      <td>0.000000</td>\n",
       "      <td>0.000000</td>\n",
       "      <td>0.0</td>\n",
       "      <td>0.0</td>\n",
       "      <td>0.081093</td>\n",
       "      <td>0.081093</td>\n",
       "    </tr>\n",
       "    <tr>\n",
       "      <th>1</th>\n",
       "      <td>0.081093</td>\n",
       "      <td>0.000000</td>\n",
       "      <td>0.000000</td>\n",
       "      <td>0.081093</td>\n",
       "      <td>0.000000</td>\n",
       "      <td>0.000000</td>\n",
       "      <td>0.081093</td>\n",
       "      <td>0.0</td>\n",
       "      <td>0.0</td>\n",
       "      <td>0.000000</td>\n",
       "      <td>0.000000</td>\n",
       "    </tr>\n",
       "    <tr>\n",
       "      <th>2</th>\n",
       "      <td>0.000000</td>\n",
       "      <td>0.081093</td>\n",
       "      <td>0.000000</td>\n",
       "      <td>0.000000</td>\n",
       "      <td>0.081093</td>\n",
       "      <td>0.081093</td>\n",
       "      <td>0.000000</td>\n",
       "      <td>0.0</td>\n",
       "      <td>0.0</td>\n",
       "      <td>0.000000</td>\n",
       "      <td>0.000000</td>\n",
       "    </tr>\n",
       "  </tbody>\n",
       "</table>\n",
       "</div>"
      ],
      "text/plain": [
       "    i never  ever this     is so    what a  movie ever  best movie   a movie  \\\n",
       "0  0.000000   0.000000  0.081093  0.000000    0.000000    0.000000  0.000000   \n",
       "1  0.081093   0.000000  0.000000  0.081093    0.000000    0.000000  0.081093   \n",
       "2  0.000000   0.081093  0.000000  0.000000    0.081093    0.081093  0.000000   \n",
       "\n",
       "   this movie  movie i  movie is  so funny  \n",
       "0         0.0      0.0  0.081093  0.081093  \n",
       "1         0.0      0.0  0.000000  0.000000  \n",
       "2         0.0      0.0  0.000000  0.000000  "
      ]
     },
     "execution_count": 84,
     "metadata": {},
     "output_type": "execute_result"
    }
   ],
   "source": [
    "# 2-gram\n",
    "\n",
    "vocabulary02, tfidf02 = calc_tfidf(texts, gram=2) # vocabulary02:list, bow02:ndarray\n",
    "pd.DataFrame(tfidf02, columns=vocabulary02)"
   ]
  },
  {
   "cell_type": "markdown",
   "id": "shared-sucking",
   "metadata": {},
   "source": [
    "**scikit-learnの採用している式で実装**"
   ]
  },
  {
   "cell_type": "code",
   "execution_count": 85,
   "id": "written-pattern",
   "metadata": {},
   "outputs": [],
   "source": [
    "def calc_tfidf02(texts, gram=1):\n",
    "    \n",
    "    # 辞書を作成\n",
    "    vocabulary = []\n",
    "    if gram == 1: # 1-gramの時の処理\n",
    "        \n",
    "        for i in range(len(texts)):\n",
    "            \n",
    "            # 単語の分割\n",
    "            tokens = re.split(' ', texts[i])\n",
    "            # 辞書に追加\n",
    "            for token in tokens:\n",
    "                if token not in vocabulary:\n",
    "                    vocabulary.append(token)       \n",
    "                    \n",
    "    else: # 2-gramの時の処理\n",
    "        for i in range(len(texts)):\n",
    "            \n",
    "            # 単語の分割\n",
    "            tokens = re.split(' ', texts[i])\n",
    "            # 辞書に追加\n",
    "            for j in range(len(tokens) - 1):\n",
    "                vocabulary.append(tokens[j] + ' ' +tokens[j + 1])\n",
    "        vocabulary = list(set(vocabulary)) # 重複をなくす\n",
    "    \n",
    "    # tfidfを入れる箱を用意\n",
    "    tfidf = np.zeros([len(texts), len(vocabulary)])\n",
    "    \n",
    "    for i in range(len(texts)):\n",
    "        for j in range(len(vocabulary)):\n",
    "            tf = texts[i].count(vocabulary[j])\n",
    "            df = 0\n",
    "            for text in texts:\n",
    "                df += 1 if vocabulary[j] in text else 0\n",
    "            idf = np.log((len(texts) + 1) / (df + 1)) + 1 # IDfの分母が0になることを防ぐため1を足す           \n",
    "            tfidf[i][j] = tf*idf\n",
    "            \n",
    "    return vocabulary, tfidf"
   ]
  },
  {
   "cell_type": "code",
   "execution_count": 86,
   "id": "russian-valuable",
   "metadata": {},
   "outputs": [
    {
     "data": {
      "text/html": [
       "<div>\n",
       "<style scoped>\n",
       "    .dataframe tbody tr th:only-of-type {\n",
       "        vertical-align: middle;\n",
       "    }\n",
       "\n",
       "    .dataframe tbody tr th {\n",
       "        vertical-align: top;\n",
       "    }\n",
       "\n",
       "    .dataframe thead th {\n",
       "        text-align: right;\n",
       "    }\n",
       "</style>\n",
       "<table border=\"1\" class=\"dataframe\">\n",
       "  <thead>\n",
       "    <tr style=\"text-align: right;\">\n",
       "      <th></th>\n",
       "      <th>this</th>\n",
       "      <th>movie</th>\n",
       "      <th>is</th>\n",
       "      <th>so</th>\n",
       "      <th>funny</th>\n",
       "      <th>what</th>\n",
       "      <th>a</th>\n",
       "      <th>i</th>\n",
       "      <th>never</th>\n",
       "      <th>best</th>\n",
       "      <th>ever</th>\n",
       "    </tr>\n",
       "  </thead>\n",
       "  <tbody>\n",
       "    <tr>\n",
       "      <th>0</th>\n",
       "      <td>1.287682</td>\n",
       "      <td>1.0</td>\n",
       "      <td>2.575364</td>\n",
       "      <td>1.693147</td>\n",
       "      <td>1.693147</td>\n",
       "      <td>0.000000</td>\n",
       "      <td>0.000000</td>\n",
       "      <td>3.0</td>\n",
       "      <td>0.000000</td>\n",
       "      <td>0.000000</td>\n",
       "      <td>0.000000</td>\n",
       "    </tr>\n",
       "    <tr>\n",
       "      <th>1</th>\n",
       "      <td>0.000000</td>\n",
       "      <td>1.0</td>\n",
       "      <td>0.000000</td>\n",
       "      <td>0.000000</td>\n",
       "      <td>0.000000</td>\n",
       "      <td>1.693147</td>\n",
       "      <td>3.386294</td>\n",
       "      <td>2.0</td>\n",
       "      <td>1.693147</td>\n",
       "      <td>0.000000</td>\n",
       "      <td>1.287682</td>\n",
       "    </tr>\n",
       "    <tr>\n",
       "      <th>2</th>\n",
       "      <td>1.287682</td>\n",
       "      <td>2.0</td>\n",
       "      <td>1.287682</td>\n",
       "      <td>0.000000</td>\n",
       "      <td>0.000000</td>\n",
       "      <td>0.000000</td>\n",
       "      <td>0.000000</td>\n",
       "      <td>3.0</td>\n",
       "      <td>0.000000</td>\n",
       "      <td>1.693147</td>\n",
       "      <td>1.287682</td>\n",
       "    </tr>\n",
       "  </tbody>\n",
       "</table>\n",
       "</div>"
      ],
      "text/plain": [
       "       this  movie        is        so     funny      what         a    i  \\\n",
       "0  1.287682    1.0  2.575364  1.693147  1.693147  0.000000  0.000000  3.0   \n",
       "1  0.000000    1.0  0.000000  0.000000  0.000000  1.693147  3.386294  2.0   \n",
       "2  1.287682    2.0  1.287682  0.000000  0.000000  0.000000  0.000000  3.0   \n",
       "\n",
       "      never      best      ever  \n",
       "0  0.000000  0.000000  0.000000  \n",
       "1  1.693147  0.000000  1.287682  \n",
       "2  0.000000  1.693147  1.287682  "
      ]
     },
     "execution_count": 86,
     "metadata": {},
     "output_type": "execute_result"
    }
   ],
   "source": [
    "# 1-gram\n",
    "\n",
    "vocabulary03, tfidf03 = calc_tfidf02(texts, gram=1) # vocabulary03:list, bow03:ndarray\n",
    "pd.DataFrame(tfidf03, columns=vocabulary03)"
   ]
  },
  {
   "cell_type": "code",
   "execution_count": 87,
   "id": "becoming-melbourne",
   "metadata": {},
   "outputs": [
    {
     "data": {
      "text/html": [
       "<div>\n",
       "<style scoped>\n",
       "    .dataframe tbody tr th:only-of-type {\n",
       "        vertical-align: middle;\n",
       "    }\n",
       "\n",
       "    .dataframe tbody tr th {\n",
       "        vertical-align: top;\n",
       "    }\n",
       "\n",
       "    .dataframe thead th {\n",
       "        text-align: right;\n",
       "    }\n",
       "</style>\n",
       "<table border=\"1\" class=\"dataframe\">\n",
       "  <thead>\n",
       "    <tr style=\"text-align: right;\">\n",
       "      <th></th>\n",
       "      <th>i never</th>\n",
       "      <th>ever this</th>\n",
       "      <th>is so</th>\n",
       "      <th>what a</th>\n",
       "      <th>movie ever</th>\n",
       "      <th>best movie</th>\n",
       "      <th>a movie</th>\n",
       "      <th>this movie</th>\n",
       "      <th>movie i</th>\n",
       "      <th>movie is</th>\n",
       "      <th>so funny</th>\n",
       "    </tr>\n",
       "  </thead>\n",
       "  <tbody>\n",
       "    <tr>\n",
       "      <th>0</th>\n",
       "      <td>0.000000</td>\n",
       "      <td>0.000000</td>\n",
       "      <td>1.693147</td>\n",
       "      <td>0.000000</td>\n",
       "      <td>0.000000</td>\n",
       "      <td>0.000000</td>\n",
       "      <td>0.000000</td>\n",
       "      <td>1.287682</td>\n",
       "      <td>1.287682</td>\n",
       "      <td>1.693147</td>\n",
       "      <td>1.693147</td>\n",
       "    </tr>\n",
       "    <tr>\n",
       "      <th>1</th>\n",
       "      <td>1.693147</td>\n",
       "      <td>0.000000</td>\n",
       "      <td>0.000000</td>\n",
       "      <td>1.693147</td>\n",
       "      <td>0.000000</td>\n",
       "      <td>0.000000</td>\n",
       "      <td>1.693147</td>\n",
       "      <td>0.000000</td>\n",
       "      <td>1.287682</td>\n",
       "      <td>0.000000</td>\n",
       "      <td>0.000000</td>\n",
       "    </tr>\n",
       "    <tr>\n",
       "      <th>2</th>\n",
       "      <td>0.000000</td>\n",
       "      <td>1.693147</td>\n",
       "      <td>0.000000</td>\n",
       "      <td>0.000000</td>\n",
       "      <td>1.693147</td>\n",
       "      <td>1.693147</td>\n",
       "      <td>0.000000</td>\n",
       "      <td>1.287682</td>\n",
       "      <td>0.000000</td>\n",
       "      <td>0.000000</td>\n",
       "      <td>0.000000</td>\n",
       "    </tr>\n",
       "  </tbody>\n",
       "</table>\n",
       "</div>"
      ],
      "text/plain": [
       "    i never  ever this     is so    what a  movie ever  best movie   a movie  \\\n",
       "0  0.000000   0.000000  1.693147  0.000000    0.000000    0.000000  0.000000   \n",
       "1  1.693147   0.000000  0.000000  1.693147    0.000000    0.000000  1.693147   \n",
       "2  0.000000   1.693147  0.000000  0.000000    1.693147    1.693147  0.000000   \n",
       "\n",
       "   this movie   movie i  movie is  so funny  \n",
       "0    1.287682  1.287682  1.693147  1.693147  \n",
       "1    0.000000  1.287682  0.000000  0.000000  \n",
       "2    1.287682  0.000000  0.000000  0.000000  "
      ]
     },
     "execution_count": 87,
     "metadata": {},
     "output_type": "execute_result"
    }
   ],
   "source": [
    "# 2-gram\n",
    "\n",
    "vocabulary04, tfidf04 = calc_tfidf02(texts, gram=2) # vocabulary04:list, bow04:ndarray\n",
    "pd.DataFrame(tfidf04, columns=vocabulary04)"
   ]
  },
  {
   "cell_type": "markdown",
   "id": "beginning-extreme",
   "metadata": {},
   "source": [
    "## 7.Word2Vec\n",
    "\n",
    "ニューラルネットワークを用いてベクトル化を行う手法が **Word2Vec** です。\n",
    "\n",
    "\n",
    "BoWやTF-IDFはone-hot表現であったため、得られるベクトルの次元は語彙数分になります。そのため、語彙数を増やしにくいという問題があります。一方で、Word2Vecでは単語を任意の次元のベクトルに変換します。これをを **Word Embedding（単語埋め込み）** や **分散表現** と呼びます。変換操作を「ベクトル空間に埋め込む」と言うことが多いです。\n",
    "\n",
    "\n",
    "Word2VecにはCBoWとSkip-gramという2種類の仕組みがあるため順番に見ていきます。\n",
    "\n",
    "\n",
    "**<u>CBoW</u>**\n",
    "\n",
    "**CBoW (Continuous Bag-of-Words)** によるWord2Vecではある単語とある単語の間に来る単語を推定できるように全結合層2層のニューラルネットワークを学習します。\n",
    "\n",
    "\n",
    "単語はコーパスの語彙数次元のone-hot表現を行なっておきます。そのため、入力と出力の次元は語彙数と同じになります。一方で、中間のノード数をWord2Vecにより得たい任意の次元数とします。これにより全結合層の重みは「得たい次元のノード数×語彙数」になります。このネットワークにより学習を行なった後、出力側の重みを取り出すことで、各語彙を表すベクトルを手に入れることができます。\n",
    "\n",
    "\n",
    "間の単語の推定を行なっているため、同じ箇所で代替可能な言葉は似たベクトルになるというメリットもあります。これはBoWやTF-IDFでは得られない情報です。\n",
    "\n",
    "\n",
    "あるテキストは「そのテキストの長さ（単語数）×Word2Vecで得た分散表現の次元数」の配列になりますが、各入力の配列を揃える必要があるモデルに入力するためには、短いテキストは空白を表す単語を加える **パディング** を行なったり、長いテキストは単語を消したりします。テキストを **固定長** にすると呼びます。\n",
    "\n",
    "\n",
    "**<u>ウィンドウサイズ</u>**\n",
    "\n",
    "入力する単語は推定する前後1つずつだけでなく、複数個とする場合もあります。前後いくつを見るかの大きさを **ウィンドウサイズ** と呼びます。\n",
    "\n",
    "\n",
    "**<u>Skip-gram</u>**\n",
    "\n",
    "CBoWとは逆にある単語の前後の単語を推定できるように全結合層2層のニューラルネットワークを学習する方法が **Skip-gram** です。学習を行なった後は入力側の重みを取り出し各語彙を表すベクトルとします。現在一般的に使われているのはCBoWよりもSki-gramです。\n",
    "\n",
    "\n",
    "**<u>利用方法</u>**\n",
    "\n",
    "Pythonでは **Gensim** ライブラリを用いて扱うことができます。\n",
    "\n",
    "\n",
    "[gensim: models.word2vec – Word2vec embeddings](https://radimrehurek.com/gensim/models/word2vec.html)\n",
    "\n",
    "\n",
    "BoWの例と同じ文章で学習してみます。CountVectorizerと異なり前処理を自動的に行なってはくれないため、単語（トークン）はリストで分割しておきます。また、大文字は小文字に揃え、記号は取り除きます。\n",
    "\n",
    "\n",
    "デフォルトのパラメータではCBoWで計算されます。また、ウィンドウサイズはwindow=5に設定されています。"
   ]
  },
  {
   "cell_type": "code",
   "execution_count": 35,
   "id": "expensive-trading",
   "metadata": {},
   "outputs": [
    {
     "name": "stdout",
     "output_type": "stream",
     "text": [
      "語彙の一覧 : dict_keys(['this', 'movie', 'is', 'very', 'good', 'film', 'a', 'bad'])\n",
      "thisのベクトル : \n",
      "[-0.04746073 -0.01092739 -0.02214627  0.03811207 -0.01205775 -0.02174545\n",
      "  0.013019    0.03087643  0.00111915 -0.03002558]\n",
      "movieのベクトル : \n",
      "[-0.02683418  0.03933726 -0.0477848   0.03017118 -0.01759759 -0.01259818\n",
      "  0.03497821  0.01782362 -0.03364229 -0.04192084]\n",
      "isのベクトル : \n",
      "[-0.02619042  0.02700837 -0.03979243  0.0326599   0.03928323 -0.0460429\n",
      "  0.04865377  0.04934594 -0.0183245   0.040607  ]\n",
      "veryのベクトル : \n",
      "[-0.00696992  0.03567163 -0.03662668  0.04351414 -0.0331499  -0.04234025\n",
      " -0.01711093 -0.03247644 -0.03449288 -0.03796913]\n",
      "goodのベクトル : \n",
      "[ 0.02156588 -0.01678412 -0.02703536  0.04101167 -0.02677865 -0.02093557\n",
      " -0.03174552  0.03049138  0.03003268 -0.02224186]\n",
      "filmのベクトル : \n",
      "[ 0.01508982 -0.04338841 -0.04397392  0.00362978  0.00716724  0.03569425\n",
      "  0.01648618 -0.001676   -0.03773458 -0.02078286]\n",
      "aのベクトル : \n",
      "[-0.00442331 -0.00107612  0.04157322  0.04101108 -0.00888063 -0.03570421\n",
      " -0.00016483 -0.01945869  0.01963637 -0.04524053]\n",
      "badのベクトル : \n",
      "[ 0.00840995  0.02230871 -0.02820905 -0.0421291   0.03518712  0.04756502\n",
      " -0.01012729 -0.00578692  0.02747044 -0.00030448]\n"
     ]
    },
    {
     "name": "stderr",
     "output_type": "stream",
     "text": [
      "/Users/wuchuan/.pyenv/versions/anaconda3-2020.11/envs/p3.7t2/lib/python3.7/site-packages/ipykernel_launcher.py:5: DeprecationWarning: Call to deprecated `iter` (Attribute will be removed in 4.0.0, use self.epochs instead).\n",
      "  \"\"\"\n"
     ]
    }
   ],
   "source": [
    "from gensim.models import Word2Vec\n",
    "sentences = [['this', 'movie', 'is', 'very', 'good'], ['this', 'film', 'is', 'a', 'good'], ['very', 'bad', 'very', 'very', 'bad']]\n",
    "model = Word2Vec(min_count=1, size=10) # 次元数を10に設定\n",
    "model.build_vocab(sentences) # 準備\n",
    "model.train(sentences, total_examples=model.corpus_count, epochs=model.iter) # 学習\n",
    "\n",
    "print(\"語彙の一覧 : {}\".format(model.wv.vocab.keys()))\n",
    "for vocab in model.wv.vocab.keys():\n",
    "  print(\"{}のベクトル : \\n{}\".format(vocab, model.wv[vocab]))"
   ]
  },
  {
   "cell_type": "markdown",
   "id": "secondary-spending",
   "metadata": {},
   "source": [
    "このようにしてベクトルが得られます。"
   ]
  },
  {
   "cell_type": "markdown",
   "id": "conscious-halifax",
   "metadata": {},
   "source": [
    "**<u>単語の距離</u>**\n",
    "\n",
    "ベクトル間で計算を行うことで、ある単語に似たベクトルを持つ単語を見つけることができます。例えばgoodに似たベクトルの単語を3つ探します。"
   ]
  },
  {
   "cell_type": "code",
   "execution_count": 2,
   "id": "aware-mining",
   "metadata": {},
   "outputs": [
    {
     "data": {
      "text/plain": [
       "[('this', 0.4481246769428253),\n",
       " ('movie', 0.3299741744995117),\n",
       " ('bad', 0.228041872382164)]"
      ]
     },
     "execution_count": 2,
     "metadata": {},
     "output_type": "execute_result"
    }
   ],
   "source": [
    "model.wv.most_similar(positive=\"good\", topn=3)"
   ]
  },
  {
   "cell_type": "code",
   "execution_count": 5,
   "id": "three-worse",
   "metadata": {},
   "outputs": [
    {
     "data": {
      "text/plain": [
       "[('this', 0.4481246769428253),\n",
       " ('movie', 0.3299741744995117),\n",
       " ('bad', 0.228041872382164),\n",
       " ('film', 0.07931263744831085),\n",
       " ('a', -0.15899249911308289),\n",
       " ('very', -0.38713887333869934),\n",
       " ('is', -0.4803425669670105)]"
      ]
     },
     "execution_count": 5,
     "metadata": {},
     "output_type": "execute_result"
    }
   ],
   "source": [
    "model.wv.most_similar(positive=\"good\")"
   ]
  },
  {
   "cell_type": "code",
   "execution_count": 4,
   "id": "lined-flashing",
   "metadata": {},
   "outputs": [
    {
     "data": {
      "text/plain": [
       "[('this', 0.4481246769428253),\n",
       " ('movie', 0.3299741744995117),\n",
       " ('bad', 0.228041872382164),\n",
       " ('film', 0.07931263744831085),\n",
       " ('a', -0.15899249911308289),\n",
       " ('very', -0.38713887333869934),\n",
       " ('is', -0.4803425669670105)]"
      ]
     },
     "execution_count": 4,
     "metadata": {},
     "output_type": "execute_result"
    }
   ],
   "source": [
    "model.wv.similar_by_vector(\"good\")"
   ]
  },
  {
   "cell_type": "markdown",
   "id": "quick-developer",
   "metadata": {
    "tags": []
   },
   "source": [
    "今の例では3文しか学習していませんので効果を発揮しませんが、大きなコーパスで学習することで、並列関係のものが近くに来たりなど面白い結果が得られます。\n",
    "\n",
    "\n",
    "**<u>可視化</u>**\n",
    "\n",
    "2次元に圧縮することで単語ごとの位置関係を可視化することができます。以下はt-SNEを用いた例です。"
   ]
  },
  {
   "cell_type": "code",
   "execution_count": 43,
   "id": "twenty-respect",
   "metadata": {},
   "outputs": [
    {
     "name": "stderr",
     "output_type": "stream",
     "text": [
      "/Users/wuchuan/.pyenv/versions/anaconda3-2020.11/envs/p3.7t2/lib/python3.7/site-packages/ipykernel_launcher.py:5: DeprecationWarning: Call to deprecated `__getitem__` (Method will be removed in 4.0.0, use self.wv.__getitem__() instead).\n",
      "  \"\"\"\n"
     ]
    },
    {
     "data": {
      "image/png": "[encoded data removed]",
      "text/plain": [
       "<Figure size 360x360 with 1 Axes>"
      ]
     },
     "metadata": {
      "needs_background": "light"
     },
     "output_type": "display_data"
    }
   ],
   "source": [
    "from sklearn.manifold import TSNE\n",
    "import matplotlib.pyplot as plt\n",
    "vocabs = model.wv.vocab.keys()\n",
    "tsne_model = TSNE(perplexity=40, n_components=2, init=\"pca\", n_iter=5000, random_state=23)\n",
    "vectors_tsne = tsne_model.fit_transform(model[vocabs])\n",
    "fig, ax = plt.subplots(figsize=(5,5))\n",
    "ax.scatter(vectors_tsne[:, 0], vectors_tsne[:, 1])\n",
    "for i, word in enumerate(list(vocabs)):\n",
    "    plt.annotate(word, xy=(vectors_tsne[i, 0], vectors_tsne[i, 1]))\n",
    "ax.set_yticklabels([])\n",
    "ax.set_xticklabels([])\n",
    "plt.show()"
   ]
  },
  {
   "cell_type": "markdown",
   "id": "quarterly-hearts",
   "metadata": {},
   "source": [
    "## 8.IMDB映画レビューデータセットの分散表現\n",
    "\n",
    "IMDB映画レビューデータセットの訓練データをコーパスとしてWord2Vecを学習させ分散表現を獲得しましょう。\n",
    "\n",
    "## 【問題5】コーパスの前処理\n",
    "コーパスの前処理として、特殊文字（!など）やURLの除去、大文字の小文字化といったことを行なってください。また、単語（トークン）はリストで分割してください。\n",
    "\n"
   ]
  },
  {
   "cell_type": "markdown",
   "id": "arctic-transaction",
   "metadata": {},
   "source": [
    "**<u>サンプルデータで動作確認</u>**"
   ]
  },
  {
   "cell_type": "code",
   "execution_count": 110,
   "id": "expressed-principal",
   "metadata": {},
   "outputs": [
    {
     "data": {
      "text/plain": [
       "['This movie is SOOOO funny!!!',\n",
       " 'What a movie! I never',\n",
       " 'best movie ever!!!!! this movie',\n",
       " \"I don't like the movie.\"]"
      ]
     },
     "execution_count": 110,
     "metadata": {},
     "output_type": "execute_result"
    }
   ],
   "source": [
    "textｓ = [\n",
    "'This movie is SOOOO funny!!!',\n",
    "'What a movie! I never',\n",
    "'best movie ever!!!!! this movie',\n",
    "'I don\\'t like the movie.'\n",
    "]\n",
    "texts"
   ]
  },
  {
   "cell_type": "code",
   "execution_count": 111,
   "id": "equipped-conducting",
   "metadata": {},
   "outputs": [],
   "source": [
    "# 短縮表現を元に戻す準備\n",
    "shortened = {\n",
    "    '\\'m': ' am',\n",
    "    '\\'re': ' are',\n",
    "    'don\\'t': 'do not',\n",
    "    'doesn\\'t': 'does not',\n",
    "    'didn\\'t': 'did not',\n",
    "    'won\\'t': 'will not',\n",
    "    'wanna': 'want to',\n",
    "    'gonna': 'going to',\n",
    "    'gotta': 'got to',\n",
    "    'hafta': 'have to',\n",
    "    'needa': 'need to',\n",
    "    'outta': 'out of',\n",
    "    'kinda': 'kind of',\n",
    "    'sorta': 'sort of',\n",
    "    'lotta': 'lot of',\n",
    "    'lemme': 'let me',\n",
    "    'gimme': 'give me',\n",
    "    'getcha': 'get you',\n",
    "    'gotcha': 'got you',\n",
    "    'letcha': 'let you',\n",
    "    'betcha': 'bet you',\n",
    "    'shoulda': 'should have',\n",
    "    'coulda': 'could have',\n",
    "    'woulda': 'would have',\n",
    "    'musta': 'must have',\n",
    "    'mighta': 'might have',\n",
    "    'dunno': 'do not know',\n",
    "}\n",
    "\n",
    "shortened_re = re.compile('(?:' + '|'.join(map(lambda x: '\\\\b' + x + '\\\\b', shortened.keys())) + ')')"
   ]
  },
  {
   "cell_type": "markdown",
   "id": "surrounded-directory",
   "metadata": {},
   "source": [
    "(参考記事)[自然言語処理の前処理・素性いろいろ](https://yukinoi.hatenablog.com/entry/2018/05/29/120000)"
   ]
  },
  {
   "cell_type": "code",
   "execution_count": 80,
   "id": "gorgeous-insulin",
   "metadata": {},
   "outputs": [],
   "source": [
    "# # サンプルデータの前処理\n",
    "# sentence_list = []\n",
    "# for i in range(len(texts)):\n",
    "#     texts[i] = shortened_re.sub(lambda x: shortened[x.group(0)], texts[i]) # 短縮表現を元に戻す\n",
    "#     texts[i] = texts[i].lower() # 大文字の小文字化\n",
    "#     texts[i] = texts[i].replace('!', '').replace('soooo', 'so')\\\n",
    "#     .replace(r\"[^a-zA-Z0-9]+\", \"\").replace('.', '') # 複数の文字列を置換\n",
    "#     texts[i] = texts[i].rstrip() # 余分な改行やスペースなどを除去\n",
    "#     tokens = re.split('[, /]', texts[i])   \n",
    "#     sentence_list.append(tokens)"
   ]
  },
  {
   "cell_type": "code",
   "execution_count": 112,
   "id": "introductory-context",
   "metadata": {},
   "outputs": [],
   "source": [
    "# サンプルデータの前処理\n",
    "text_list = []\n",
    "for i in range(len(texts)):\n",
    "    texts[i] = shortened_re.sub(lambda x: shortened[x.group(0)], texts[i]) # 短縮表現を元に戻す\n",
    "    texts[i] = texts[i].lower() # 大文字の小文字化\n",
    "    texts[i] = texts[i].replace('!', '').replace('soooo', 'so')\\\n",
    "    .replace(r\"[^a-zA-Z0-9]+\", \"\").replace('.', '') # 複数の文字列を置換\n",
    "    texts[i] = texts[i].rstrip() # 余分な改行やスペースなどを除去\n",
    "    tokens = re.split('[, /]', texts[i])   \n",
    "    tokens = list(set(tokens)) # 重複をなくす\n",
    "   \n",
    "    # 単語（トークン）をリストで分割\n",
    "    for token in tokens:\n",
    "        text_list.append(token.split(','))"
   ]
  },
  {
   "cell_type": "code",
   "execution_count": 113,
   "id": "cheap-virtue",
   "metadata": {},
   "outputs": [
    {
     "data": {
      "text/plain": [
       "[['this'],\n",
       " ['so'],\n",
       " ['funny'],\n",
       " ['is'],\n",
       " ['movie'],\n",
       " ['a'],\n",
       " ['never'],\n",
       " ['i'],\n",
       " ['movie'],\n",
       " ['what'],\n",
       " ['this'],\n",
       " ['ever'],\n",
       " ['movie'],\n",
       " ['best'],\n",
       " ['not'],\n",
       " ['do'],\n",
       " ['like'],\n",
       " ['the'],\n",
       " ['i'],\n",
       " ['movie']]"
      ]
     },
     "execution_count": 113,
     "metadata": {},
     "output_type": "execute_result"
    }
   ],
   "source": [
    "text_list"
   ]
  },
  {
   "cell_type": "code",
   "execution_count": 117,
   "id": "specified-pakistan",
   "metadata": {},
   "outputs": [
    {
     "name": "stdout",
     "output_type": "stream",
     "text": [
      "語彙の一覧 : dict_keys(['this', 'so', 'funny', 'is', 'movie', 'a', 'never', 'i', 'what', 'ever', 'best', 'not', 'do', 'like', 'the'])\n",
      "thisのベクトル : \n",
      "[-0.04746073 -0.01092739 -0.02214627  0.03811207 -0.01205775 -0.02174545\n",
      "  0.013019    0.03087643  0.00111915 -0.03002558]\n",
      "soのベクトル : \n",
      "[ 0.01668941  0.03692876 -0.04896627  0.04703923  0.0240517   0.00656861\n",
      "  0.01695647  0.01552369 -0.00166708  0.04215109]\n",
      "funnyのベクトル : \n",
      "[-0.02344675  0.0048656   0.01793307 -0.04315045 -0.01967878 -0.0286889\n",
      " -0.01397028 -0.02253332 -0.0142773   0.03384078]\n",
      "isのベクトル : \n",
      "[-0.02619026  0.0270082  -0.03979218  0.03265969  0.03928298 -0.04604261\n",
      "  0.04865346  0.04934563 -0.01832438  0.04060674]\n",
      "movieのベクトル : \n",
      "[-0.02683418  0.03933726 -0.0477848   0.03017118 -0.01759759 -0.01259818\n",
      "  0.03497821  0.01782362 -0.03364229 -0.04192084]\n",
      "aのベクトル : \n",
      "[-0.00442331 -0.00107612  0.04157322  0.04101108 -0.00888063 -0.03570421\n",
      " -0.00016483 -0.01945869  0.01963637 -0.04524053]\n",
      "neverのベクトル : \n",
      "[ 0.04145455  0.04145847 -0.02399435  0.00848846  0.01394163  0.01772032\n",
      "  0.00024095 -0.00519116 -0.01540093  0.01598135]\n",
      "iのベクトル : \n",
      "[-0.01001779 -0.00616553  0.03956485 -0.0389199   0.02593871  0.02597461\n",
      " -0.02357634 -0.00679887 -0.02893548 -0.03691804]\n",
      "whatのベクトル : \n",
      "[-0.02601345  0.0224518   0.037759   -0.02971794  0.04810886 -0.0218183\n",
      " -0.04481572  0.01711915 -0.0192398  -0.04583773]\n",
      "everのベクトル : \n",
      "[ 0.03472843 -0.04654685 -0.00061356  0.03988094  0.04870518  0.02249823\n",
      "  0.01479982  0.03152203 -0.01899965 -0.04850025]\n",
      "bestのベクトル : \n",
      "[ 0.03376051 -0.0494532   0.0272796   0.01373148 -0.03832761  0.04708677\n",
      "  0.00167954 -0.01096185 -0.01442621  0.04460147]\n",
      "notのベクトル : \n",
      "[ 0.01976683 -0.04696994  0.04581403 -0.04240819  0.01677138  0.00795708\n",
      " -0.03578747 -0.02378275 -0.02509569 -0.03199894]\n",
      "doのベクトル : \n",
      "[ 0.00462024  0.00347825 -0.02894647 -0.03235656 -0.01829538  0.01630688\n",
      " -0.03386026  0.02915226  0.02962053  0.04101862]\n",
      "likeのベクトル : \n",
      "[-0.01726446  0.0297963   0.03964626 -0.04400888 -0.04369735 -0.01866724\n",
      "  0.03929735 -0.03298878  0.04690167 -0.02207341]\n",
      "theのベクトル : \n",
      "[ 0.04251569 -0.0181925  -0.02188727  0.01457291  0.02231491  0.00048661\n",
      " -0.00846042 -0.00629035  0.00074524  0.02128999]\n"
     ]
    },
    {
     "name": "stderr",
     "output_type": "stream",
     "text": [
      "/Users/wuchuan/.pyenv/versions/anaconda3-2020.11/envs/p3.7t2/lib/python3.7/site-packages/ipykernel_launcher.py:4: DeprecationWarning: Call to deprecated `iter` (Attribute will be removed in 4.0.0, use self.epochs instead).\n",
      "  after removing the cwd from sys.path.\n"
     ]
    }
   ],
   "source": [
    "# 学習\n",
    "model = Word2Vec(min_count=1, size=10) # 次元数を10に設定\n",
    "model.build_vocab(text_list) # 準備\n",
    "model.train(text_list, total_examples=model.corpus_count, epochs=model.iter) # 学習\n",
    "\n",
    "print(\"語彙の一覧 : {}\".format(model.wv.vocab.keys()))\n",
    "for vocab in model.wv.vocab.keys():\n",
    "  print(\"{}のベクトル : \\n{}\".format(vocab, model.wv[vocab]))"
   ]
  },
  {
   "cell_type": "code",
   "execution_count": 118,
   "id": "gentle-notion",
   "metadata": {},
   "outputs": [
    {
     "name": "stderr",
     "output_type": "stream",
     "text": [
      "/Users/wuchuan/.pyenv/versions/anaconda3-2020.11/envs/p3.7t2/lib/python3.7/site-packages/ipykernel_launcher.py:5: DeprecationWarning: Call to deprecated `__getitem__` (Method will be removed in 4.0.0, use self.wv.__getitem__() instead).\n",
      "  \"\"\"\n"
     ]
    },
    {
     "data": {
      "image/png": "[encoded data removed]",
      "text/plain": [
       "<Figure size 360x360 with 1 Axes>"
      ]
     },
     "metadata": {
      "needs_background": "light"
     },
     "output_type": "display_data"
    }
   ],
   "source": [
    "# 可視化\n",
    "\n",
    "vocabs = model.wv.vocab.keys()\n",
    "tsne_model = TSNE(perplexity=40, n_components=2, init=\"pca\", n_iter=5000, random_state=23)\n",
    "vectors_tsne = tsne_model.fit_transform(model[vocabs])\n",
    "fig, ax = plt.subplots(figsize=(5,5))\n",
    "ax.scatter(vectors_tsne[:, 0], vectors_tsne[:, 1])\n",
    "for i, word in enumerate(list(vocabs)):\n",
    "    plt.annotate(word, xy=(vectors_tsne[i, 0], vectors_tsne[i, 1]))\n",
    "ax.set_yticklabels([])\n",
    "ax.set_xticklabels([])\n",
    "plt.show()"
   ]
  },
  {
   "cell_type": "code",
   "execution_count": 115,
   "id": "compressed-spring",
   "metadata": {},
   "outputs": [
    {
     "data": {
      "text/plain": [
       "\"Zero Day leads you to think, even re-think why two boys/young men would do what they did - commit mutual suicide via slaughtering their classmates. It captures what must be beyond a bizarre mode of being for two humans who have decided to withdraw from common civility in order to define their own/mutual world via coupled destruction.<br /><br />It is not a perfect movie but given what money/time the filmmaker and actors had - it is a remarkable product. In terms of explaining the motives and actions of the two young suicide/murderers it is better than 'Elephant' - in terms of being a film that gets under our 'rationalistic' skin it is a far, far better film than almost anything you are likely to see. <br /><br />Flawed but honest with a terrible honesty.\""
      ]
     },
     "execution_count": 115,
     "metadata": {},
     "output_type": "execute_result"
    }
   ],
   "source": [
    "x_train[0]"
   ]
  },
  {
   "cell_type": "code",
   "execution_count": 129,
   "id": "blank-rolling",
   "metadata": {},
   "outputs": [],
   "source": [
    "# IMDB映画レビューデータセットの前処理\n",
    "sentences = []\n",
    "texts = x_train\n",
    "\n",
    "for i in range(len(texts)):\n",
    "    texts[i] = shortened_re.sub(lambda x: shortened[x.group(0)], texts[i]) # 短縮表現を元に戻す\n",
    "    texts[i] = texts[i].lower() # 大文字の小文字化\n",
    "    texts[i] = texts[i].replace('!', '').replace('soooo', 'so').replace('\"', '').replace('-', '')\\\n",
    "    .replace(r\"[^a-zA-Z0-9]+\", \"\").replace('.', '').replace(\"<br />\", \"\") # 複数の文字列を置換\n",
    "    texts[i] = texts[i].rstrip() # 余分な改行やスペースなどを除去\n",
    "    tokens = re.split('[, /]', texts[i])   \n",
    "    tokens = list(set(tokens)) # 重複をなくす\n",
    " \n",
    "    # 単語（トークン）をリストで分割\n",
    "    for token in tokens:\n",
    "        sentences.append(token.split(','))"
   ]
  },
  {
   "cell_type": "code",
   "execution_count": 45,
   "id": "religious-agency",
   "metadata": {},
   "outputs": [],
   "source": [
    "# # IMDB映画レビューデータセットの前処理\n",
    "# sentences = []\n",
    "# texts = x_train\n",
    "\n",
    "# for i in range(len(texts)):\n",
    "#     texts[i] = shortened_re.sub(lambda x: shortened[x.group(0)], texts[i]) # 短縮表現を元に戻す\n",
    "#     texts[i] = texts[i].lower() # 大文字の小文字化\n",
    "#     texts[i] = texts[i].replace('!', '').replace('soooo', 'so').replace(\"'\", '').replace('-', '')\\\n",
    "#     .replace(r\"[^a-zA-Z0-9]+\", \"\").replace('.', '').replace(\"<br />\", \"\") # 複数の文字列を置換\n",
    "#     texts[i] = texts[i].rstrip() # 余分な改行やスペースなどを除去\n",
    "#     tokens = re.split('[, /]', texts[i])\n",
    "#     tokens = list(set(tokens)) # 重複をなくす\n",
    "#     sentences.append(tokens)"
   ]
  },
  {
   "cell_type": "code",
   "execution_count": 130,
   "id": "northern-radical",
   "metadata": {},
   "outputs": [
    {
     "name": "stdout",
     "output_type": "stream",
     "text": [
      "[[''], ['two'], ['have'], ['not'], ['in'], ['mutual'], ['beyond'], ['murderers'], ['commit'], ['see'], ['coupled'], ['skin'], ['actions'], ['what'], ['under'], ['define'], ['leads'], ['flawed'], ['honest'], ['world'], ['bizarre'], ['why'], ['via'], ['are'], ['must'], ['slaughtering'], ['their'], ['had'], ['think'], ['they'], ['young'], ['that'], ['almost'], ['did'], ['with'], ['own'], ['it'], ['movie'], ['from'], ['time'], ['who'], ['honesty'], ['our'], ['being'], ['zero'], ['do'], ['explaining'], ['decided'], ['civility'], ['you']]\n"
     ]
    }
   ],
   "source": [
    "print(sentences[:50])"
   ]
  },
  {
   "cell_type": "code",
   "execution_count": 122,
   "id": "bearing-stretch",
   "metadata": {},
   "outputs": [
    {
     "data": {
      "text/plain": [
       "3564617"
      ]
     },
     "execution_count": 122,
     "metadata": {},
     "output_type": "execute_result"
    }
   ],
   "source": [
    "len(sentences)"
   ]
  },
  {
   "cell_type": "markdown",
   "id": "flying-mapping",
   "metadata": {},
   "source": [
    "## 【問題6】Word2Vecの学習\n",
    "Word2Vecの学習を行なってください。"
   ]
  },
  {
   "cell_type": "code",
   "execution_count": 135,
   "id": "vocal-disorder",
   "metadata": {},
   "outputs": [
    {
     "name": "stderr",
     "output_type": "stream",
     "text": [
      "/Users/wuchuan/.pyenv/versions/anaconda3-2020.11/envs/p3.7t2/lib/python3.7/site-packages/ipykernel_launcher.py:5: DeprecationWarning: Call to deprecated `iter` (Attribute will be removed in 4.0.0, use self.epochs instead).\n",
      "  \"\"\"\n"
     ]
    },
    {
     "data": {
      "text/plain": [
       "(16720377, 17755535)"
      ]
     },
     "execution_count": 135,
     "metadata": {},
     "output_type": "execute_result"
    }
   ],
   "source": [
    "# 学習\n",
    "\n",
    "model = Word2Vec(min_count=1, size=100) # 次元数を100に設定\n",
    "model.build_vocab(sentences) # 準備\n",
    "model.train(sentences, total_examples=model.corpus_count, epochs=model.iter) # 学習"
   ]
  },
  {
   "cell_type": "markdown",
   "id": "legendary-publisher",
   "metadata": {},
   "source": [
    "## 【問題7】（アドバンス課題）ベクトルの可視化\n",
    "得られたベクトルをt-SNEにより可視化してください。また、いくつかの単語を選びwv.most_similarを用いて似ている単語を調べてください。"
   ]
  },
  {
   "cell_type": "code",
   "execution_count": null,
   "id": "velvet-queensland",
   "metadata": {},
   "outputs": [],
   "source": [
    "# 可視化\n",
    "\n",
    "vocabs = model.wv.vocab.keys()\n",
    "tsne_model = TSNE(perplexity=40, n_components=2, init=\"pca\", n_iter=5000, random_state=23)\n",
    "vectors_tsne = tsne_model.fit_transform(model[vocabs])\n",
    "fig, ax = plt.subplots(figsize=(5,5))\n",
    "ax.scatter(vectors_tsne[:, 0], vectors_tsne[:, 1])\n",
    "for i, word in enumerate(list(vocabs)):\n",
    "    plt.annotate(word, xy=(vectors_tsne[i, 0], vectors_tsne[i, 1]))\n",
    "ax.set_yticklabels([])\n",
    "ax.set_xticklabels([])\n",
    "plt.show()"
   ]
  },
  {
   "cell_type": "markdown",
   "id": "narrative-wednesday",
   "metadata": {},
   "source": [
    "**可視化するのに時間がかかりすぎたため、途中でストップ！**"
   ]
  },
  {
   "cell_type": "markdown",
   "id": "focused-quilt",
   "metadata": {},
   "source": [
    "**似ている単語を調べる**"
   ]
  },
  {
   "cell_type": "code",
   "execution_count": 136,
   "id": "excellent-relationship",
   "metadata": {},
   "outputs": [
    {
     "data": {
      "text/plain": [
       "[('thinnedplotted', 0.4096003472805023),\n",
       " ('filmaking', 0.3985108733177185),\n",
       " ('straightfromthecomputer', 0.3934032917022705),\n",
       " ('minivideo', 0.38509392738342285),\n",
       " ('olin)', 0.38455963134765625)]"
      ]
     },
     "execution_count": 136,
     "metadata": {},
     "output_type": "execute_result"
    }
   ],
   "source": [
    "model.wv.most_similar(positive=\"good\", topn=5)"
   ]
  },
  {
   "cell_type": "code",
   "execution_count": 137,
   "id": "aging-onion",
   "metadata": {},
   "outputs": [
    {
     "data": {
      "text/plain": [
       "[('stanislavski', 0.4348575472831726),\n",
       " ('spatulas', 0.3927799463272095),\n",
       " ('resonation', 0.39109867811203003),\n",
       " ('cyclical', 0.38855689764022827),\n",
       " ('shiri', 0.3873704671859741)]"
      ]
     },
     "execution_count": 137,
     "metadata": {},
     "output_type": "execute_result"
    }
   ],
   "source": [
    "model.wv.most_similar(positive=\"bad\", topn=5)"
   ]
  },
  {
   "cell_type": "code",
   "execution_count": 138,
   "id": "mobile-culture",
   "metadata": {},
   "outputs": [
    {
     "data": {
      "text/plain": [
       "[('$5', 0.466086208820343),\n",
       " ('albizu', 0.40759822726249695),\n",
       " ('killersthey', 0.3908851146697998),\n",
       " ('moviedespite', 0.3891200125217438),\n",
       " ('dolittle', 0.3882330656051636)]"
      ]
     },
     "execution_count": 138,
     "metadata": {},
     "output_type": "execute_result"
    }
   ],
   "source": [
    "model.wv.most_similar(positive=\"funny\", topn=5)"
   ]
  }
 ],
 "metadata": {
  "kernelspec": {
   "display_name": "p3.7t2",
   "language": "python",
   "name": "p3.7t2"
  },
  "language_info": {
   "codemirror_mode": {
    "name": "ipython",
    "version": 3
   },
   "file_extension": ".py",
   "mimetype": "text/x-python",
   "name": "python",
   "nbconvert_exporter": "python",
   "pygments_lexer": "ipython3",
   "version": "3.7.10"
  }
 },
 "nbformat": 4,
 "nbformat_minor": 5
}
