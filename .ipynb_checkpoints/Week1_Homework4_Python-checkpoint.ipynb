{
 "cells": [
  {
   "cell_type": "markdown",
   "metadata": {},
   "source": [
    "# Week1 授業課題3 栗まんじゅう問題"
   ]
  },
  {
   "cell_type": "markdown",
   "metadata": {},
   "source": [
    "**テキストの目的**\n",
    "- 基礎的なプログラミング力を確認する\n",
    "- 誘導なしにプログラムを書いてみる\n",
    "- 有名な問題をプログラミングによって解いてみる"
   ]
  },
  {
   "cell_type": "markdown",
   "metadata": {},
   "source": [
    "## 【問題】栗まんじゅうが太陽系を覆う日"
   ]
  },
  {
   "cell_type": "code",
   "execution_count": 32,
   "metadata": {},
   "outputs": [
    {
     "name": "stdout",
     "output_type": "stream",
     "text": [
      "太陽系の体積は1.4122654291058958e+27m^3\n"
     ]
    }
   ],
   "source": [
    "\"\"\"\n",
    "太陽系の体積((Volume of the solar system))に関する計算\n",
    "- 太陽系の半径(Radius of the solar system)：696,000 km　(出典：暦Wiki　太陽系天体の半径）\n",
    "  https://eco.mtk.nao.ac.jp/koyomi/wiki/CFC7C0B12FC8BEB7C2.html#:~:text=%E5%A4%AA%E9%99%BD%E7%B3%BB%E5%A4%A9%E4%BD%93%E3%81%AE%E5%8D%8A%E5%BE%84%20%E2%80%A0&text=2015%E5%B9%B4%E5%A0%B1%E5%91%8A%E6%9B%B8%E3%81%A7%E3%81%AF,km%E3%82%92%E7%94%A8%E3%81%84%E3%81%A6%E3%81%84%E3%81%BE%E3%81%99%E3%80%82\n",
    "- 球の体積の公式:V = (4/3)*pi*r^3\n",
    "  https://mathtrain.jp/ballsv#:~:text=%E7%90%83%E3%81%AE%E4%BD%93%E7%A9%8D%E3%81%A8%E8%A1%A8%E9%9D%A2%E7%A9%8D%E3%81%AE%E5%85%AC%E5%BC%8F%EF%BC%9A,%CF%80r3%20%E3%81%A7%E3%81%82%E3%82%8B%E3%80%82\n",
    "\"\"\"\n",
    "import math\n",
    "\n",
    "radius_of_solar_system = 696000*1000\n",
    "volume_of_solar_system = (4/3)*math.pi*radius_of_solar_system**3\n",
    "print(\"太陽系の体積は{}m^3\".format(volume_of_solar_system))"
   ]
  },
  {
   "cell_type": "code",
   "execution_count": 33,
   "metadata": {},
   "outputs": [
    {
     "name": "stdout",
     "output_type": "stream",
     "text": [
      "栗まんじゅうの体積は7.199999999999999e-05m^3\n"
     ]
    }
   ],
   "source": [
    "\"\"\"\n",
    "栗まんじゅうの体積((Volume of kurimanju))に関する計算\n",
    "- 栗まんじゅうの大きさ：60mm × 40mm × 30mm　(出典：栗きんとん　すや / 栗饅頭）\n",
    "  https://www.suya-honke.co.jp/products/detail.php?product_id=31\n",
    "\"\"\"\n",
    "\n",
    "volume_of_kurimanju = (60/1000)*(40/1000)*(30/1000)\n",
    "print(\"栗まんじゅうの体積は{}m^3\".format(volume_of_kurimanju))"
   ]
  },
  {
   "cell_type": "code",
   "execution_count": 34,
   "metadata": {},
   "outputs": [
    {
     "name": "stdout",
     "output_type": "stream",
     "text": [
      "栗まんじゅうの体積が104倍になり、520分で太陽系を埋め尽くす\n"
     ]
    },
    {
     "data": {
      "image/png": "[encoded data removed]",
      "text/plain": [
       "<Figure size 432x288 with 1 Axes>"
      ]
     },
     "metadata": {
      "needs_background": "light"
     },
     "output_type": "display_data"
    }
   ],
   "source": [
    "import math\n",
    "import matplotlib.pyplot as plt\n",
    "%matplotlib inline\n",
    "\n",
    "def cal_time_Baybayin(overall_volume,volume_of_sth, minutes_per_count=5):\n",
    "    \"\"\"\n",
    "    バイバインを振りかけられた物により何分後にその空間が覆われるか計算する関数\n",
    "\n",
    "    Parameteres\n",
    "    --------------\n",
    "    overall_volume: int or float\n",
    "        空間の体積。単位はm^3。\n",
    "    volume_of_sth: int or float\n",
    "        バイバインを振りかけられる何かの物の体積。単位はm^3。\n",
    "    minutes_per_count: int or float\n",
    "        何分ごとに倍になるか。単位は分。(default : 5)\n",
    "\n",
    "    Returns\n",
    "    --------------\n",
    "    minutes: int or float\n",
    "        埋め尽くされるまでの時間。単位は分。\n",
    "    \"\"\"\n",
    "    \n",
    "    list_volume_of_sth = [volume_of_sth]\n",
    "    count = 0\n",
    "    while list_volume_of_sth[-1] < overall_volume:\n",
    "        count += 1 \n",
    "        list_volume_of_sth.append(list_volume_of_sth[-1]*2)\n",
    "\n",
    "    minutes = count*minutes_per_count\n",
    "    return minutes, count, list_volume_of_sth\n",
    "\n",
    "\n",
    "# 栗まんじゅう\n",
    "minutes_per_count=5\n",
    "\n",
    "volume_of_kurimanju = (60/1000)*(40/1000)*(30/1000)\n",
    "\n",
    "radius_of_solar_system = 696000*1000\n",
    "volume_of_solar_system = (4/3)*math.pi*radius_of_solar_system**3\n",
    "\n",
    "overall_volume = volume_of_solar_system\n",
    "volume_of_sth = volume_of_kurimanju\n",
    "\n",
    "minutes, count, list_volume_of_sth = cal_time_Baybayin(overall_volume,volume_of_sth)\n",
    "\n",
    "print(\"栗まんじゅうの体積が{}倍になり、{}分で太陽系を埋め尽くす\".format(count, minutes))\n",
    "\n",
    "plt.title(\"cal_time_Baybayin\")\n",
    "plt.xlabel(\"minutes\")\n",
    "plt.ylabel(\"volumes[m^3]\")\n",
    "plt.plot(range(0, minutes + minutes_per_count, minutes_per_count), list_volume_of_sth, label=\"kurimanju\")\n",
    "# 太陽系の体積を赤い線で表示\n",
    "plt.hlines(volume_of_solar_system, 0,minutes, \"red\", label='volume_of_solar_system')\n",
    "plt.legend() \n",
    "plt.show()"
   ]
  },
  {
   "cell_type": "code",
   "execution_count": 35,
   "metadata": {},
   "outputs": [
    {
     "name": "stdout",
     "output_type": "stream",
     "text": [
      "栗まんじゅうの体積が35倍になり、175分で東京ドームを埋め尽くす\n"
     ]
    },
    {
     "data": {
      "image/png": "[encoded data removed]",
      "text/plain": [
       "<Figure size 432x288 with 1 Axes>"
      ]
     },
     "metadata": {
      "needs_background": "light"
     },
     "output_type": "display_data"
    }
   ],
   "source": [
    "\"\"\"\n",
    "東京ドームの体積→124万立方メートル　（出典：東京ドームについて）\n",
    "https://www.tokyo-dome.co.jp/faq/dome/#:~:text=%E9%9D%A2%E7%A9%8D%E3%81%AE%E5%9F%BA%E6%BA%96%E3%81%A8%E3%81%97%E3%81%A6%E3%82%88%E3%81%8F,%E3%81%AF124%E4%B8%87%E7%AB%8B%E6%96%B9%E3%83%A1%E3%83%BC%E3%83%88%E3%83%AB%E3%81%A7%E3%81%99%E3%80%82&text=%5B%E6%96%BD%E8%A8%AD%5D%20%E6%9D%B1%E4%BA%AC%E3%83%89%E3%83%BC%E3%83%A0%E3%81%AF%E3%81%84%E3%81%A4,%E3%81%AB%E8%AA%95%E7%94%9F%E3%81%84%E3%81%9F%E3%81%97%E3%81%BE%E3%81%97%E3%81%9F%E3%80%82\n",
    "\"\"\"\n",
    "\n",
    "# 東京ドーム\n",
    "minutes_per_count=5\n",
    "\n",
    "volume_of_kurimanju = (60/1000)*(40/1000)*(30/1000)\n",
    "\n",
    "volume_of_tokyo_dome = 1240000\n",
    "\n",
    "overall_volume = volume_of_tokyo_dome\n",
    "volume_of_sth = volume_of_kurimanju\n",
    "\n",
    "minutes, count, list_volume_of_sth = cal_time_Baybayin(overall_volume,volume_of_sth)\n",
    "\n",
    "print(\"栗まんじゅうの体積が{}倍になり、{}分で東京ドームを埋め尽くす\".format(count, minutes))\n",
    "\n",
    "plt.title(\"cal_time_Baybayin\")\n",
    "plt.xlabel(\"minutes\")\n",
    "plt.ylabel(\"volumes[m^3]\")\n",
    "plt.plot(range(0, minutes + minutes_per_count, minutes_per_count), list_volume_of_sth, label=\"kurimanju\")\n",
    "# 東京ドームの体積を赤い線で表示\n",
    "plt.hlines(volume_of_tokyo_dome, 0,minutes, \"red\", label='volume_of_tokyo_dome')\n",
    "plt.legend() \n",
    "plt.show()"
   ]
  }
 ],
 "metadata": {
  "kernelspec": {
   "display_name": "Python 3",
   "language": "python",
   "name": "python3"
  },
  "language_info": {
   "codemirror_mode": {
    "name": "ipython",
    "version": 3
   },
   "file_extension": ".py",
   "mimetype": "text/x-python",
   "name": "python",
   "nbconvert_exporter": "python",
   "pygments_lexer": "ipython3",
   "version": "3.8.3"
  }
 },
 "nbformat": 4,
 "nbformat_minor": 4
}
