{
 "cells": [
  {
   "cell_type": "markdown",
   "metadata": {},
   "source": [
    "#  Week1 授業課題2 何回折ったら富士山を超えるか問題"
   ]
  },
  {
   "cell_type": "markdown",
   "metadata": {},
   "source": [
    "## 【問題1】富士山を超える最小の折る回数"
   ]
  },
  {
   "cell_type": "markdown",
   "metadata": {},
   "source": [
    "**テキストの目的**\n",
    "- 基礎的なプログラミング力を確認する\n",
    "- 数式をプログラムに落とし込めるようにする"
   ]
  },
  {
   "cell_type": "code",
   "execution_count": 34,
   "metadata": {},
   "outputs": [
    {
     "name": "stdout",
     "output_type": "stream",
     "text": [
      "初めて富士山の高さを超える回数: 26 回\n"
     ]
    }
   ],
   "source": [
    "THICKNESS = 0.00008\n",
    "\n",
    "height_FUJISAN = 3776\n",
    "folded_thickness = THICKNESS\n",
    "\n",
    "count = 0\n",
    "\n",
    "while folded_thickness < height_FUJISAN:\n",
    "    count += 1\n",
    "    folded_thickness = folded_thickness *2\n",
    "print(\"初めて富士山の高さを超える回数:\", count, \"回\")"
   ]
  },
  {
   "cell_type": "markdown",
   "metadata": {},
   "source": [
    "## 【問題2】任意の厚さに対応した関数を作成"
   ]
  },
  {
   "cell_type": "code",
   "execution_count": 35,
   "metadata": {},
   "outputs": [
    {
     "name": "stdout",
     "output_type": "stream",
     "text": [
      "初めて富士山の高さを超える回数: 26 回\n"
     ]
    }
   ],
   "source": [
    "THICKNESS = 0.00008\n",
    "\n",
    "def times_of_folds_check(distance):\n",
    "    \"\"\"\n",
    "    何回紙を折ったら指定した距離を超えるか計算する関数\n",
    "    \n",
    "    Parameteres\n",
    "    --------------\n",
    "    distance: int or float\n",
    "        判定したい距離。単位はメートル。\n",
    "    folded_thickness: int or float\n",
    "        紙の厚さ。単位はメートル。(default : 0.00008)\n",
    "\n",
    "    Returns\n",
    "    --------------\n",
    "    count: int\n",
    "        折る回数\n",
    "    \"\"\"\n",
    "    folded_thickness = THICKNESS\n",
    "    count = 0\n",
    "    while folded_thickness < distance:\n",
    "        count += 1\n",
    "        folded_thickness = folded_thickness *2\n",
    "    return count\n",
    "\n",
    "# 富士山の高さで関数確認\n",
    "\n",
    "height_FUJISAN = 3776\n",
    "distance = height_FUJISAN\n",
    "count = times_of_folds_check(distance)\n",
    "print(\"最も近い太陽以外の恒星に到達する回数:\", count, \"回\")"
   ]
  },
  {
   "cell_type": "code",
   "execution_count": 36,
   "metadata": {},
   "outputs": [
    {
     "name": "stdout",
     "output_type": "stream",
     "text": [
      "初めて富士山の高さを超える回数: 69 回\n"
     ]
    }
   ],
   "source": [
    "#　地球に最も近い太陽以外の恒星：プロキシマ・ケンタウリ→4.243光年 (出典：最も近い・遠い天体の一覧 - Wikipedia）\n",
    "# 1光年＝9 460 730 472 580 800 m　（出典：光年 - Wikipedia）\n",
    "distance = 4.243*9460730472580800\n",
    "count = times_of_folds_check(distance)\n",
    "print(\"初めて富士山の高さを超える回数:\", count, \"回\")"
   ]
  },
  {
   "cell_type": "markdown",
   "metadata": {},
   "source": [
    "## 【問題3】必要な紙の長さ"
   ]
  },
  {
   "cell_type": "code",
   "execution_count": 37,
   "metadata": {},
   "outputs": [
    {
     "name": "stdout",
     "output_type": "stream",
     "text": [
      "43回折ると384400000mを超え、この時3.240919444170781e+21mの紙が必要\n",
      "26回折ると3776mを超え、この時188646348487.24017mの紙が必要\n",
      "69回折ると4.014187939516034e+16mを超え、この時1.4595803601100348e+37mの紙が必要\n"
     ]
    }
   ],
   "source": [
    "import math\n",
    "def length_needed(distance,  folded_thickness=0.00008):\n",
    "    \"\"\"\n",
    "    必要な紙の長さを計算する関数\n",
    "    \n",
    "    Parameteres\n",
    "    --------------\n",
    "    distance: int or float\n",
    "        判定したい距離。単位はメートル。\n",
    "    folded_thickness: int or float\n",
    "        紙の厚さ。単位はメートル。(default : 0.00008)\n",
    "\n",
    "    Returns\n",
    "    --------------\n",
    "    length: float\n",
    "        必要な紙の長さ。単位はメートル。\n",
    "    times: int\n",
    "        折る回数\n",
    "    \"\"\"\n",
    "    \n",
    "    times = times_of_folds_check(distance)\n",
    "    length = (math.pi*THICKNESS/6)*(2**times + 4)*(2**times - 1)\n",
    "    return length\n",
    "\n",
    "# 月\n",
    "distance_to_the_moon = 384400*1000\n",
    "distance = distance_to_the_moon\n",
    "times = times_of_folds_check(distance)\n",
    "length = length_needed(distance)\n",
    "print(\"{}回折ると{}mを超え、この時{}mの紙が必要\".format(times, distance, length))\n",
    "\n",
    "# 富士山\n",
    "height_FUJISAN = 3776\n",
    "distance = height_FUJISAN\n",
    "times = times_of_folds_check(distance)\n",
    "length = length_needed(distance)\n",
    "print(\"{}回折ると{}mを超え、この時{}mの紙が必要\".format(times, distance, length))\n",
    "\n",
    "# 最も近い太陽以外の恒星：プロキシマ・ケンタウリ(Proxima Centauri)\n",
    "distance_to_the_Proxima_Centauri = 4.243*9460730472580800\n",
    "distance = distance_to_the_Proxima_Centauri\n",
    "times = times_of_folds_check(distance)\n",
    "length = length_needed(distance)\n",
    "print(\"{}回折ると{}mを超え、この時{}mの紙が必要\".format(times, distance, length))"
   ]
  }
 ],
 "metadata": {
  "kernelspec": {
   "display_name": "Python 3",
   "language": "python",
   "name": "python3"
  },
  "language_info": {
   "codemirror_mode": {
    "name": "ipython",
    "version": 3
   },
   "file_extension": ".py",
   "mimetype": "text/x-python",
   "name": "python",
   "nbconvert_exporter": "python",
   "pygments_lexer": "ipython3",
   "version": "3.8.3"
  }
 },
 "nbformat": 4,
 "nbformat_minor": 4
}
