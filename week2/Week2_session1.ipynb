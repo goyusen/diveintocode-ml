{
 "cells": [
  {
   "cell_type": "markdown",
   "metadata": {},
   "source": [
    "# 機械学習のための数学授業課題1 二次元配列と勾配問題\n",
    "\n",
    "**テキストの目的**\n",
    "- 数式演算ライブラリのNumPyに慣れる\n",
    "- 勾配を求めてみる\n",
    "\n",
    "**どのように学ぶか**\n",
    "- NumPyについていろいろな機能に触れつつ、勾配について学んでいきます。"
   ]
  },
  {
   "cell_type": "markdown",
   "metadata": {},
   "source": [
    "## 二次元配列と勾配問題\n",
    "\n",
    "機械学習においては関数の最小値を見つけることが重要になってきます。そのために使われるのが勾配降下法です。\n",
    "\n",
    "この課題では勾配降下法を理解する準備として、NumPyを用いて関数の勾配を考えていきます。"
   ]
  },
  {
   "cell_type": "markdown",
   "metadata": {},
   "source": [
    "## 【問題1】1次関数\n",
    "\n",
    "$x$ が-50から50の範囲で次の式を考えます。\n",
    "\n",
    "$$\n",
    "y = \\frac{1}{2}x + 1\n",
    "$$\n",
    "\n",
    "-50から50まで0.1間隔のxを表すndarrayと、各要素に対するyを表すndarrayを作成してください。"
   ]
  },
  {
   "cell_type": "code",
   "execution_count": 18,
   "metadata": {},
   "outputs": [
    {
     "name": "stdout",
     "output_type": "stream",
     "text": [
      "[-50.  -49.9 -49.8 ...  49.8  49.9  50. ]\n",
      "[-24.   -23.95 -23.9  ...  25.9   25.95  26.  ]\n"
     ]
    }
   ],
   "source": [
    "import numpy as np\n",
    "\n",
    "start = -50\n",
    "end = 50\n",
    "step = 0.1\n",
    "x_ndarray = np.arange(start, end+step, step)\n",
    "y_ndarray = np.arange(start, end+step, step)/2 + 1\n",
    "print(x_ndarray)\n",
    "print(y_ndarray)"
   ]
  },
  {
   "cell_type": "markdown",
   "metadata": {},
   "source": [
    "## 【問題2】配列の結合\n",
    "\n",
    "問題1で作成したndarrayを結合し、(1001, 2)の形の配列にしてください。0列目にx、1列目にyが来るようにします。"
   ]
  },
  {
   "cell_type": "code",
   "execution_count": 19,
   "metadata": {},
   "outputs": [
    {
     "name": "stdout",
     "output_type": "stream",
     "text": [
      "[[-50.   -24.  ]\n",
      " [-49.9  -23.95]\n",
      " [-49.8  -23.9 ]\n",
      " ...\n",
      " [ 49.8   25.9 ]\n",
      " [ 49.9   25.95]\n",
      " [ 50.    26.  ]]\n",
      "(1001, 2)\n"
     ]
    }
   ],
   "source": [
    "xy_ndarray = np.vstack([x_ndarray, y_ndarray]).T\n",
    "print(xy_ndarray)\n",
    "print(xy_ndarray.shape)"
   ]
  },
  {
   "cell_type": "markdown",
   "metadata": {},
   "source": [
    "## 【問題3】勾配を求める\n",
    "各x座標における勾配を求めます。ここで勾配はyの変化量をxの変化量で割ることで計算します。"
   ]
  },
  {
   "cell_type": "code",
   "execution_count": 24,
   "metadata": {},
   "outputs": [
    {
     "name": "stdout",
     "output_type": "stream",
     "text": [
      "[0.5 0.5 0.5 0.5 0.5 0.5 0.5 0.5 0.5 0.5 0.5 0.5 0.5 0.5 0.5 0.5 0.5 0.5\n",
      " 0.5 0.5 0.5 0.5 0.5 0.5 0.5 0.5 0.5 0.5 0.5 0.5 0.5 0.5 0.5 0.5 0.5 0.5\n",
      " 0.5 0.5 0.5 0.5 0.5 0.5 0.5 0.5 0.5 0.5 0.5 0.5 0.5 0.5 0.5 0.5 0.5 0.5\n",
      " 0.5 0.5 0.5 0.5 0.5 0.5 0.5 0.5 0.5 0.5 0.5 0.5 0.5 0.5 0.5 0.5 0.5 0.5\n",
      " 0.5 0.5 0.5 0.5 0.5 0.5 0.5 0.5 0.5 0.5 0.5 0.5 0.5 0.5 0.5 0.5 0.5 0.5\n",
      " 0.5 0.5 0.5 0.5 0.5 0.5 0.5 0.5 0.5 0.5 0.5 0.5 0.5 0.5 0.5 0.5 0.5 0.5\n",
      " 0.5 0.5 0.5 0.5 0.5 0.5 0.5 0.5 0.5 0.5 0.5 0.5 0.5 0.5 0.5 0.5 0.5 0.5\n",
      " 0.5 0.5 0.5 0.5 0.5 0.5 0.5 0.5 0.5 0.5 0.5 0.5 0.5 0.5 0.5 0.5 0.5 0.5\n",
      " 0.5 0.5 0.5 0.5 0.5 0.5 0.5 0.5 0.5 0.5 0.5 0.5 0.5 0.5 0.5 0.5 0.5 0.5\n",
      " 0.5 0.5 0.5 0.5 0.5 0.5 0.5 0.5 0.5 0.5 0.5 0.5 0.5 0.5 0.5 0.5 0.5 0.5\n",
      " 0.5 0.5 0.5 0.5 0.5 0.5 0.5 0.5 0.5 0.5 0.5 0.5 0.5 0.5 0.5 0.5 0.5 0.5\n",
      " 0.5 0.5 0.5 0.5 0.5 0.5 0.5 0.5 0.5 0.5 0.5 0.5 0.5 0.5 0.5 0.5 0.5 0.5\n",
      " 0.5 0.5 0.5 0.5 0.5 0.5 0.5 0.5 0.5 0.5 0.5 0.5 0.5 0.5 0.5 0.5 0.5 0.5\n",
      " 0.5 0.5 0.5 0.5 0.5 0.5 0.5 0.5 0.5 0.5 0.5 0.5 0.5 0.5 0.5 0.5 0.5 0.5\n",
      " 0.5 0.5 0.5 0.5 0.5 0.5 0.5 0.5 0.5 0.5 0.5 0.5 0.5 0.5 0.5 0.5 0.5 0.5\n",
      " 0.5 0.5 0.5 0.5 0.5 0.5 0.5 0.5 0.5 0.5 0.5 0.5 0.5 0.5 0.5 0.5 0.5 0.5\n",
      " 0.5 0.5 0.5 0.5 0.5 0.5 0.5 0.5 0.5 0.5 0.5 0.5 0.5 0.5 0.5 0.5 0.5 0.5\n",
      " 0.5 0.5 0.5 0.5 0.5 0.5 0.5 0.5 0.5 0.5 0.5 0.5 0.5 0.5 0.5 0.5 0.5 0.5\n",
      " 0.5 0.5 0.5 0.5 0.5 0.5 0.5 0.5 0.5 0.5 0.5 0.5 0.5 0.5 0.5 0.5 0.5 0.5\n",
      " 0.5 0.5 0.5 0.5 0.5 0.5 0.5 0.5 0.5 0.5 0.5 0.5 0.5 0.5 0.5 0.5 0.5 0.5\n",
      " 0.5 0.5 0.5 0.5 0.5 0.5 0.5 0.5 0.5 0.5 0.5 0.5 0.5 0.5 0.5 0.5 0.5 0.5\n",
      " 0.5 0.5 0.5 0.5 0.5 0.5 0.5 0.5 0.5 0.5 0.5 0.5 0.5 0.5 0.5 0.5 0.5 0.5\n",
      " 0.5 0.5 0.5 0.5 0.5 0.5 0.5 0.5 0.5 0.5 0.5 0.5 0.5 0.5 0.5 0.5 0.5 0.5\n",
      " 0.5 0.5 0.5 0.5 0.5 0.5 0.5 0.5 0.5 0.5 0.5 0.5 0.5 0.5 0.5 0.5 0.5 0.5\n",
      " 0.5 0.5 0.5 0.5 0.5 0.5 0.5 0.5 0.5 0.5 0.5 0.5 0.5 0.5 0.5 0.5 0.5 0.5\n",
      " 0.5 0.5 0.5 0.5 0.5 0.5 0.5 0.5 0.5 0.5 0.5 0.5 0.5 0.5 0.5 0.5 0.5 0.5\n",
      " 0.5 0.5 0.5 0.5 0.5 0.5 0.5 0.5 0.5 0.5 0.5 0.5 0.5 0.5 0.5 0.5 0.5 0.5\n",
      " 0.5 0.5 0.5 0.5 0.5 0.5 0.5 0.5 0.5 0.5 0.5 0.5 0.5 0.5 0.5 0.5 0.5 0.5\n",
      " 0.5 0.5 0.5 0.5 0.5 0.5 0.5 0.5 0.5 0.5 0.5 0.5 0.5 0.5 0.5 0.5 0.5 0.5\n",
      " 0.5 0.5 0.5 0.5 0.5 0.5 0.5 0.5 0.5 0.5 0.5 0.5 0.5 0.5 0.5 0.5 0.5 0.5\n",
      " 0.5 0.5 0.5 0.5 0.5 0.5 0.5 0.5 0.5 0.5 0.5 0.5 0.5 0.5 0.5 0.5 0.5 0.5\n",
      " 0.5 0.5 0.5 0.5 0.5 0.5 0.5 0.5 0.5 0.5 0.5 0.5 0.5 0.5 0.5 0.5 0.5 0.5\n",
      " 0.5 0.5 0.5 0.5 0.5 0.5 0.5 0.5 0.5 0.5 0.5 0.5 0.5 0.5 0.5 0.5 0.5 0.5\n",
      " 0.5 0.5 0.5 0.5 0.5 0.5 0.5 0.5 0.5 0.5 0.5 0.5 0.5 0.5 0.5 0.5 0.5 0.5\n",
      " 0.5 0.5 0.5 0.5 0.5 0.5 0.5 0.5 0.5 0.5 0.5 0.5 0.5 0.5 0.5 0.5 0.5 0.5\n",
      " 0.5 0.5 0.5 0.5 0.5 0.5 0.5 0.5 0.5 0.5 0.5 0.5 0.5 0.5 0.5 0.5 0.5 0.5\n",
      " 0.5 0.5 0.5 0.5 0.5 0.5 0.5 0.5 0.5 0.5 0.5 0.5 0.5 0.5 0.5 0.5 0.5 0.5\n",
      " 0.5 0.5 0.5 0.5 0.5 0.5 0.5 0.5 0.5 0.5 0.5 0.5 0.5 0.5 0.5 0.5 0.5 0.5\n",
      " 0.5 0.5 0.5 0.5 0.5 0.5 0.5 0.5 0.5 0.5 0.5 0.5 0.5 0.5 0.5 0.5 0.5 0.5\n",
      " 0.5 0.5 0.5 0.5 0.5 0.5 0.5 0.5 0.5 0.5 0.5 0.5 0.5 0.5 0.5 0.5 0.5 0.5\n",
      " 0.5 0.5 0.5 0.5 0.5 0.5 0.5 0.5 0.5 0.5 0.5 0.5 0.5 0.5 0.5 0.5 0.5 0.5\n",
      " 0.5 0.5 0.5 0.5 0.5 0.5 0.5 0.5 0.5 0.5 0.5 0.5 0.5 0.5 0.5 0.5 0.5 0.5\n",
      " 0.5 0.5 0.5 0.5 0.5 0.5 0.5 0.5 0.5 0.5 0.5 0.5 0.5 0.5 0.5 0.5 0.5 0.5\n",
      " 0.5 0.5 0.5 0.5 0.5 0.5 0.5 0.5 0.5 0.5 0.5 0.5 0.5 0.5 0.5 0.5 0.5 0.5\n",
      " 0.5 0.5 0.5 0.5 0.5 0.5 0.5 0.5 0.5 0.5 0.5 0.5 0.5 0.5 0.5 0.5 0.5 0.5\n",
      " 0.5 0.5 0.5 0.5 0.5 0.5 0.5 0.5 0.5 0.5 0.5 0.5 0.5 0.5 0.5 0.5 0.5 0.5\n",
      " 0.5 0.5 0.5 0.5 0.5 0.5 0.5 0.5 0.5 0.5 0.5 0.5 0.5 0.5 0.5 0.5 0.5 0.5\n",
      " 0.5 0.5 0.5 0.5 0.5 0.5 0.5 0.5 0.5 0.5 0.5 0.5 0.5 0.5 0.5 0.5 0.5 0.5\n",
      " 0.5 0.5 0.5 0.5 0.5 0.5 0.5 0.5 0.5 0.5 0.5 0.5 0.5 0.5 0.5 0.5 0.5 0.5\n",
      " 0.5 0.5 0.5 0.5 0.5 0.5 0.5 0.5 0.5 0.5 0.5 0.5 0.5 0.5 0.5 0.5 0.5 0.5\n",
      " 0.5 0.5 0.5 0.5 0.5 0.5 0.5 0.5 0.5 0.5 0.5 0.5 0.5 0.5 0.5 0.5 0.5 0.5\n",
      " 0.5 0.5 0.5 0.5 0.5 0.5 0.5 0.5 0.5 0.5 0.5 0.5 0.5 0.5 0.5 0.5 0.5 0.5\n",
      " 0.5 0.5 0.5 0.5 0.5 0.5 0.5 0.5 0.5 0.5 0.5 0.5 0.5 0.5 0.5 0.5 0.5 0.5\n",
      " 0.5 0.5 0.5 0.5 0.5 0.5 0.5 0.5 0.5 0.5 0.5 0.5 0.5 0.5 0.5 0.5 0.5 0.5\n",
      " 0.5 0.5 0.5 0.5 0.5 0.5 0.5 0.5 0.5 0.5 0.5 0.5 0.5 0.5 0.5 0.5 0.5 0.5\n",
      " 0.5 0.5 0.5 0.5 0.5 0.5 0.5 0.5 0.5 0.5]\n",
      "(1000,)\n"
     ]
    }
   ],
   "source": [
    "# xy_ndarray[1:, 1] - xy_ndarray[-1:, 1] スライスしてyの変化量を求める\n",
    "# xy_ndarray[1:, 0] - xy_ndarray[-1:, 0] スライスしてxの変化量を求める\n",
    "gradient = (xy_ndarray[1:, 1] - xy_ndarray[:-1, 1])/(xy_ndarray[1:, 0] - xy_ndarray[:-1, 0])\n",
    "print(gradient)\n",
    "print(gradient.shape)"
   ]
  },
  {
   "cell_type": "markdown",
   "metadata": {},
   "source": [
    "## 【問題4】グラフを描く\n",
    "\n",
    "1次関数のグラフをMatplotlibを用いて描いてください。また、それとは別に横軸をx、縦軸を勾配としたグラフも描いてください。\n",
    "\n",
    "[matplotlib.pyplot.plot — Matplotlib 3.1.0 documentation](https://matplotlib.org/3.1.0/api/_as_gen/matplotlib.pyplot.plot.html)\n"
   ]
  },
  {
   "cell_type": "code",
   "execution_count": 27,
   "metadata": {},
   "outputs": [
    {
     "data": {
      "image/png": "[encoded data removed]",
      "text/plain": [
       "<Figure size 432x288 with 1 Axes>"
      ]
     },
     "metadata": {
      "needs_background": "light"
     },
     "output_type": "display_data"
    },
    {
     "data": {
      "image/png": "[encoded data removed]",
      "text/plain": [
       "<Figure size 432x288 with 1 Axes>"
      ]
     },
     "metadata": {
      "needs_background": "light"
     },
     "output_type": "display_data"
    }
   ],
   "source": [
    "import matplotlib.pyplot as plt\n",
    "%matplotlib inline\n",
    "\n",
    "#1次関数のグラフ\n",
    "plt.title(\"y=x/2 + 1\")\n",
    "plt.xlabel(\"x\")\n",
    "plt.ylabel(\"y\")\n",
    "plt.plot(xy_ndarray[:, 0], xy_ndarray[:, 1], color = \"orange\")\n",
    "plt.show()\n",
    "\n",
    "#横軸をx、縦軸を勾配としたグラフ\n",
    "plt.title(\"gradient of y=x/2 + 1\")\n",
    "plt.xlabel(\"x\")\n",
    "plt.ylabel(\"gradient\")\n",
    "plt.plot(xy_ndarray[:-1, 0], gradient, color = \"orange\")\n",
    "plt.show()"
   ]
  },
  {
   "cell_type": "markdown",
   "metadata": {},
   "source": [
    "## 【問題5】Pythonの関数化\n",
    "\n",
    "問題1から問題3までの範囲をまとめて行うPythonの関数を雛形を参考に作成してください。"
   ]
  },
  {
   "cell_type": "code",
   "execution_count": 82,
   "metadata": {},
   "outputs": [],
   "source": [
    "def cal_gradient(formula, x_range=(-50, 50.1, 0.1)):\n",
    "    \"\"\"\n",
    "    勾配を計算する関数\n",
    "    \n",
    "    Parameteres\n",
    "    --------------\n",
    "    formula : function\n",
    "      lambda関数、xのndarrayを入れるとyのndarrayを返すもの。\n",
    "    x_range : tuple\n",
    "      np.arange()の引数と同じ方法で範囲を指定する。\n",
    "    \n",
    "    Returns\n",
    "    --------------\n",
    "    xy_ndarray : ndarray, shape(n, 2)\n",
    "      xとyを結合したもの。nはx_rangeに依存する。\n",
    "    gradient : ndarray, shape(n,)\n",
    "      関数の勾配\n",
    "    \"\"\"\n",
    "    x_ndarray = np.arange(*x_range)    \n",
    "    y_ndarray = formula(x_ndarray)\n",
    "    xy_ndarray = np.vstack([x_ndarray, y_ndarray]).T\n",
    "    gradient = (xy_ndarray[1:, 1] - xy_ndarray[:-1, 1])/(xy_ndarray[1:, 0] - xy_ndarray[:-1, 0])\n",
    "    return xy_ndarray, gradient\n",
    "    \n",
    "\n",
    "formula1 = lambda x_ndarray: x_ndarray**2 #lambda関数（引数: 戻り値）　式1\n",
    "\n",
    "formula2 = lambda x_ndarray: 2*x_ndarray**2 + 2**x_ndarray #式2\n",
    "\n",
    "formula3 = lambda x_ndarray: np.sin(x_ndarray**0.5) #式3"
   ]
  },
  {
   "cell_type": "code",
   "execution_count": 83,
   "metadata": {},
   "outputs": [
    {
     "data": {
      "image/png": "[encoded data removed]",
      "text/plain": [
       "<Figure size 432x288 with 1 Axes>"
      ]
     },
     "metadata": {
      "needs_background": "light"
     },
     "output_type": "display_data"
    },
    {
     "data": {
      "image/png": "[encoded data removed]",
      "text/plain": [
       "<Figure size 432x288 with 1 Axes>"
      ]
     },
     "metadata": {
      "needs_background": "light"
     },
     "output_type": "display_data"
    }
   ],
   "source": [
    "xy_ndarray1, gradient1 = cal_gradient(formula1)\n",
    "\n",
    "plt.title(\"y=x**2\")\n",
    "plt.xlabel(\"x\")\n",
    "plt.ylabel(\"y\")\n",
    "plt.plot(xy_ndarray1[:, 0], xy_ndarray1[:, 1], color = \"orange\")\n",
    "plt.show()\n",
    "\n",
    "plt.title(\"gradient of y=x**2\")\n",
    "plt.xlabel(\"x\")\n",
    "plt.ylabel(\"gradient\")\n",
    "plt.plot(xy_ndarray1[:-1, 0], gradient1, color = \"orange\")\n",
    "plt.show()"
   ]
  },
  {
   "cell_type": "code",
   "execution_count": 84,
   "metadata": {},
   "outputs": [
    {
     "data": {
      "image/png": "[encoded data removed]",
      "text/plain": [
       "<Figure size 432x288 with 1 Axes>"
      ]
     },
     "metadata": {
      "needs_background": "light"
     },
     "output_type": "display_data"
    },
    {
     "data": {
      "image/png": "[encoded data removed]",
      "text/plain": [
       "<Figure size 432x288 with 1 Axes>"
      ]
     },
     "metadata": {
      "needs_background": "light"
     },
     "output_type": "display_data"
    }
   ],
   "source": [
    "xy_ndarray2, gradient2 = cal_gradient(formula2)\n",
    "\n",
    "plt.title(\"y=2*x**2 + 2**x\")\n",
    "plt.xlabel(\"x\")\n",
    "plt.ylabel(\"y\")\n",
    "plt.plot(xy_ndarray2[:, 0], xy_ndarray2[:, 1], color = \"orange\")\n",
    "plt.show()\n",
    "\n",
    "plt.title(\"gradient of y=2*x**2 + 2**x\")\n",
    "plt.xlabel(\"x\")\n",
    "plt.ylabel(\"gradient\")\n",
    "plt.plot(xy_ndarray2[:-1, 0], gradient2, color = \"orange\")\n",
    "plt.show()"
   ]
  },
  {
   "cell_type": "code",
   "execution_count": 88,
   "metadata": {},
   "outputs": [
    {
     "data": {
      "image/png": "[encoded data removed]",
      "text/plain": [
       "<Figure size 432x288 with 1 Axes>"
      ]
     },
     "metadata": {
      "needs_background": "light"
     },
     "output_type": "display_data"
    },
    {
     "data": {
      "image/png": "[encoded data removed]",
      "text/plain": [
       "<Figure size 432x288 with 1 Axes>"
      ]
     },
     "metadata": {
      "needs_background": "light"
     },
     "output_type": "display_data"
    }
   ],
   "source": [
    "xy_ndarray3, gradient3 = cal_gradient(formula3, x_range=(0, 50.1, 0.1))\n",
    "\n",
    "plt.title(\"y=sin(x**0.5)\")\n",
    "plt.xlabel(\"x\")\n",
    "plt.ylabel(\"y\")\n",
    "plt.plot(xy_ndarray3[:, 0], xy_ndarray3[:, 1], color = \"orange\")\n",
    "plt.show()\n",
    "\n",
    "plt.title(\"gradient of y=sin(x**0.5)\")\n",
    "plt.xlabel(\"x\")\n",
    "plt.ylabel(\"gradient\")\n",
    "plt.plot(xy_ndarray3[:-1, 0], gradient3, color = \"orange\")\n",
    "plt.show()"
   ]
  },
  {
   "cell_type": "markdown",
   "metadata": {},
   "source": [
    "## 【問題6】最小値を求める\n",
    "\n",
    "問題5で扱った関数のyの最小値を求めます。xの範囲も問題5と同様とします。\n",
    "\n",
    "今回は勾配降下法ではなく、ndarrayのminメソッド、argminメソッドを用いてください。minメソッドは最小値を、argminメソッドは最小値のインデックスを取得することができます。\n",
    "\n",
    "また、最小のyをとる前後の勾配を表示してください。\n",
    "\n",
    "\n",
    "[numpy.ndarray.min — NumPy v1.16 Manual](https://docs.scipy.org/doc/numpy/reference/generated/numpy.ndarray.min.html)\n",
    "\n",
    "[numpy.ndarray.argmin — NumPy v1.16 Manual](https://docs.scipy.org/doc/numpy/reference/generated/numpy.ndarray.argmin.html)"
   ]
  },
  {
   "cell_type": "code",
   "execution_count": 89,
   "metadata": {},
   "outputs": [
    {
     "name": "stdout",
     "output_type": "stream",
     "text": [
      "関数y=x**2の最小値yは5.048709793414476e-25\n",
      "その最小値のインデックスは500\n"
     ]
    }
   ],
   "source": [
    "print(\"関数y=x**2の最小値yは{}\".format(xy_ndarray1[:,1].min()))\n",
    "print(\"その最小値のインデックスは{}\".format(xy_ndarray1[:,1].argmin()))                                        "
   ]
  },
  {
   "cell_type": "code",
   "execution_count": 97,
   "metadata": {},
   "outputs": [
    {
     "name": "stdout",
     "output_type": "stream",
     "text": [
      "その最小値yの前後の勾配は:  [-0.1  0.1]\n"
     ]
    }
   ],
   "source": [
    "print(\"その最小値yの前後の勾配は: \", gradient1[499:501])"
   ]
  },
  {
   "cell_type": "code",
   "execution_count": 98,
   "metadata": {},
   "outputs": [
    {
     "name": "stdout",
     "output_type": "stream",
     "text": [
      "関数y=2*x**2 + 2**xの最小値yは0.9505505632959851\n",
      "その最小値のインデックスは498\n"
     ]
    }
   ],
   "source": [
    "print(\"関数y=2*x**2 + 2**xの最小値yは{}\".format(xy_ndarray2[:,1].min()))\n",
    "print(\"その最小値のインデックスは{}\".format(xy_ndarray2[:,1].argmin()))     "
   ]
  },
  {
   "cell_type": "code",
   "execution_count": 100,
   "metadata": {},
   "outputs": [
    {
     "name": "stdout",
     "output_type": "stream",
     "text": [
      "その最小値yの前後の勾配は:  [-0.41701833  0.02482428]\n"
     ]
    }
   ],
   "source": [
    "print(\"その最小値yの前後の勾配は: \", gradient2[497:499])"
   ]
  },
  {
   "cell_type": "code",
   "execution_count": 101,
   "metadata": {},
   "outputs": [
    {
     "name": "stdout",
     "output_type": "stream",
     "text": [
      "関数y=sin(x**0.5)の最小値yは-0.9999997540298113\n",
      "その最小値のインデックスは222\n"
     ]
    }
   ],
   "source": [
    "print(\"関数y=sin(x**0.5)の最小値yは{}\".format(xy_ndarray3[:,1].min()))\n",
    "print(\"その最小値のインデックスは{}\".format(xy_ndarray3[:,1].argmin())) "
   ]
  },
  {
   "cell_type": "code",
   "execution_count": 102,
   "metadata": {},
   "outputs": [
    {
     "name": "stdout",
     "output_type": "stream",
     "text": [
      "その最小値yの前後の勾配は:  [-0.00063884  0.00048745]\n"
     ]
    }
   ],
   "source": [
    "print(\"その最小値yの前後の勾配は: \", gradient3[221:223])"
   ]
  }
 ],
 "metadata": {
  "kernelspec": {
   "display_name": "Python 3",
   "language": "python",
   "name": "python3"
  },
  "language_info": {
   "codemirror_mode": {
    "name": "ipython",
    "version": 3
   },
   "file_extension": ".py",
   "mimetype": "text/x-python",
   "name": "python",
   "nbconvert_exporter": "python",
   "pygments_lexer": "ipython3",
   "version": "3.8.6"
  }
 },
 "nbformat": 4,
 "nbformat_minor": 4
}
