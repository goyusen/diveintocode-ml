{
 "cells": [
  {
   "cell_type": "markdown",
   "metadata": {},
   "source": [
    "# 解答例：Week2 授業前課題3 行列積のスクラッチ\n",
    "\n",
    "**テキストの目的**\n",
    "- 数式演算ライブラリのNumPyに慣れる\n",
    "- 行列演算に慣れる\n",
    "\n",
    "**どのように学ぶか**\n",
    "- 行列積の計算を手計算で行った後、スクラッチ実装することで理解を深めていきます。"
   ]
  },
  {
   "cell_type": "markdown",
   "metadata": {},
   "source": [
    "## 行列積\n",
    "\n",
    "以下のような行列A、Bを考えます。\n",
    "\n",
    "$$\n",
    "A = \\left[\n",
    "\\begin{array}{ccc}\n",
    "  -1 & 2 & 3 \\\\\n",
    "  4 & -5 & 6 \\\\\u0018\u0018\n",
    "  7 & 8 & -9\n",
    "\\end{array}\n",
    "\\right],\n",
    "B = \\left[\n",
    "\\begin{array}{ccc}\n",
    "  0 & 2 & 1 \\\\\n",
    "  0 & 2 & -8 \\\\\n",
    "  2 & 9 & -1\n",
    "\\end{array}\n",
    "\\right]\n",
    "$$\n",
    "\n",
    "\n",
    "\n",
    "NumPyで表すと次のようになります。"
   ]
  },
  {
   "cell_type": "code",
   "execution_count": 2,
   "metadata": {},
   "outputs": [],
   "source": [
    "import numpy as np\n",
    "a_ndarray = np.array([[-1, 2, 3], [4, -5, 6], [7, 8, -9]])\n",
    "b_ndarray = np.array([[0, 2, 1], [0, 2, -8], [2, 9, -1]])"
   ]
  },
  {
   "cell_type": "markdown",
   "metadata": {},
   "source": [
    "## 【問題1】行列積を手計算する\n",
    "\n",
    "AとBの行列積を手計算で解いてください。\n",
    "\n",
    "計算過程もマークダウンテキストを用いて説明してください。\n"
   ]
  },
  {
   "cell_type": "markdown",
   "metadata": {},
   "source": [
    "$$\n",
    "AB = \n",
    "\\left[\n",
    "\\begin{array}{ccc}\n",
    "  (-1)\\times0+2\\times0+3\\times2 & (-1)\\times2+2\\times2+3\\times9 & (-1)\\times1+2\\times(-8)+3\\times(-1) \\\\\n",
    "  4\\times0+(-5)\\times0+6\\times2 & 4\\times2+(-5)\\times2+6\\times9 & 4\\times1+(-5)\\times(-8)+6\\times(-1) \\\\\u0018\u0018\n",
    "  7\\times0+8\\times0+(-9)\\times2 & -7\\times0+8\\times2+(-9)\\times9 & 7\\times1+8\\times(-8)+(-9)\\times(-1)\n",
    "\\end{array}\n",
    "\\right]\n",
    "=\\left[\n",
    "\\begin{array}{ccc}\n",
    "  6 & 29 & -20 \\\\\n",
    "  12 & 52 & 38 \\\\\u0018\u0018\n",
    "  -18 & -51 & -48\n",
    "\\end{array}\n",
    "\\right]\n",
    "$$"
   ]
  },
  {
   "cell_type": "markdown",
   "metadata": {},
   "source": [
    "## 【問題2】NumPyの関数による計算\n",
    "\n",
    "この行列積はNumPyのnp.matmul()やnp.dot()、または@演算子を使うことで簡単に計算できます。\n",
    "\n",
    "これらを使い行列積を計算してください。\n",
    "\n",
    "[numpy.matmul — NumPy v1.16 Manual](https://docs.scipy.org/doc/numpy/reference/generated/numpy.matmul.html#numpy.matmul)\n",
    "\n",
    "[numpy.dot — NumPy v1.16 Manual](https://docs.scipy.org/doc/numpy/reference/generated/numpy.dot.html)\n",
    "\n",
    "《3種類の違い》\n",
    "\n",
    "np.matmul()とnp.dot()は3次元以上の配列で挙動が変わります。@演算子はnp.matmul()と同じ働きをします。\n",
    "\n",
    "今回のような2次元配列の行列積ではnp.matmul()や@演算子が公式に推奨されています。以下はnp.dot()の説明からの引用です。\n",
    "\n",
    "If both a and b are 2-D arrays, it is matrix multiplication, but using matmul or a @ b is preferred."
   ]
  },
  {
   "cell_type": "code",
   "execution_count": 6,
   "metadata": {},
   "outputs": [
    {
     "name": "stdout",
     "output_type": "stream",
     "text": [
      "[[  6  29 -20]\n",
      " [ 12  52  38]\n",
      " [-18 -51 -48]]\n"
     ]
    }
   ],
   "source": [
    "c_ndarray = a_ndarray@b_ndarray\n",
    "print(c_ndarray)"
   ]
  },
  {
   "cell_type": "markdown",
   "metadata": {},
   "source": [
    "# 3.行列積のスクラッチ実装\n",
    "\n",
    "np.matmul()やnp.dot()、または@演算子を使わずに、手計算で行った計算過程をNumPyによるスクラッチ実装で再現していきましょう。これにより、行列積の計算に対する理解を深めます。ここで考えるのは行列AとBのような次元が2の配列に限定します。"
   ]
  },
  {
   "cell_type": "markdown",
   "metadata": {},
   "source": [
    "## 【問題3】ある要素の計算を実装"
   ]
  },
  {
   "cell_type": "code",
   "execution_count": 7,
   "metadata": {},
   "outputs": [
    {
     "name": "stdout",
     "output_type": "stream",
     "text": [
      "6\n"
     ]
    }
   ],
   "source": [
    "a_ndarray = np.array([[-1, 2, 3], [4, -5, 6], [7, 8, -9]])\n",
    "b_ndarray = np.array([[0, 2, 1], [0, 2, -8], [2, 9, -1]])\n",
    "\n",
    "matrix_product00 = (a_ndarray[0]*b_ndarray[:, 0]).sum()\n",
    "print(matrix_product00)"
   ]
  },
  {
   "cell_type": "markdown",
   "metadata": {},
   "source": [
    "## 【問題4】行列積を行う関数の作成"
   ]
  },
  {
   "cell_type": "code",
   "execution_count": 28,
   "metadata": {},
   "outputs": [
    {
     "name": "stdout",
     "output_type": "stream",
     "text": [
      "[[  6.  29. -20.]\n",
      " [ 12.  52.  38.]\n",
      " [-18. -51. -48.]]\n"
     ]
    }
   ],
   "source": [
    "def matrix_product(a, b):\n",
    "    \"\"\"\n",
    "    行列AとBの行列積を行う関数\n",
    "    \n",
    "    Parameteres\n",
    "    --------------\n",
    "    a, b : ndarray\n",
    "        行列AとB\n",
    "    \n",
    "    Returns\n",
    "    --------------\n",
    "    ab : ndarray\n",
    "        行列AとBの行列積\n",
    "    \"\"\"\n",
    "    ab = np.empty((a.shape[0], b.shape[1]))\n",
    "    \n",
    "    for i in  range(a.shape[0]):\n",
    "        for j in range(b.shape[1]):\n",
    "            ab[i, j] = (a[i]*b[:, j]).sum()\n",
    "    return ab\n",
    "\n",
    "# 行列a_ndarrayとb_ndarrayを代入し、計算結果を出す\n",
    "print(matrix_product(a=a_ndarray, b=b_ndarray))"
   ]
  },
  {
   "cell_type": "markdown",
   "metadata": {},
   "source": [
    "# 4.行列積が定義されない組み合わせの行列"
   ]
  },
  {
   "cell_type": "markdown",
   "metadata": {},
   "source": [
    "## 【問題5】計算が定義されない入力を判定する"
   ]
  },
  {
   "cell_type": "code",
   "execution_count": 40,
   "metadata": {},
   "outputs": [
    {
     "name": "stdout",
     "output_type": "stream",
     "text": [
      "Cannot calculationan(a.shape[1] != b.shape[0]) : 3 != 2\n",
      "計算結果: None\n"
     ]
    }
   ],
   "source": [
    "def matrix_product_check(a, b):\n",
    "    ab = np.empty((a.shape[0], b.shape[1]))\n",
    "\n",
    "    if a.shape[1] == b.shape[0]:\n",
    "        for i in  range(a.shape[0]):\n",
    "            for j in range(b.shape[1]):\n",
    "                ab[i, j] = (a[i]*b[:, j]).sum()\n",
    "        return ab\n",
    "    else:\n",
    "        print(\"Cannot calculationan(a.shape[1] != b.shape[0]) : {} != {}\".format(a.shape[1], b.shape[0]))\n",
    "        return None\n",
    "        \n",
    "d = np.array([[-1, 2, 3], [4, -5, 6]])\n",
    "e = np.array([[-9, 8, 7], [6, -5, 4]])\n",
    "print(\"計算結果: {}\".format(matrix_product_check(d, e)))"
   ]
  },
  {
   "cell_type": "markdown",
   "metadata": {},
   "source": [
    "## 【問題6】転置\n",
    "**ポイント：行と列の数を合わせれば計算可能！**\n",
    "\n",
    "\n",
    "片方の行列を転置することで、行列積が計算できるようになります。\n",
    "\n",
    "np.transpose()や.T アトリビュートを用いて転置し、行列積を計算してください。\n",
    "\n",
    "[numpy.transpose — NumPy v1.16 Manual](https://docs.scipy.org/doc/numpy/reference/generated/numpy.transpose.html)\n",
    "\n",
    "[numpy.ndarray.T — NumPy v1.16 Manual](https://docs.scipy.org/doc/numpy/reference/generated/numpy.ndarray.T.html)"
   ]
  },
  {
   "cell_type": "code",
   "execution_count": 49,
   "metadata": {},
   "outputs": [
    {
     "name": "stdout",
     "output_type": "stream",
     "text": [
      "dを転置した計算結果：\n",
      "[[ 33 -28   9]\n",
      " [-48  41  -6]\n",
      " [  9  -6  45]]\n",
      "eを転置した計算結果：\n",
      "[[ 46  -4]\n",
      " [-34  73]]\n"
     ]
    }
   ],
   "source": [
    "d = np.array([[-1, 2, 3], [4, -5, 6]])\n",
    "e = np.array([[-9, 8, 7], [6, -5, 4]])\n",
    "\n",
    "d_t = d.transpose() #dを転置\n",
    "print(\"dを転置した計算結果：\\n{}\".format(d_t@e))\n",
    "\n",
    "e_t = e.transpose() #eを転置\n",
    "print(\"eを転置した計算結果：\\n{}\".format(d@e_t))"
   ]
  }
 ],
 "metadata": {
  "kernelspec": {
   "display_name": "Python 3",
   "language": "python",
   "name": "python3"
  },
  "language_info": {
   "codemirror_mode": {
    "name": "ipython",
    "version": 3
   },
   "file_extension": ".py",
   "mimetype": "text/x-python",
   "name": "python",
   "nbconvert_exporter": "python",
   "pygments_lexer": "ipython3",
   "version": "3.8.6"
  }
 },
 "nbformat": 4,
 "nbformat_minor": 4
}
