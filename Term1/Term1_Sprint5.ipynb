{
 "cells": [
  {
   "cell_type": "markdown",
   "metadata": {},
   "source": [
    "# Sprint 機械学習スクラッチ SVM"
   ]
  },
  {
   "cell_type": "markdown",
   "metadata": {},
   "source": [
    "**Sprintの目的**\n",
    "\n",
    "- スクラッチを通してSVMを理解する\n",
    "- 線形モデルと異なる手法に触れる\n",
    "\n",
    "**どのように学ぶか**\n",
    "\n",
    "スクラッチでSVMを実装した後、学習と検証を行なっていきます。"
   ]
  },
  {
   "cell_type": "markdown",
   "metadata": {},
   "source": [
    "## 【問題1】ラグランジュの未定乗数法による最急降下\n",
    "\n",
    "SVMの学習は、ラグランジュの未定乗数法を用います。"
   ]
  },
  {
   "cell_type": "code",
   "execution_count": 41,
   "metadata": {},
   "outputs": [],
   "source": [
    "import numpy as np\n",
    "import pandas as pd\n",
    "import matplotlib.pyplot as plt\n",
    "%matplotlib inline"
   ]
  },
  {
   "cell_type": "code",
   "execution_count": 42,
   "metadata": {},
   "outputs": [
    {
     "name": "stdout",
     "output_type": "stream",
     "text": [
      "y\n",
      " [[ 1]\n",
      " [-1]\n",
      " [ 1]\n",
      " [-1]\n",
      " [ 1]]\n",
      "y_shape (5, 1)\n",
      "-----------\n",
      "X\n",
      " [[ 1  2]\n",
      " [ 3  4]\n",
      " [ 5  6]\n",
      " [ 7  8]\n",
      " [ 9 10]]\n",
      "X_shape (5, 2)\n"
     ]
    }
   ],
   "source": [
    "# 仮のデータで動きをテストしてみる\n",
    "\n",
    "y = np.array([[1, -1, 1, -1, 1]]).reshape(-1, 1) #(5, 1)\n",
    "print(\"y\\n\", y)\n",
    "print(\"y_shape\", y.shape)\n",
    "print(\"-----------\")\n",
    "X = np.array([[1, 2], [3, 4], [5, 6], [7, 8], [9, 10]]) #(5, 2)\n",
    "print(\"X\\n\", X)\n",
    "print(\"X_shape\", X.shape)"
   ]
  },
  {
   "cell_type": "code",
   "execution_count": 43,
   "metadata": {},
   "outputs": [
    {
     "name": "stdout",
     "output_type": "stream",
     "text": [
      "yj [[ 1 -1  1 -1  1]]\n",
      "yj_shape (1, 5)\n"
     ]
    }
   ],
   "source": [
    "# i,j:サンプルのインデックス\n",
    "# yi:i番目のサンプルのラベル\n",
    "# yj:j番目のサンプルのラベル\n",
    "\n",
    "yi = y #(5, 1)\n",
    "yj = yi.T #(1, 5)\n",
    "print(\"yj\", yj)\n",
    "print(\"yj_shape\", yj.shape)"
   ]
  },
  {
   "cell_type": "code",
   "execution_count": 44,
   "metadata": {},
   "outputs": [
    {
     "data": {
      "text/plain": [
       "array([[ 1, -1,  1, -1,  1],\n",
       "       [-1,  1, -1,  1, -1],\n",
       "       [ 1, -1,  1, -1,  1],\n",
       "       [-1,  1, -1,  1, -1],\n",
       "       [ 1, -1,  1, -1,  1]])"
      ]
     },
     "execution_count": 44,
     "metadata": {},
     "output_type": "execute_result"
    }
   ],
   "source": [
    "np.dot(yi, yj) #(5, 5) # yi@yj,yi*yj も同じ"
   ]
  },
  {
   "cell_type": "code",
   "execution_count": 45,
   "metadata": {},
   "outputs": [
    {
     "name": "stdout",
     "output_type": "stream",
     "text": [
      "Xj\n",
      " [[ 1  3  5  7  9]\n",
      " [ 2  4  6  8 10]]\n",
      "Xj_shape (2, 5)\n"
     ]
    }
   ],
   "source": [
    "# Xi:i番目のサンプルの特徴量ベクトル\n",
    "# Xj:j番目のサンプルの特徴量ベクトル\n",
    "\n",
    "Xi = X #(5, 2)\n",
    "Xj = Xi.T #(2, 5)\n",
    "print(\"Xj\\n\", Xj)\n",
    "print(\"Xj_shape\", Xj.shape)"
   ]
  },
  {
   "cell_type": "code",
   "execution_count": 46,
   "metadata": {},
   "outputs": [],
   "source": [
    "# 線形カーネルの式linear_kernel\n",
    "\n",
    "def linear_kernel(Xi, Xj):\n",
    "    k = np.dot(Xi, Xj)\n",
    "    return k"
   ]
  },
  {
   "cell_type": "code",
   "execution_count": 47,
   "metadata": {},
   "outputs": [
    {
     "data": {
      "text/plain": [
       "array([[  5,  11,  17,  23,  29],\n",
       "       [ 11,  25,  39,  53,  67],\n",
       "       [ 17,  39,  61,  83, 105],\n",
       "       [ 23,  53,  83, 113, 143],\n",
       "       [ 29,  67, 105, 143, 181]])"
      ]
     },
     "execution_count": 47,
     "metadata": {},
     "output_type": "execute_result"
    }
   ],
   "source": [
    "kx = linear_kernel(Xi, Xj) #(5, 5)\n",
    "kx"
   ]
  },
  {
   "cell_type": "code",
   "execution_count": 48,
   "metadata": {},
   "outputs": [
    {
     "name": "stdout",
     "output_type": "stream",
     "text": [
      "lambda_i\n",
      " [[8]\n",
      " [3]\n",
      " [5]\n",
      " [9]\n",
      " [1]]\n",
      "lambda_i_shape (5, 1)\n",
      "-----------\n",
      "lambda_j [[8 3 5 9 1]]\n",
      "lambda_j_shape (1, 5)\n"
     ]
    }
   ],
   "source": [
    "# λi_new:更新後のi番目のサンプルのラグランジュ乗数\n",
    "# λi:更新前のi番目のサンプルのラグランジュ乗数(lamb_i)\n",
    "# λj:j番目のサンプルのラグランジュ乗数(lamb_j)\n",
    "\n",
    "lambda_i = np.array([[8, 3, 5, 9, 1]]).reshape(-1, 1) #(5, 1)\n",
    "print(\"lambda_i\\n\", lambda_i)\n",
    "print(\"lambda_i_shape\", lambda_i.shape)\n",
    "print(\"-----------\")\n",
    "\n",
    "lambda_j = lambda_i.T #(1, 5)\n",
    "print(\"lambda_j\", lambda_j)\n",
    "print(\"lambda_j_shape\", lambda_j.shape)"
   ]
  },
  {
   "cell_type": "code",
   "execution_count": 49,
   "metadata": {},
   "outputs": [
    {
     "name": "stdout",
     "output_type": "stream",
     "text": [
      "sigma(before_reshape)\n",
      " [ -86  202 -318  434 -550]\n",
      "-----------\n",
      "sigma(after_reshape)\n",
      " [[ -86]\n",
      " [ 202]\n",
      " [-318]\n",
      " [ 434]\n",
      " [-550]]\n",
      "-----------\n",
      "lambda_i_new: \n",
      " [[8.87]\n",
      " [0.99]\n",
      " [8.19]\n",
      " [4.67]\n",
      " [6.51]]\n"
     ]
    }
   ],
   "source": [
    "# ラグランジュの未定乗数法による最急降下式(勾配上昇法)\n",
    "\n",
    "αlpha = 0.01 # 学習率\n",
    "yy = np.dot(yi, yj) #(5, 5)\n",
    "yykx = yy*kx\n",
    "sigma = np.sum(lambda_j@yykx, axis=0)\n",
    "print(\"sigma(before_reshape)\\n\", sigma)\n",
    "print(\"-----------\")\n",
    "sigma = sigma.reshape(-1, 1) #ベクトルから行列に直す\n",
    "print(\"sigma(after_reshape)\\n\", sigma)\n",
    "\n",
    "lambda_i_new = lambda_i + αlpha*(1 - sigma)\n",
    "print(\"-----------\")\n",
    "print(\"lambda_i_new: \\n\", lambda_i_new)\n",
    "\n",
    "# np.where(lambda_i_new < 0, 0, lambda_i_new) #更新毎にλi>=0を満たす必要があり,満たさない場合はλi=0"
   ]
  },
  {
   "cell_type": "markdown",
   "metadata": {},
   "source": [
    "## 【問題2】サポートベクターの決定\n",
    "\n",
    "計算したラグランジュ乗数 λ が設定した閾値より大きいサンプルをサポートベクターとして扱います。推定時にサポートベクターが必要になります。サポートベクターを決定し、インスタンス変数として保持しておくコードを書いてください。\n",
    "\n",
    "\n",
    "閾値はハイパーパラメータですが、1e-5程度からはじめると良いでしょう。サポートベクターの数を出力させられるようにしておくと学習がうまく行えているかを確認できます。"
   ]
  },
  {
   "cell_type": "code",
   "execution_count": 50,
   "metadata": {},
   "outputs": [
    {
     "name": "stdout",
     "output_type": "stream",
     "text": [
      "閾値より大きいラグランジュ乗数のインデックス [0 2]\n",
      "閾値より大きいラグランジュ乗数:\n",
      " [[8.87]\n",
      " [8.19]]\n"
     ]
    }
   ],
   "source": [
    "# 閾値(ハイパーパラメータ) threshold\n",
    "\n",
    "threshold = 7 # 仮に閾値を７に設定\n",
    "lambda_sv_idx = np.where(lambda_i_new > threshold)[0] # 閾値より大きいサンプルの行インデックス\n",
    "lambda_sv_idx\n",
    "print(\"閾値より大きいラグランジュ乗数のインデックス\", lambda_sv_idx)\n",
    "lambda_sv = lambda_i_new[lambda_sv_idx]\n",
    "print(\"閾値より大きいラグランジュ乗数:\\n\", lambda_sv)"
   ]
  },
  {
   "cell_type": "code",
   "execution_count": 51,
   "metadata": {},
   "outputs": [],
   "source": [
    "# # 閾値(ハイパーパラメータ) threshold\n",
    "\n",
    "# threshold = 7 # 仮に閾値を７に設定\n",
    "# lambda_sv = np.where(lambda_i_new > threshold)[0] # 閾値より大きいサンプルの行インデックス\n",
    "# print(\"lambda_sv\", lambda_sv)\n",
    "# print(\"lambda_sv_shape\", lambda_sv.shape)"
   ]
  },
  {
   "cell_type": "markdown",
   "metadata": {},
   "source": [
    "## 【問題3】推定\n",
    "推定時には、推定したいデータの特徴量とサポートベクターの特徴量をカーネル関数によって計算します。求めた f(x) の符号が分類結果です。"
   ]
  },
  {
   "cell_type": "code",
   "execution_count": 52,
   "metadata": {},
   "outputs": [
    {
     "data": {
      "text/plain": [
       "array([[1],\n",
       "       [1]])"
      ]
     },
     "execution_count": 52,
     "metadata": {},
     "output_type": "execute_result"
    }
   ],
   "source": [
    "# 閾値より大きいサンプルの行インデックスのサポートベクターのラベル\n",
    "y[lambda_sv_idx]"
   ]
  },
  {
   "cell_type": "code",
   "execution_count": 53,
   "metadata": {},
   "outputs": [
    {
     "data": {
      "text/plain": [
       "array([[10,  9],\n",
       "       [ 8,  7],\n",
       "       [ 6,  5],\n",
       "       [ 4,  3],\n",
       "       [ 2,  1]])"
      ]
     },
     "execution_count": 53,
     "metadata": {},
     "output_type": "execute_result"
    }
   ],
   "source": [
    "# X_valはtestデータ\n",
    "X_val = np.array([[10, 9], [8, 7], [6, 5], [4, 3], [2, 1]]) #(5, 2)\n",
    "X_val"
   ]
  },
  {
   "cell_type": "code",
   "execution_count": 54,
   "metadata": {},
   "outputs": [
    {
     "data": {
      "text/plain": [
       "array([[1, 2],\n",
       "       [5, 6]])"
      ]
     },
     "execution_count": 54,
     "metadata": {},
     "output_type": "execute_result"
    }
   ],
   "source": [
    "# X_snは閾値より大きいサンプル(サポートベクターの特徴量)\n",
    "X_sn = X[lambda_sv_idx] #(3, 2)\n",
    "X_sn"
   ]
  },
  {
   "cell_type": "code",
   "execution_count": 55,
   "metadata": {},
   "outputs": [
    {
     "data": {
      "text/plain": [
       "array([[ 28,  22,  16,  10,   4],\n",
       "       [104,  82,  60,  38,  16]])"
      ]
     },
     "execution_count": 55,
     "metadata": {},
     "output_type": "execute_result"
    }
   ],
   "source": [
    "np.dot(X_sn, X_val.T)"
   ]
  },
  {
   "cell_type": "code",
   "execution_count": 56,
   "metadata": {},
   "outputs": [
    {
     "data": {
      "text/plain": [
       "array([[ 28, 104],\n",
       "       [ 22,  82],\n",
       "       [ 16,  60],\n",
       "       [ 10,  38],\n",
       "       [  4,  16]])"
      ]
     },
     "execution_count": 56,
     "metadata": {},
     "output_type": "execute_result"
    }
   ],
   "source": [
    "np.dot(X_val, X_sn.T)"
   ]
  },
  {
   "cell_type": "code",
   "execution_count": 57,
   "metadata": {},
   "outputs": [
    {
     "data": {
      "text/plain": [
       "array([[ 28,  22,  16,  10,   4],\n",
       "       [104,  82,  60,  38,  16]])"
      ]
     },
     "execution_count": 57,
     "metadata": {},
     "output_type": "execute_result"
    }
   ],
   "source": [
    "# shapeの関係上, X_valを転置したうえ引数の位置も調整\n",
    "k_xsn = linear_kernel(X_sn, X_val.T) #(3, 5)\n",
    "k_xsn"
   ]
  },
  {
   "cell_type": "code",
   "execution_count": 58,
   "metadata": {},
   "outputs": [
    {
     "data": {
      "text/plain": [
       "array([[8.87],\n",
       "       [8.19]])"
      ]
     },
     "execution_count": 58,
     "metadata": {},
     "output_type": "execute_result"
    }
   ],
   "source": [
    "lambda_sv*y[lambda_sv_idx] #(3, 1)"
   ]
  },
  {
   "cell_type": "code",
   "execution_count": 59,
   "metadata": {},
   "outputs": [
    {
     "data": {
      "text/plain": [
       "array([[8.87, 8.19]])"
      ]
     },
     "execution_count": 59,
     "metadata": {},
     "output_type": "execute_result"
    }
   ],
   "source": [
    "y_lambda_sv = lambda_sv*y[lambda_sv_idx] #(3, 1)\n",
    "y_lambda_sv.T #(1, 3)"
   ]
  },
  {
   "cell_type": "code",
   "execution_count": 60,
   "metadata": {},
   "outputs": [
    {
     "data": {
      "text/plain": [
       "array([[1100.12,  866.72,  633.32,  399.92,  166.52]])"
      ]
     },
     "execution_count": 60,
     "metadata": {},
     "output_type": "execute_result"
    }
   ],
   "source": [
    "# 推定したいデータの特徴量とサポートベクターの特徴量をカーネル関数によって計算する式\n",
    "np.dot(y_lambda_sv.T, k_xsn)"
   ]
  },
  {
   "cell_type": "code",
   "execution_count": 61,
   "metadata": {},
   "outputs": [
    {
     "data": {
      "text/plain": [
       "array([[1, 1, 1, 1, 1]])"
      ]
     },
     "execution_count": 61,
     "metadata": {},
     "output_type": "execute_result"
    }
   ],
   "source": [
    "# 求めた f(x) の符号が分類結果\n",
    "fx = np.where(np.dot(y_lambda_sv.T, k_xsn) <= 0, -1 , 1)\n",
    "fx"
   ]
  },
  {
   "cell_type": "markdown",
   "metadata": {},
   "source": [
    "**ここからサポートベクターマシン（SVM)のクラスをスクラッチで作成し、学習と検証を行っていく。**"
   ]
  },
  {
   "cell_type": "code",
   "execution_count": 87,
   "metadata": {},
   "outputs": [],
   "source": [
    "class ScratchSVMClassifier():\n",
    "    \"\"\"\n",
    "    SVM分類器のスクラッチ実装\n",
    "    Parameters\n",
    "    ----------\n",
    "    num_iter : int\n",
    "      イテレーション数\n",
    "    lr : float\n",
    "      学習率\n",
    "    kernel : str\n",
    "      カーネルの種類。線形カーネル（linear）か多項式カーネル（polly）\n",
    "    threshold : float\n",
    "      サポートベクターを選ぶための閾値\n",
    "    verbose : bool\n",
    "      学習過程を出力する場合はTrue\n",
    "    Attributes\n",
    "    ----------\n",
    "    self.n_support_vectors : int\n",
    "      サポートベクターの数\n",
    "    self.index_support_vectors : 次の形のndarray, shape (n_support_vectors,)\n",
    "      サポートベクターのインデックス\n",
    "    self.X_sv :  次の形のndarray, shape(n_support_vectors, n_features)\n",
    "      サポートベクターの特徴量\n",
    "    self.lam_sv :  次の形のndarray, shape(n_support_vectors, 1)\n",
    "      サポートベクターの未定乗数\n",
    "    self.y_sv :  次の形のndarray, shape(n_support_vectors, 1)\n",
    "      サポートベクターのラベル\n",
    "    \"\"\"\n",
    "    def __init__(self, num_iter=500, lr=0.001, kernel='linear', threshold=1e-5, verbose=False):\n",
    "        # ハイパーパラメータを属性として記録\n",
    "        self.iter = num_iter\n",
    "        self.lr = lr\n",
    "        self.kernel = kernel\n",
    "        self.threshold = threshold\n",
    "        self.verbose = verbose\n",
    "        \n",
    "        self.nsv_idx = np.array([]) # サポートベクターのインデックス\n",
    "        self.X_sv = np.array([]) \n",
    "        self.lam_sv = np.array([])\n",
    "        self.y_sv = np.array([])       \n",
    "        \n",
    "    def fit(self, X, y, X_val=None, y_val=None):\n",
    "        \"\"\"\n",
    "        SVM分類器を学習する。検証データが入力された場合はそれに対する精度もイテレーションごとに計算する。\n",
    "        Parameters\n",
    "        ----------\n",
    "        X : 次の形のndarray, shape (n_samples, n_features)\n",
    "            訓練データの特徴量\n",
    "        y : 次の形のndarray, shape (n_samples, )\n",
    "            訓練データの正解値\n",
    "        X_val : 次の形のndarray, shape (n_samples, n_features)\n",
    "            検証データの特徴量\n",
    "        y_val : 次の形のndarray, shape (n_samples, )\n",
    "            検証データの正解値\n",
    "        \"\"\"\n",
    "        # 初回ラグランジュ乗数は乱数で作成 (n_samples, 1)\n",
    "        lam = np.random.rand(X.shape[0]).reshape(-1, 1)  \n",
    "        \n",
    "        y = y.reshape(-1, 1) # (n_samples, 1)\n",
    "       \n",
    "        for _ in range(self.iter): \n",
    "        \n",
    "            yy = np.dot(y, y.T) #(n_samples, n_samples)\n",
    "            kx = self._linear_kernel(X, X) #(n_samples, n_samples)\n",
    "            yykx = yy*kx\n",
    "            sigma = np.sum(lam.T@yykx, axis=0)\n",
    "            sigma = sigma.reshape(-1, 1) #ベクトルから行列に直す\n",
    "            lam = lam + self.lr*(1 - sigma)\n",
    "\n",
    "             #更新毎にlam>=0を満たす必要があり,満たさない場合はlam=0\n",
    "            lam = np.where(lam < 0, 0, lam) #(n_samples, 1)\n",
    "        \n",
    "                \n",
    "        #閾値より大きいサンプルの行インデックスをインスタンス変数として保持\n",
    "        self.nsv_idx = np.where(lam > self.threshold)[0]\n",
    "        print(\"サポートベクターのインデックス\", self.nsv_idx)\n",
    "\n",
    "        #閾値より大きいラグランジュ乗数\n",
    "        self.lam_sv = lam[self.nsv_idx] \n",
    "        print(\"閾値より大きいラグランジュ乗数\\n\", self.lam_sv)\n",
    "        print(\"サポートベクトルの個数: \", len(self.lam_sv))\n",
    "\n",
    "        self.X_sv = X[self.nsv_idx] #(samples, 2)\n",
    "        self.y_sv = y[self.nsv_idx] #(samples, 2)      \n",
    "\n",
    "        \n",
    "        if self.verbose:\n",
    "            #verboseをTrueにした際は学習過程を出力\n",
    "            print(\"lambda :\\n{}\".format(self.lam))\n",
    "            \n",
    "\n",
    "    def predict(self, X):\n",
    "        \"\"\"\n",
    "        SVM分類器を使いラベルを推定する。\n",
    "        Parameters\n",
    "        ----------\n",
    "        X : 次の形のndarray, shape (n_samples, n_features)\n",
    "            サンプル\n",
    "        Returns\n",
    "        -------\n",
    "            次の形のndarray, shape (n_samples, 1)\n",
    "            SVM分類器による推定結果\n",
    "        \"\"\"\n",
    "        tmp = np.sum(self.lam_sv)\n",
    "        k = self._linear_kernel(X, self.X_sv)\n",
    "        self.y_sv = self.y_sv.reshape(-1) # 下の計算のためベクトルへ変換        \n",
    "        fx = tmp*self.y_sv@k\n",
    "        \n",
    "        return np.where(fx <= 0, -1 , 1)\n",
    "    \n",
    "    \n",
    "    def _linear_kernel(self, Xi, Xj):\n",
    "        \"\"\"\n",
    "        線形カーネルの計算関数\n",
    "\n",
    "        Parameters\n",
    "        ----------    \n",
    "        X : 次の形のndarray, shape (n_samples, n_features)\n",
    "          訓練データ\n",
    "\n",
    "        Returns\n",
    "        -------\n",
    "          次の形のndarray, shape (n_samples, 1)\n",
    "          ロジスティック回帰の仮定関数による推定結果\n",
    "\n",
    "        \"\"\"     \n",
    "        k = Xj@Xi.T \n",
    "        return k"
   ]
  },
  {
   "cell_type": "code",
   "execution_count": 88,
   "metadata": {},
   "outputs": [
    {
     "data": {
      "text/plain": [
       "(500, 2)"
      ]
     },
     "metadata": {},
     "output_type": "display_data"
    },
    {
     "data": {
      "text/plain": [
       "(500,)"
      ]
     },
     "metadata": {},
     "output_type": "display_data"
    }
   ],
   "source": [
    "# 機械学習スクラッチ入門のSprintで用意したシンプルデータセット1作成\n",
    "\n",
    "np.random.seed(seed=0)\n",
    "n_samples = 500\n",
    "f0 = [-1, 2]\n",
    "f1 = [2, -1]\n",
    "cov = [[1.0,0.8], [0.8, 1.0]]\n",
    "f0 = np.random.multivariate_normal(f0, cov, int(n_samples/2))\n",
    "f1 = np.random.multivariate_normal(f1, cov, int(n_samples/2))\n",
    "X = np.concatenate((f0, f1))\n",
    "y = np.concatenate((np.ones((int(n_samples/2))), np.ones((int(n_samples/2))) *(-1))).astype(np.int)\n",
    "random_index = np.random.permutation(np.arange(n_samples))\n",
    "X = X[random_index]\n",
    "y = y[random_index]\n",
    "display(X.shape)\n",
    "display(y.shape)"
   ]
  },
  {
   "cell_type": "code",
   "execution_count": 89,
   "metadata": {},
   "outputs": [
    {
     "data": {
      "text/plain": [
       "(375, 2)"
      ]
     },
     "metadata": {},
     "output_type": "display_data"
    },
    {
     "data": {
      "text/plain": [
       "(125, 2)"
      ]
     },
     "metadata": {},
     "output_type": "display_data"
    },
    {
     "data": {
      "text/plain": [
       "(375,)"
      ]
     },
     "metadata": {},
     "output_type": "display_data"
    },
    {
     "data": {
      "text/plain": [
       "(125,)"
      ]
     },
     "metadata": {},
     "output_type": "display_data"
    }
   ],
   "source": [
    "# 訓練データ75%、検証データ25%用に分割\n",
    "from sklearn.model_selection import train_test_split\n",
    "\n",
    "X_train, X_test, y_train, y_test = train_test_split(X, y, random_state=0)\n",
    "display(X_train.shape)\n",
    "display(X_test.shape)\n",
    "display(y_train.shape)\n",
    "display(y_test.shape)"
   ]
  },
  {
   "cell_type": "code",
   "execution_count": 90,
   "metadata": {},
   "outputs": [],
   "source": [
    "# 前処理・標準化\n",
    "from sklearn.preprocessing import StandardScaler\n",
    "\n",
    "scaler = StandardScaler() # インスタンス作成\n",
    "scaler.fit(X_train)\n",
    "X_train_scaler = scaler.transform(X_train) #X_trainの標準化\n",
    "X_test_scaler = scaler.transform(X_test) #X_testの標準化\n",
    "# print(X_train_scaler)\n",
    "# print(X_test_scaler)"
   ]
  },
  {
   "cell_type": "code",
   "execution_count": 91,
   "metadata": {},
   "outputs": [
    {
     "name": "stdout",
     "output_type": "stream",
     "text": [
      "サポートベクターのインデックス [  0   8  43  53  91 126 148 158 187 216 220 237 239 284 338]\n",
      "閾値より大きいラグランジュ乗数\n",
      " [[2.22307101e-02]\n",
      " [3.57324170e-01]\n",
      " [4.76078290e-01]\n",
      " [8.92110398e-03]\n",
      " [5.02642681e-03]\n",
      " [3.53742546e-01]\n",
      " [3.49950910e-01]\n",
      " [6.36432495e-02]\n",
      " [2.66682585e-03]\n",
      " [2.22174490e-04]\n",
      " [7.97887516e-02]\n",
      " [6.06525422e-02]\n",
      " [4.33170858e-01]\n",
      " [3.06337165e-02]\n",
      " [1.06537542e-01]]\n",
      "サポートベクトルの個数:  15\n"
     ]
    }
   ],
   "source": [
    "# スクラッチ実装の学習と推定を行ってみる\n",
    "\n",
    "reg_scratch = ScratchSVMClassifier()\n",
    "reg_scratch.fit(X_train_scaler, y_train, X_test_scaler, y_test)\n",
    "y_pred_scratch = reg_scratch.predict(X_test_scaler)"
   ]
  },
  {
   "cell_type": "code",
   "execution_count": 93,
   "metadata": {},
   "outputs": [],
   "source": [
    "# AccuracyやPrecision、Recallなどの指標値を出してみる\n",
    "\n",
    "from sklearn.metrics import accuracy_score\n",
    "from sklearn.metrics import precision_score\n",
    "from sklearn.metrics import recall_score\n",
    "from sklearn.metrics import f1_score\n",
    "from sklearn.metrics import confusion_matrix"
   ]
  },
  {
   "cell_type": "code",
   "execution_count": 94,
   "metadata": {},
   "outputs": [
    {
     "name": "stdout",
     "output_type": "stream",
     "text": [
      "スクラッチ実装\n",
      "正解率: 1.0\n",
      "適合率: 1.0\n",
      "再現率: 1.0\n",
      "F値: 1.0\n",
      "混同行列: \n",
      "[[51  0]\n",
      " [ 0 74]]\n"
     ]
    }
   ],
   "source": [
    "scratch_accuracy_score = accuracy_score(y_test, y_pred_scratch) # 正解率\n",
    "scratch_precision_score = precision_score(y_test, y_pred_scratch) #適合率\n",
    "scratch_recall_score = recall_score(y_test, y_pred_scratch) #再現率\n",
    "scratch_f1_score = f1_score(y_test, y_pred_scratch) #F値\n",
    "scratch_confusion_matrix = confusion_matrix(y_test, y_pred_scratch) #混同行列\n",
    "\n",
    "print('スクラッチ実装')\n",
    "print('正解率: {}'.format(scratch_accuracy_score))\n",
    "print('適合率: {}'.format(scratch_precision_score))\n",
    "print('再現率: {}'.format(scratch_recall_score))\n",
    "print('F値: {}'.format(scratch_recall_score))\n",
    "print('混同行列: \\n{}'.format(scratch_confusion_matrix))"
   ]
  },
  {
   "cell_type": "markdown",
   "metadata": {},
   "source": [
    "**scikit-learnによる実装と比べ、正しく動いているかを確認**"
   ]
  },
  {
   "cell_type": "code",
   "execution_count": 95,
   "metadata": {},
   "outputs": [
    {
     "name": "stdout",
     "output_type": "stream",
     "text": [
      "scikit-learnによる実装\n",
      "正解率: 1.0\n",
      "適合率: 1.0\n",
      "再現率: 1.0\n",
      "F値: 1.0\n",
      "混同行列: \n",
      "[[51  0]\n",
      " [ 0 74]]\n"
     ]
    }
   ],
   "source": [
    "from sklearn.svm import SVC\n",
    "\n",
    "lr_sklearn = SVC() # インスタンス作成\n",
    "lr_sklearn.fit(X_train_scaler, y_train) # 学習\n",
    "y_pred_sklearn = lr_sklearn.predict(X_test_scaler) # 予測\n",
    "\n",
    "sklearn_accuracy_score = accuracy_score(y_test, y_pred_sklearn) # 正解率\n",
    "sklearn_precision_score = precision_score(y_test, y_pred_sklearn) #適合率\n",
    "sklearn_recall_score = recall_score(y_test, y_pred_sklearn) #再現率\n",
    "sklearn_f1_score = f1_score(y_test, y_pred_sklearn) #F値\n",
    "sklearn_confusion_matrix = confusion_matrix(y_test, y_pred_sklearn) #混同行列\n",
    "\n",
    "print('scikit-learnによる実装')\n",
    "print('正解率: {}'.format(sklearn_accuracy_score))\n",
    "print('適合率: {}'.format(sklearn_precision_score))\n",
    "print('再現率: {}'.format(sklearn_recall_score))\n",
    "print('F値: {}'.format(sklearn_recall_score))\n",
    "print('混同行列: \\n{}'.format(sklearn_confusion_matrix))"
   ]
  },
  {
   "cell_type": "markdown",
   "metadata": {},
   "source": [
    "**考察：スクラッチはscikit-learnによる実装と同じ結果となったため、正しく動いていると言えよう。**"
   ]
  },
  {
   "cell_type": "markdown",
   "metadata": {},
   "source": [
    "## 【問題5】決定領域の可視化\n",
    "決定領域を可視化してください。"
   ]
  },
  {
   "cell_type": "code",
   "execution_count": 77,
   "metadata": {},
   "outputs": [],
   "source": [
    "from matplotlib.colors import ListedColormap\n",
    "import matplotlib.patches as mpatches\n",
    "\n",
    "def decision_region(\n",
    "    X, y, model, step=0.01, \n",
    "    title='decision region', xlabel='xlabel', ylabel='ylabel', \n",
    "    target_names=['versicolor', 'virginica']):\n",
    "    \"\"\"\n",
    "    2値分類を2次元の特徴量で学習したモデルの決定領域を描く。\n",
    "    背景の色が学習したモデルによる推定値から描画される。\n",
    "    散布図の点は訓練データまたは検証データである。\n",
    "    Parameters\n",
    "    ----------------\n",
    "    X : ndarray, shape(n_samples, 2)　\n",
    "        特徴量\n",
    "    y : ndarray, shape(n_samples,)　　\n",
    "        ラベル\n",
    "    model : object　　　　　　　　　　\n",
    "        学習したモデルのインスンタスを入れる\n",
    "    step : float, (default : 0.1)　　　　  \n",
    "        推定値を計算する間隔を設定する\n",
    "    title : str　                                    \n",
    "        グラフのタイトルの文章を与える\n",
    "    xlabel, ylabel : str　                       \n",
    "        軸ラベルの文章を与える\n",
    "    target_names= : list of str　          \n",
    "        凡例の一覧を与える\n",
    "    \"\"\"\n",
    "    # setting\n",
    "    scatter_color = ['red', 'blue']\n",
    "    contourf_color = ['pink', 'skyblue']\n",
    "    n_class = 2\n",
    "    # pred\n",
    "    mesh_f0, mesh_f1  = np.meshgrid(np.arange(np.min(X[:,0])-0.5, np.max(X[:,0])+0.5, step), np.arange(np.min(X[:,1])-0.5, np.max(X[:,1])+0.5, step))\n",
    "    mesh = np.c_[np.ravel(mesh_f0),np.ravel(mesh_f1)]\n",
    "    y_pred = model.predict(mesh).reshape(mesh_f0.shape)\n",
    "    # plot\n",
    "    plt.title(title)\n",
    "    plt.xlabel(xlabel)\n",
    "    plt.ylabel(ylabel)\n",
    "    plt.contourf(mesh_f0, mesh_f1, y_pred, n_class-1, cmap=ListedColormap(contourf_color))\n",
    "    plt.contour(mesh_f0, mesh_f1, y_pred, n_class-1, colors='y', linewidths=3, alpha=0.5)\n",
    "    for i, target in enumerate(set(y)):\n",
    "        plt.scatter(X[y==target][:, 0], X[y==target][:, 1], s=80, color=scatter_color[i], label=target_names[i], marker='o')\n",
    "    patches = [mpatches.Patch(color=scatter_color[i], label=target_names[i]) for i in range(n_class)]\n",
    "    \n",
    "    # サポートベクトル表示\n",
    "    plt.scatter(reg_scratch.X_sv[:, 0], reg_scratch.X_sv[:, 1], s=80, color=\"y\", label=\"sv\", marker='o')\n",
    "    patches = [mpatches.Patch(color=scatter_color[i], label=target_names[i]) for i in range(n_class)]\n",
    "    \n",
    "    plt.legend(handles=patches)\n",
    "    plt.legend()\n",
    "    plt.show()"
   ]
  },
  {
   "cell_type": "code",
   "execution_count": 78,
   "metadata": {},
   "outputs": [
    {
     "data": {
      "image/png": "[encoded data removed]",
      "text/plain": [
       "<Figure size 432x288 with 1 Axes>"
      ]
     },
     "metadata": {
      "needs_background": "light"
     },
     "output_type": "display_data"
    }
   ],
   "source": [
    "# スクラッチ実装(訓練データ)\n",
    "\n",
    "decision_region(X_train_scaler, y_train, model=reg_scratch)"
   ]
  },
  {
   "cell_type": "code",
   "execution_count": 79,
   "metadata": {},
   "outputs": [
    {
     "data": {
      "image/png": "[encoded data removed]",
      "text/plain": [
       "<Figure size 432x288 with 1 Axes>"
      ]
     },
     "metadata": {
      "needs_background": "light"
     },
     "output_type": "display_data"
    }
   ],
   "source": [
    "# スクラッチ実装(検証データ)\n",
    "\n",
    "decision_region(X_test_scaler, y_test, model=reg_scratch)"
   ]
  },
  {
   "cell_type": "code",
   "execution_count": 80,
   "metadata": {},
   "outputs": [
    {
     "data": {
      "image/png": "[encoded data removed]",
      "text/plain": [
       "<Figure size 432x288 with 1 Axes>"
      ]
     },
     "metadata": {
      "needs_background": "light"
     },
     "output_type": "display_data"
    }
   ],
   "source": [
    "# scikit-learnによる実装(訓練データ)\n",
    "\n",
    "decision_region(X_train_scaler, y_train, model=lr_sklearn)"
   ]
  },
  {
   "cell_type": "code",
   "execution_count": 81,
   "metadata": {},
   "outputs": [
    {
     "data": {
      "image/png": "[encoded data removed]",
      "text/plain": [
       "<Figure size 432x288 with 1 Axes>"
      ]
     },
     "metadata": {
      "needs_background": "light"
     },
     "output_type": "display_data"
    }
   ],
   "source": [
    "# scikit-learnによる実装(検証データ)\n",
    "\n",
    "decision_region(X_test_scaler, y_test, model=lr_sklearn)"
   ]
  }
 ],
 "metadata": {
  "kernelspec": {
   "display_name": "Python 3",
   "language": "python",
   "name": "python3"
  },
  "language_info": {
   "codemirror_mode": {
    "name": "ipython",
    "version": 3
   },
   "file_extension": ".py",
   "mimetype": "text/x-python",
   "name": "python",
   "nbconvert_exporter": "python",
   "pygments_lexer": "ipython3",
   "version": "3.8.6"
  }
 },
 "nbformat": 4,
 "nbformat_minor": 4
}
