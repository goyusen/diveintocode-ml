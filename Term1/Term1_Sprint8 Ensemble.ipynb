{
 "cells": [
  {
   "cell_type": "markdown",
   "metadata": {},
   "source": [
    "# Sprint アンサンブル学習"
   ]
  },
  {
   "cell_type": "markdown",
   "metadata": {},
   "source": [
    "**Sprintの目的**\n",
    "- アンサンブル学習について理解する\n",
    "\n",
    "**どのように学ぶか**\n",
    "\n",
    "スクラッチでアンサンブル学習の各種手法を実装していきます。"
   ]
  },
  {
   "cell_type": "markdown",
   "metadata": {},
   "source": [
    "## 1.アンサンブル学習\n",
    "\n",
    "3種類のアンサンブル学習をスクラッチ実装していきます。そして、それぞれの効果を小さめのデータセットで確認します。\n",
    "\n",
    "\n",
    "- ブレンディング\n",
    "- バギング\n",
    "-スタッキング"
   ]
  },
  {
   "cell_type": "markdown",
   "metadata": {},
   "source": [
    "### 小さなデータセットの用意\n",
    "以前も利用した回帰のデータセットを用意します。\n",
    "\n",
    "\n",
    "[House Prices: Advanced Regression Techniques](https://www.kaggle.com/c/house-prices-advanced-regression-techniques/data)\n",
    "#ライブラリのインポート\n",
    "\n",
    "この中のtrain.csvをダウンロードし、目的変数としてSalePrice、説明変数として、GrLivAreaとYearBuiltを使います。\n",
    "\n",
    "\n",
    "train.csvを学習用（train）8割、検証用（val）2割に分割してください。"
   ]
  },
  {
   "cell_type": "code",
   "execution_count": 1,
   "metadata": {},
   "outputs": [],
   "source": [
    "#ライブラリのインポート\n",
    "\n",
    "# data analysis and wrangling\n",
    "import pandas as pd\n",
    "import numpy as np\n",
    "from sklearn.model_selection import train_test_split  #データ分割\n",
    "from sklearn.model_selection import KFold\n",
    "from sklearn.preprocessing import StandardScaler\n",
    "\n",
    "# visualization\n",
    "import matplotlib.pyplot as plt\n",
    "import seaborn as sns; sns.set()\n",
    "%matplotlib inline\n",
    "\n",
    "# machine learning\n",
    "import sklearn\n",
    "from sklearn.linear_model import LinearRegression # 線形回帰\n",
    "from sklearn.svm import SVR # SVM \n",
    "from sklearn.tree import DecisionTreeRegressor # 決定木\n",
    "from sklearn.ensemble import RandomForestRegressor # ランダムフォレスト \n",
    "\n",
    "#model_evaluation & tuning\n",
    "from sklearn.metrics import mean_squared_error # 平均二乗誤差\n",
    "from sklearn.metrics import mean_absolute_error # 平均絶対誤差\n",
    "from sklearn.metrics import r2_score #R^2値"
   ]
  },
  {
   "cell_type": "code",
   "execution_count": 2,
   "metadata": {},
   "outputs": [
    {
     "data": {
      "text/html": [
       "<div>\n",
       "<style scoped>\n",
       "    .dataframe tbody tr th:only-of-type {\n",
       "        vertical-align: middle;\n",
       "    }\n",
       "\n",
       "    .dataframe tbody tr th {\n",
       "        vertical-align: top;\n",
       "    }\n",
       "\n",
       "    .dataframe thead th {\n",
       "        text-align: right;\n",
       "    }\n",
       "</style>\n",
       "<table border=\"1\" class=\"dataframe\">\n",
       "  <thead>\n",
       "    <tr style=\"text-align: right;\">\n",
       "      <th></th>\n",
       "      <th>GrLivArea</th>\n",
       "      <th>YearBuilt</th>\n",
       "      <th>SalePrice</th>\n",
       "    </tr>\n",
       "  </thead>\n",
       "  <tbody>\n",
       "    <tr>\n",
       "      <th>0</th>\n",
       "      <td>1710</td>\n",
       "      <td>2003</td>\n",
       "      <td>208500</td>\n",
       "    </tr>\n",
       "    <tr>\n",
       "      <th>1</th>\n",
       "      <td>1262</td>\n",
       "      <td>1976</td>\n",
       "      <td>181500</td>\n",
       "    </tr>\n",
       "    <tr>\n",
       "      <th>2</th>\n",
       "      <td>1786</td>\n",
       "      <td>2001</td>\n",
       "      <td>223500</td>\n",
       "    </tr>\n",
       "    <tr>\n",
       "      <th>3</th>\n",
       "      <td>1717</td>\n",
       "      <td>1915</td>\n",
       "      <td>140000</td>\n",
       "    </tr>\n",
       "    <tr>\n",
       "      <th>4</th>\n",
       "      <td>2198</td>\n",
       "      <td>2000</td>\n",
       "      <td>250000</td>\n",
       "    </tr>\n",
       "    <tr>\n",
       "      <th>...</th>\n",
       "      <td>...</td>\n",
       "      <td>...</td>\n",
       "      <td>...</td>\n",
       "    </tr>\n",
       "    <tr>\n",
       "      <th>1455</th>\n",
       "      <td>1647</td>\n",
       "      <td>1999</td>\n",
       "      <td>175000</td>\n",
       "    </tr>\n",
       "    <tr>\n",
       "      <th>1456</th>\n",
       "      <td>2073</td>\n",
       "      <td>1978</td>\n",
       "      <td>210000</td>\n",
       "    </tr>\n",
       "    <tr>\n",
       "      <th>1457</th>\n",
       "      <td>2340</td>\n",
       "      <td>1941</td>\n",
       "      <td>266500</td>\n",
       "    </tr>\n",
       "    <tr>\n",
       "      <th>1458</th>\n",
       "      <td>1078</td>\n",
       "      <td>1950</td>\n",
       "      <td>142125</td>\n",
       "    </tr>\n",
       "    <tr>\n",
       "      <th>1459</th>\n",
       "      <td>1256</td>\n",
       "      <td>1965</td>\n",
       "      <td>147500</td>\n",
       "    </tr>\n",
       "  </tbody>\n",
       "</table>\n",
       "<p>1460 rows × 3 columns</p>\n",
       "</div>"
      ],
      "text/plain": [
       "      GrLivArea  YearBuilt  SalePrice\n",
       "0          1710       2003     208500\n",
       "1          1262       1976     181500\n",
       "2          1786       2001     223500\n",
       "3          1717       1915     140000\n",
       "4          2198       2000     250000\n",
       "...         ...        ...        ...\n",
       "1455       1647       1999     175000\n",
       "1456       2073       1978     210000\n",
       "1457       2340       1941     266500\n",
       "1458       1078       1950     142125\n",
       "1459       1256       1965     147500\n",
       "\n",
       "[1460 rows x 3 columns]"
      ]
     },
     "execution_count": 2,
     "metadata": {},
     "output_type": "execute_result"
    }
   ],
   "source": [
    "df = pd.read_csv(\"train.csv\")\n",
    "df = df[['GrLivArea', 'YearBuilt', 'SalePrice']]\n",
    "df"
   ]
  },
  {
   "cell_type": "markdown",
   "metadata": {},
   "source": [
    "### scikit-learn\n",
    "\n",
    "単一のモデルはスクラッチ実装ではなく、scikit-learnなどのライブラリの使用を推奨します。\n",
    "\n",
    "\n",
    "[sklearn.linear_model.LinearRegression — scikit-learn 0.21.3 documentation](https://scikit-learn.org/stable/modules/generated/sklearn.linear_model.LinearRegression.html)\n",
    "\n",
    "\n",
    "[sklearn.svm.SVR — scikit-learn 0.21.3 documentation](https://scikit-learn.org/stable/modules/generated/sklearn.svm.SVR.html)\n",
    "\n",
    "\n",
    "[sklearn.tree.DecisionTreeRegressor — scikit-learn 0.21.3 documentation](https://scikit-learn.org/stable/modules/generated/sklearn.tree.DecisionTreeRegressor.html)"
   ]
  },
  {
   "cell_type": "code",
   "execution_count": 3,
   "metadata": {},
   "outputs": [
    {
     "data": {
      "text/plain": [
       "<Figure size 864x576 with 0 Axes>"
      ]
     },
     "metadata": {},
     "output_type": "display_data"
    },
    {
     "data": {
      "image/png": "[encoded data removed]",
      "text/plain": [
       "<Figure size 540x540 with 12 Axes>"
      ]
     },
     "metadata": {
      "needs_background": "light"
     },
     "output_type": "display_data"
    }
   ],
   "source": [
    "plt.figure(figsize=(12, 8))\n",
    "sns.pairplot(df, palette='Reds')\n",
    "sns.set()"
   ]
  },
  {
   "cell_type": "code",
   "execution_count": 4,
   "metadata": {},
   "outputs": [
    {
     "name": "stdout",
     "output_type": "stream",
     "text": [
      "(1460, 2)\n",
      "(1460,)\n"
     ]
    }
   ],
   "source": [
    "# scikit-learnでの処理のため、ndarrayへ変換\n",
    "\n",
    "X = df.drop('SalePrice', axis=1).values\n",
    "y = df.loc[:, 'SalePrice'].values\n",
    "print(X.shape)\n",
    "print(y.shape)"
   ]
  },
  {
   "cell_type": "markdown",
   "metadata": {},
   "source": [
    "対数変換処理を行う理由に関する参考サイト：https://pisara.hiheki.com/data-analysis/411/data-conversion-normalization/"
   ]
  },
  {
   "cell_type": "code",
   "execution_count": 5,
   "metadata": {},
   "outputs": [],
   "source": [
    "# yに対して対数変換を行う\n",
    "\n",
    "y = np.log(y)"
   ]
  },
  {
   "cell_type": "code",
   "execution_count": 6,
   "metadata": {},
   "outputs": [
    {
     "name": "stdout",
     "output_type": "stream",
     "text": [
      "(1168, 2)\n",
      "(292, 2)\n",
      "(1168,)\n",
      "(292,)\n"
     ]
    }
   ],
   "source": [
    "# 訓練データ80%、検証データ20%用に分割\n",
    "\n",
    "X_train, X_test, y_train, y_test = train_test_split(X, y, train_size=0.8, test_size=0.2, random_state=0)\n",
    "print(X_train.shape)\n",
    "print(X_test.shape)\n",
    "print(y_train.shape)\n",
    "print(y_test.shape)"
   ]
  },
  {
   "cell_type": "code",
   "execution_count": 7,
   "metadata": {},
   "outputs": [],
   "source": [
    "# 標準化を行う\n",
    "\n",
    "scaler = StandardScaler()\n",
    "scaler.fit(X_train)\n",
    "X_train_std = scaler.transform(X_train)\n",
    "X_test_std = scaler.transform(X_test)"
   ]
  },
  {
   "cell_type": "code",
   "execution_count": 8,
   "metadata": {},
   "outputs": [
    {
     "data": {
      "text/plain": [
       "(292,)"
      ]
     },
     "execution_count": 8,
     "metadata": {},
     "output_type": "execute_result"
    }
   ],
   "source": [
    "# 線形回帰\n",
    "\n",
    "lr = LinearRegression()# インスタンス作成\n",
    "lr.fit(X_train_std, y_train) # 学習\n",
    "lr_pred = lr.predict(X_test_std) # 予測\n",
    "lr_pred.shape"
   ]
  },
  {
   "cell_type": "code",
   "execution_count": 9,
   "metadata": {},
   "outputs": [
    {
     "data": {
      "text/plain": [
       "0.05730354643047342"
      ]
     },
     "execution_count": 9,
     "metadata": {},
     "output_type": "execute_result"
    }
   ],
   "source": [
    "# 平均二乗誤差（Mean Squared Error, MSE）を用いて評価\n",
    "\n",
    "mse_list = []\n",
    "lr_mse = mean_squared_error(y_test, lr_pred)\n",
    "mse_list.append(lr_mse)\n",
    "lr_mse"
   ]
  },
  {
   "cell_type": "code",
   "execution_count": 10,
   "metadata": {},
   "outputs": [
    {
     "data": {
      "text/plain": [
       "0.0373344307841314"
      ]
     },
     "execution_count": 10,
     "metadata": {},
     "output_type": "execute_result"
    }
   ],
   "source": [
    "# SVM\n",
    "\n",
    "svm = SVR() # インスタンス作成\n",
    "svm.fit(X_train_std, y_train) # 学習\n",
    "svm_pred = svm.predict(X_test_std) # 予測\n",
    "\n",
    "# 平均二乗誤差（Mean Squared Error, MSE）を用いて評価\n",
    "svm_mse = mean_squared_error(y_test, svm_pred)\n",
    "mse_list.append(svm_mse)\n",
    "svm_mse"
   ]
  },
  {
   "cell_type": "code",
   "execution_count": 11,
   "metadata": {},
   "outputs": [
    {
     "data": {
      "text/plain": [
       "0.07664029429645695"
      ]
     },
     "execution_count": 11,
     "metadata": {},
     "output_type": "execute_result"
    }
   ],
   "source": [
    "# 決定木\n",
    "\n",
    "tree = DecisionTreeRegressor() # インスタンス作成\n",
    "tree.fit(X_train_std, y_train) # 学習\n",
    "tree_pred = tree.predict(X_test_std) # 予測\n",
    "\n",
    "# 平均二乗誤差（Mean Squared Error, MSE）を用いて評価\n",
    "tree_mse = mean_squared_error(y_test, tree_pred)\n",
    "mse_list.append(tree_mse)\n",
    "tree_mse"
   ]
  },
  {
   "cell_type": "code",
   "execution_count": 12,
   "metadata": {},
   "outputs": [
    {
     "data": {
      "text/html": [
       "<div>\n",
       "<style scoped>\n",
       "    .dataframe tbody tr th:only-of-type {\n",
       "        vertical-align: middle;\n",
       "    }\n",
       "\n",
       "    .dataframe tbody tr th {\n",
       "        vertical-align: top;\n",
       "    }\n",
       "\n",
       "    .dataframe thead th {\n",
       "        text-align: right;\n",
       "    }\n",
       "</style>\n",
       "<table border=\"1\" class=\"dataframe\">\n",
       "  <thead>\n",
       "    <tr style=\"text-align: right;\">\n",
       "      <th></th>\n",
       "      <th>MSE</th>\n",
       "    </tr>\n",
       "  </thead>\n",
       "  <tbody>\n",
       "    <tr>\n",
       "      <th>線形回帰</th>\n",
       "      <td>0.057304</td>\n",
       "    </tr>\n",
       "    <tr>\n",
       "      <th>SVM</th>\n",
       "      <td>0.037334</td>\n",
       "    </tr>\n",
       "    <tr>\n",
       "      <th>決定木</th>\n",
       "      <td>0.076640</td>\n",
       "    </tr>\n",
       "  </tbody>\n",
       "</table>\n",
       "</div>"
      ],
      "text/plain": [
       "           MSE\n",
       "線形回帰  0.057304\n",
       "SVM   0.037334\n",
       "決定木   0.076640"
      ]
     },
     "execution_count": 12,
     "metadata": {},
     "output_type": "execute_result"
    }
   ],
   "source": [
    "# 指標値を１つの表にまとめる\n",
    "\n",
    "compare_df = pd.DataFrame([])\n",
    "compare_df['MSE'] = mse_list\n",
    "compare_df.rename(index={0:'線形回帰', 1:'SVM', 2:'決定木'}, inplace=True)\n",
    "compare_df"
   ]
  },
  {
   "cell_type": "markdown",
   "metadata": {},
   "source": [
    "## 2.ブレンディング"
   ]
  },
  {
   "cell_type": "markdown",
   "metadata": {},
   "source": [
    "## 【問題1】ブレンディングのスクラッチ実装\n",
    "ブレンディング をスクラッチ実装し、単一モデルより精度があがる例を **最低3つ** 示してください。精度があがるとは、検証用データに対する平均二乗誤差（MSE）が小さくなることを指します。"
   ]
  },
  {
   "cell_type": "markdown",
   "metadata": {},
   "source": [
    "### ブレンディングとは\n",
    "\n",
    "ブレンディングとは、N個の多様なモデルを独立して学習させ、推定結果を重み付けした上で足し合わせる方法です。最も単純には平均をとります。多様なモデルとは、以下のような条件を変化させることで作り出すものです。\n",
    "\n",
    "\n",
    "- 手法（例：線形回帰、SVM、決定木、ニューラルネットワークなど）\n",
    "- ハイパーパラメータ（例：SVMのカーネルの種類、重みの初期値など）\n",
    "- 入力データの前処理の仕方（例：標準化、対数変換、PCAなど）\n",
    "\n",
    "重要なのはそれぞれのモデルが大きく異なることです。\n",
    "\n",
    "\n",
    "回帰問題でのブレンディングは非常に単純であるため、scikit-learnには用意されていません。\n",
    "\n",
    "\n",
    "**《補足》**\n",
    "\n",
    "\n",
    "分類問題の場合は、多数決を行います。回帰問題に比べると複雑なため、scikit-learnにはVotingClassifierが用意されています。\n",
    "\n",
    "\n",
    "[sklearn.ensemble.VotingClassifier — scikit-learn 0.21.3 documentation](https://scikit-learn.org/stable/modules/generated/sklearn.ensemble.VotingClassifier.html)"
   ]
  },
  {
   "cell_type": "code",
   "execution_count": 13,
   "metadata": {},
   "outputs": [],
   "source": [
    "def scratch_blending(*y_preds, y_true, weights=None):\n",
    "    \"\"\"\n",
    "    ブレンディング:各モデルの推定結果を重み付けした上で足し合わせる\n",
    "    \n",
    "    Parameters\n",
    "    ----------\n",
    "    y_preds : 各モデルの推定結果（可変長引数にするため、*をつける）\n",
    "    y_true : テストセットの目的変数\n",
    "    weights : 重み付け\n",
    "    \"\"\"\n",
    "    y_pred_b = np.average(y_preds, axis=0, weights=weights)\n",
    "    return mean_squared_error(y_true, y_pred_b)"
   ]
  },
  {
   "cell_type": "code",
   "execution_count": 14,
   "metadata": {},
   "outputs": [
    {
     "data": {
      "text/plain": [
       "0.04177057821620027"
      ]
     },
     "execution_count": 14,
     "metadata": {},
     "output_type": "execute_result"
    }
   ],
   "source": [
    "# 試み01 : 線形回帰とSVMのブレンディング(重み付け無し)\n",
    "\n",
    "scratch_blending(lr_pred, svm_pred, y_true=y_test)"
   ]
  },
  {
   "cell_type": "code",
   "execution_count": 15,
   "metadata": {},
   "outputs": [
    {
     "data": {
      "text/plain": [
       "0.04177057821620027"
      ]
     },
     "execution_count": 15,
     "metadata": {},
     "output_type": "execute_result"
    }
   ],
   "source": [
    "# 別の方法で動作確認\n",
    "yp_concat = np.concatenate([lr_pred.reshape(len(lr_pred), 1), svm_pred.reshape(len(svm_pred), 1)], 1)\n",
    "\n",
    "yp_concat_mean = np.mean(yp_concat, axis=1)\n",
    "mean_squared_error(y_test, yp_concat_mean)"
   ]
  },
  {
   "cell_type": "code",
   "execution_count": 16,
   "metadata": {},
   "outputs": [
    {
     "data": {
      "text/plain": [
       "0.03866450074950825"
      ]
     },
     "execution_count": 16,
     "metadata": {},
     "output_type": "execute_result"
    }
   ],
   "source": [
    "# 試み02 : 線形回帰とSVMのブレンディング(重み付けあり)\n",
    "\n",
    "weights = np.array([0.3, 0.7])\n",
    "scratch_blending(lr_pred, svm_pred, y_true=y_test, weights=weights)"
   ]
  },
  {
   "cell_type": "code",
   "execution_count": 17,
   "metadata": {},
   "outputs": [
    {
     "data": {
      "text/plain": [
       "0.03866450074950825"
      ]
     },
     "execution_count": 17,
     "metadata": {},
     "output_type": "execute_result"
    }
   ],
   "source": [
    "# 別の方法で動作確認\n",
    "yp_concat = np.concatenate([lr_pred.reshape(len(lr_pred), 1), svm_pred.reshape(len(svm_pred), 1)], 1)\n",
    "\n",
    "weights = np.array([0.3, 0.7])\n",
    "yp_concat_average = np.average(yp_concat, axis=1, weights=weights)\n",
    "mean_squared_error(y_test, yp_concat_average)"
   ]
  },
  {
   "cell_type": "code",
   "execution_count": 18,
   "metadata": {},
   "outputs": [
    {
     "data": {
      "text/plain": [
       "0.03970481922527923"
      ]
     },
     "execution_count": 18,
     "metadata": {},
     "output_type": "execute_result"
    }
   ],
   "source": [
    "# 試み03 : 線形回帰とSVMと決定木のブレンディング(重み付けあり)\n",
    "\n",
    "weights = np.array([0.3, 0.5, 0.2])\n",
    "scratch_blending(lr_pred, svm_pred, tree_pred, y_true=y_test, weights=weights)"
   ]
  },
  {
   "cell_type": "markdown",
   "metadata": {},
   "source": [
    "**考察：ブレンディングを行った結果、svmには少し劣るが、線形回帰と決定木単独の精度よりは改善が見られた。**"
   ]
  },
  {
   "cell_type": "markdown",
   "metadata": {},
   "source": [
    "## 3.バギング"
   ]
  },
  {
   "cell_type": "markdown",
   "metadata": {},
   "source": [
    "## 【問題2】バギングのスクラッチ実装\n",
    "**バギング** をスクラッチ実装し、単一モデルより精度があがる例を **最低1つ** 示してください。"
   ]
  },
  {
   "cell_type": "markdown",
   "metadata": {},
   "source": [
    "### バギングとは\n",
    "\n",
    "バギングは入力データの選び方を多様化する方法です。学習データから重複を許した上でランダムに抜き出すことで、N種類のサブセット（ **ブートストラップサンプル** ）を作り出します。それらによってモデルをN個学習し、推定結果の平均をとります。ブレンディングと異なり、それぞれの重み付けを変えることはありません。\n",
    "\n",
    "\n",
    "[sklearn.model_selection.train_test_split — scikit-learn 0.21.3 documentation](https://scikit-learn.org/stable/modules/generated/sklearn.model_selection.train_test_split.html)\n",
    "\n",
    "\n",
    "scikit-learnのtrain_test_splitを、shuffleパラメータをTrueにして使うことで、ランダムにデータを分割することができます。これによりブートストラップサンプルが手に入ります。\n",
    "\n",
    "\n",
    "推定結果の平均をとる部分はブースティングと同様の実装になります。"
   ]
  },
  {
   "cell_type": "code",
   "execution_count": 19,
   "metadata": {
    "tags": []
   },
   "outputs": [],
   "source": [
    "def scratch_bagging(n, X_train, y_train, X_test):\n",
    "    \"\"\"\n",
    "    バギング:学習データから重複を許した上でランダムに抜き出し、複数の推定結果の平均をとる\n",
    "    \n",
    "    Parameters\n",
    "    ----------\n",
    "    n : N種類のサブセット（ ブートストラップサンプル ）\n",
    "    X_train : 訓練セットの特徴量\n",
    "    y_train : 訓練セットの目的変数\n",
    "    X_test : テストセットの特徴量\n",
    "    \"\"\"\n",
    "    # 予測結果を格納する空のndarrayを作っておく\n",
    "    y_pred_b = np.empty((n, X_test.shape[0]))\n",
    "    for i in range(n):\n",
    "        # データ分割（shuffleパラメータはTrue（デフォルト）にしてランダムにデータを分割させる）\n",
    "        X_train_b, X_test_b, y_train_b, y_test_b = train_test_split(X_train, y_train, train_size=0.8, test_size=0.2, shuffle=True)\n",
    "        tree_b = DecisionTreeRegressor() # インスタンス作成\n",
    "        tree_b.fit(X_train_b, y_train_b) # 学習\n",
    "        y_pred_b[i] = tree_b.predict(X_test) # 予測\n",
    "#         print('y_pred_b', y_pred_b)\n",
    "#         print('----------------')\n",
    "    \n",
    "    return np.average(y_pred_b, axis=0)"
   ]
  },
  {
   "cell_type": "code",
   "execution_count": 20,
   "metadata": {},
   "outputs": [
    {
     "data": {
      "text/plain": [
       "0.07522512691386764"
      ]
     },
     "execution_count": 20,
     "metadata": {},
     "output_type": "execute_result"
    }
   ],
   "source": [
    "# nを1回で動作確認（決定木単独のmseは0.07460208472403367）\n",
    "y_pred_bagging = scratch_bagging(1, X_train_std, y_train, X_test_std)\n",
    "# y_pred_bagging.shape\n",
    "\n",
    "# 平均二乗誤差（Mean Squared Error, MSE）を用いて評価\n",
    "scratch_bagging_mse = mean_squared_error(y_test, y_pred_bagging)\n",
    "scratch_bagging_mse"
   ]
  },
  {
   "cell_type": "code",
   "execution_count": 21,
   "metadata": {},
   "outputs": [
    {
     "data": {
      "text/plain": [
       "0.05683779112626788"
      ]
     },
     "execution_count": 21,
     "metadata": {},
     "output_type": "execute_result"
    }
   ],
   "source": [
    "# nを3回で回してみる\n",
    "y_pred_bagging03 = scratch_bagging(3, X_train_std, y_train, X_test_std)\n",
    "# y_pred_bagging.shape\n",
    "\n",
    "# 平均二乗誤差（Mean Squared Error, MSE）を用いて評価\n",
    "scratch_bagging_mse = mean_squared_error(y_test, y_pred_bagging03)\n",
    "scratch_bagging_mse"
   ]
  },
  {
   "cell_type": "code",
   "execution_count": 22,
   "metadata": {},
   "outputs": [
    {
     "data": {
      "text/plain": [
       "0.055581656089881484"
      ]
     },
     "execution_count": 22,
     "metadata": {},
     "output_type": "execute_result"
    }
   ],
   "source": [
    "# nを10回で回してみる\n",
    "y_pred_bagging10 = scratch_bagging(3, X_train_std, y_train, X_test_std)\n",
    "# y_pred_bagging.shape\n",
    "\n",
    "# 平均二乗誤差（Mean Squared Error, MSE）を用いて評価\n",
    "scratch_bagging_mse = mean_squared_error(y_test, y_pred_bagging10)\n",
    "scratch_bagging_mse"
   ]
  },
  {
   "cell_type": "markdown",
   "metadata": {},
   "source": [
    "**考察：バギングを行った結果、決定木単独より精度の改善が見られた。**"
   ]
  },
  {
   "cell_type": "markdown",
   "metadata": {},
   "source": [
    "## 4.スタッキング"
   ]
  },
  {
   "cell_type": "markdown",
   "metadata": {},
   "source": [
    "## 【問題3】スタッキングのスクラッチ実装\n",
    "スタッキング をスクラッチ実装し、単一モデルより精度があがる例を **最低1つ** 示してください。"
   ]
  },
  {
   "cell_type": "code",
   "execution_count": 23,
   "metadata": {},
   "outputs": [],
   "source": [
    "class Stacking_Scratch():\n",
    "    \"\"\"\n",
    "    スタッキングのクラス(テージ0とステージ1のみ)\n",
    "    \n",
    "    Parameters\n",
    "    ----------\n",
    "    initial_models : ステージ0でのモデルインスタンスのリスト\n",
    "    final_model : ステージ1でのモデルインスタンス\n",
    "    n_splits : KFoldクラスの分割数\n",
    "    \n",
    "    Attributes\n",
    "    ----------\n",
    "    blend_data : trainデータのステージ1での予測値 ndarray(n_samples, n_models)       \n",
    "    new_feature : testデータのステージ1での予測値 ndarray(n_samples, n_models)\n",
    "    \"\"\"\n",
    "    def __init__(self, initial_models, final_model, n_splits=3):\n",
    "        # ハイパーパラメータを属性として記録\n",
    "        self.initial_models = initial_models\n",
    "        self.final_model = final_model\n",
    "        self.blend_data = None\n",
    "        self.new_feature = None\n",
    "        self.n_splits = n_splits\n",
    "        self.fitted_models = {}\n",
    "    \n",
    "    def fit(self, X, y):\n",
    "        \"\"\"\n",
    "        スタッキングの学習\n",
    "\n",
    "        Parameters\n",
    "        ----------\n",
    "        X : 学習用データの特徴量 次の形のndarray, shape (n_samples, n_features)    \n",
    "        y : 学習用データの正解値 次の形のndarray, shape (n_samples, )\n",
    "        \"\"\"       \n",
    "        # KFoldをインスタンス化\n",
    "        kf = KFold(n_splits=3, shuffle=True, random_state=42)\n",
    "\n",
    "        # ブレンドデータを保存する空の箱を作っておく(shape(n_samples, n_models))\n",
    "        self.blend_data = np.zeros([X.shape[0], len(initial_models)])\n",
    "\n",
    "        #学習\n",
    "        #initial_modelsの数だけfor文を回す\n",
    "        for i, model in enumerate(self.initial_models):\n",
    "\n",
    "            # fitしたモデルをmodel_listに追加するための空のlistを作っておく\n",
    "            model_list = []\n",
    "\n",
    "            # KFoldクラスでデータをクロスバリデーションで分割\n",
    "            for train_index, test_index in kf.split(X):\n",
    "\n",
    "                # train_indexのみを使ってfit\n",
    "                model.fit(X[train_index], y[train_index])\n",
    "\n",
    "                # fitしたモデルをmodel_listに追加\n",
    "                model_list.append(model)\n",
    "#                 print('model_list', model_list)\n",
    "\n",
    "                # test_indexを予測\n",
    "                pred = model.predict(X[test_index])\n",
    "#                 print('pred', pred)\n",
    "\n",
    "                # 予測値をブレンドデータとして格納\n",
    "                self.blend_data[test_index, i] = pred\n",
    "#                 print('self.blend_data', self.blend_data)\n",
    "\n",
    "            # for文で回した学習済みモデルを全部辞書に格納\n",
    "            self.fitted_models['model_{}'.format(i)] = model_list\n",
    "#             print('self.fitted_models', self.fitted_models)\n",
    "\n",
    "        # ブレンドデータを新しい特徴量として、final_modelがfitする\n",
    "        self.final_model.fit(self.blend_data, y)\n",
    "    \n",
    "    def predict(self, X):\n",
    "        \"\"\"\n",
    "        スタッキングの推定\n",
    "\n",
    "        Parameters\n",
    "        ----------\n",
    "        X : 学習用データの特徴量 次の形のndarray, shape (n_samples, n_features)    \n",
    "        \"\"\"\n",
    "        # 予測値を一時格納する空のリストを作成\n",
    "        preds = [] \n",
    "        # testデータの予測値を保存する箱を作っておく(shape(n_samples, n_models))\n",
    "        self.new_feature = np.zeros([X.shape[0], len(self.initial_models)])\n",
    "\n",
    "        # ステージ０の推定用に辞書に格納した学習済みモデルを取り出してfor文で回す\n",
    "        for i, models in enumerate(self.fitted_models.values()):\n",
    "            for j in range(self.n_splits):\n",
    "                pred = models[j].predict(X)\n",
    "                self.new_feature[:, i] += pred # 箱の中の要素毎に推定値を足していく\n",
    "            self.new_feature[:, i] /= self.n_splits # モデルごとn_splits回足した推定値の平均を取る\n",
    "\n",
    "        # 最後メタモデルで予測したものを返す        \n",
    "        return self.final_model.predict(self.new_feature) "
   ]
  },
  {
   "cell_type": "code",
   "execution_count": 24,
   "metadata": {},
   "outputs": [],
   "source": [
    "# initial_modelsは線形回帰と決定木の2つにし、final_modelをSVMにする\n",
    "\n",
    "# 各モデルのインスタンス化\n",
    "lr_s = LinearRegression() #線形回帰\n",
    "tree_s = DecisionTreeRegressor() # 決定木\n",
    "svm_s = SVR()\n",
    "\n",
    "# インスタンス化したモデルを辞書に格納し、metaモデルを最後に置く\n",
    "models_dict = {'lr_s':lr_s, 'tree_s':tree_s, 'svm_s':svm_s}\n",
    "# ベースモデルとメタモデルに分ける\n",
    "initial_models = list(models_dict.values())[:-1]\n",
    "final_model = list(models_dict.values())[-1]"
   ]
  },
  {
   "cell_type": "code",
   "execution_count": 25,
   "metadata": {},
   "outputs": [],
   "source": [
    "# Stacking_Scratchを動インスタンス化\n",
    "\n",
    "Stacking_Scratch = Stacking_Scratch(initial_models=initial_models, final_model=final_model, n_splits=3)"
   ]
  },
  {
   "cell_type": "code",
   "execution_count": 26,
   "metadata": {},
   "outputs": [],
   "source": [
    "# 学習\n",
    "\n",
    "Stacking_Scratch.fit(X_train_std, y_train)"
   ]
  },
  {
   "cell_type": "code",
   "execution_count": 27,
   "metadata": {},
   "outputs": [],
   "source": [
    "# 予測\n",
    "\n",
    "Stacking_Scratch_pred = Stacking_Scratch.predict(X_test_std) "
   ]
  },
  {
   "cell_type": "code",
   "execution_count": 28,
   "metadata": {},
   "outputs": [
    {
     "data": {
      "text/plain": [
       "0.03958264372436171"
      ]
     },
     "execution_count": 28,
     "metadata": {},
     "output_type": "execute_result"
    }
   ],
   "source": [
    "# 平均二乗誤差（Mean Squared Error, MSE）を用いて評価\n",
    "\n",
    "Stacking_Scratch_mse = mean_squared_error(y_test, Stacking_Scratch_pred)\n",
    "Stacking_Scratch_mse"
   ]
  },
  {
   "cell_type": "code",
   "execution_count": 29,
   "metadata": {},
   "outputs": [
    {
     "name": "stdout",
     "output_type": "stream",
     "text": [
      "線形回帰単体の平均二乗誤差 0.05730354643047342\n",
      "決定木単体の平均二乗誤差 0.07664029429645695\n"
     ]
    }
   ],
   "source": [
    "# 単独モデルの線形回帰と決定木の平均二乗誤差を再掲\n",
    "\n",
    "lr_mse = mean_squared_error(y_test, lr_pred)\n",
    "print('線形回帰単体の平均二乗誤差', lr_mse)\n",
    "\n",
    "tree_mse = mean_squared_error(y_test, tree_pred)\n",
    "print('決定木単体の平均二乗誤差', tree_mse)"
   ]
  },
  {
   "cell_type": "markdown",
   "metadata": {},
   "source": [
    "**考察：スタッキングを行った結果、線形回帰と決定木単独より精度の改善が見られた。**"
   ]
  }
 ],
 "metadata": {
  "kernelspec": {
   "display_name": "Python 3",
   "language": "python",
   "name": "python3"
  },
  "language_info": {
   "codemirror_mode": {
    "name": "ipython",
    "version": 3
   },
   "file_extension": ".py",
   "mimetype": "text/x-python",
   "name": "python",
   "nbconvert_exporter": "python",
   "pygments_lexer": "ipython3",
   "version": "3.8.6"
  }
 },
 "nbformat": 4,
 "nbformat_minor": 4
}
