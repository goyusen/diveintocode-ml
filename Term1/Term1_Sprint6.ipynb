{
 "cells": [
  {
   "cell_type": "markdown",
   "metadata": {},
   "source": [
    "# Sprint 機械学習スクラッチ　決定木"
   ]
  },
  {
   "cell_type": "markdown",
   "metadata": {},
   "source": [
    "**Sprintの目的**\n",
    "- スクラッチを通して決定木を理解する\n",
    "- 複雑なアルゴリズムの実装に慣れる\n",
    "\n",
    "**どのように学ぶか**\n",
    "スクラッチで決定木を実装した後、学習と検証を行なっていきます。"
   ]
  },
  {
   "cell_type": "markdown",
   "metadata": {},
   "source": [
    "## 【問題1】不純度を求める関数\n",
    "\n",
    "ノード の ジニ不純度 を計算する関数を作成してください。"
   ]
  },
  {
   "cell_type": "code",
   "execution_count": 1,
   "metadata": {},
   "outputs": [],
   "source": [
    "import numpy as np\n",
    "import pandas as pd\n",
    "import matplotlib.pyplot as plt\n",
    "%matplotlib inline"
   ]
  },
  {
   "cell_type": "code",
   "execution_count": 4,
   "metadata": {},
   "outputs": [],
   "source": [
    "def gini_func(classes_list):\n",
    "    \"\"\"\n",
    "    ジニ不純度を求める関数\n",
    "    \"\"\"\n",
    "    # classes_list:(クラス1のサンプル数, クラス2のサンプル数)\n",
    "    gini = 1\n",
    "    for i in range(len(classes_list)):\n",
    "        gini -= np.power((classes_list[i] / sum(classes_list)), 2)\n",
    "    return gini"
   ]
  },
  {
   "cell_type": "markdown",
   "metadata": {},
   "source": [
    "**問題1の例で計算してみる**\n",
    "\n",
    "- クラス1:サンプル数15, クラス2:サンプル数15 → ジニ不純度0.500\n",
    "- クラス1:サンプル数15, クラス2:サンプル数15, クラス3:サンプル数15 → ジニ不純度0.667\n",
    "- クラス1:サンプル数18, クラス2:サンプル数12 → ジニ不純度0.480\n",
    "- クラス1:サンプル数30, クラス2:サンプル数0 → ジニ不純度0.000"
   ]
  },
  {
   "cell_type": "code",
   "execution_count": 5,
   "metadata": {},
   "outputs": [
    {
     "name": "stdout",
     "output_type": "stream",
     "text": [
      "クラス1:サンプル数15, クラス2:サンプル数15 → ジニ不純度： 0.5\n",
      "クラス1:サンプル数15, クラス2:サンプル数15, クラス3:サンプル数15 → ジニ不純度： 0.6666666666666665\n",
      "クラス1:サンプル数18, クラス2:サンプル数12 → ジニ不純度： 0.48\n",
      "クラス1:サンプル数30, クラス2:サンプル数0 → ジニ不純度： 0.0\n"
     ]
    }
   ],
   "source": [
    "print(\"クラス1:サンプル数15, クラス2:サンプル数15 → ジニ不純度：\", gini_func([15, 15]))\n",
    "print(\"クラス1:サンプル数15, クラス2:サンプル数15, クラス3:サンプル数15 → ジニ不純度：\", gini_func([15, 15, 15]))\n",
    "print(\"クラス1:サンプル数18, クラス2:サンプル数12 → ジニ不純度：\", gini_func([18, 12]))\n",
    "print(\"クラス1:サンプル数30, クラス2:サンプル数0 → ジニ不純度：\", gini_func([30, 0]))"
   ]
  },
  {
   "cell_type": "markdown",
   "metadata": {},
   "source": [
    "## 【問題2】情報利得を求める関数"
   ]
  },
  {
   "cell_type": "code",
   "execution_count": 6,
   "metadata": {},
   "outputs": [],
   "source": [
    "def information_gain(classes_list_l, classes_list_r):\n",
    "    \"\"\"\n",
    "    情報利得を求める関数\n",
    "    \"\"\"        \n",
    "    classes_list_p = np.array(classes_list_l) + np.array(classes_list_r) # 親ノード(要素同士の足し算)\n",
    "\n",
    "    Ig = gini_func(classes_list_p)\\\n",
    "    - (sum(classes_list_l)/sum(classes_list_p)) * gini_func(classes_list_l)\\\n",
    "    - (sum(classes_list_r)/sum(classes_list_p)) * gini_func(classes_list_r)\n",
    "    return Ig"
   ]
  },
  {
   "cell_type": "markdown",
   "metadata": {},
   "source": [
    "**問題２の例で計算してみる**\n",
    "\n",
    "左ノードクラス1:サンプル数10, 左ノードクラス2:サンプル数30, 右ノードクラス1:サンプル数20, 右ノードクラス2:サンプル数5 → 情報利得0.143"
   ]
  },
  {
   "cell_type": "code",
   "execution_count": 7,
   "metadata": {},
   "outputs": [
    {
     "data": {
      "text/plain": [
       "0.14319526627218943"
      ]
     },
     "execution_count": 7,
     "metadata": {},
     "output_type": "execute_result"
    }
   ],
   "source": [
    "#左ノードクラス1:サンプル数10\n",
    "#左ノードクラス2:サンプル数30\n",
    "#右ノードクラス1:サンプル数20 \n",
    "#右ノードクラス2:サンプル数5\n",
    "\n",
    "information_gain([10, 30], [20, 5])"
   ]
  },
  {
   "cell_type": "markdown",
   "metadata": {},
   "source": [
    "## 【問題3】学習\n",
    "空間の分割を行い、決定木のグラフを生成するコードを作成してください。今は深さ1の決定木なので、分割を1回だけ行います。ここでグラフを生成するとは、1回の分割の際の条件としてどの特徴量がいくつ以上の時とするかを求めるということです。\n",
    "\n",
    "訓練データに対して全ての組み合わせの分割を行い、その中でノード間の情報利得が最大となる分割をそのノードの分割基準として記録します。\n",
    "\n",
    "\n",
    "クラスが混ざらない不純度が0のノード、または指定された深さのノードが 葉ノード となります。葉ノードにはクラスを記録しておき、これを推定時に分類するクラスとします。クラスが混ざらない場合はそのままのクラスを記録し、混ざっている場合は多数決により決めます。\n",
    "\n",
    "\n",
    "**《組み合わせの取り方》**\n",
    "\n",
    "\n",
    "全ての組み合わせの取り方は、最も単純には各特徴量の値自体をしきい値にして分割を行う方法があります。片側の端は今回のスクラッチはこの方法で行なってください。\n",
    "\n",
    "\n",
    "他には中間の値をしきい値にする方法もあり、scikit-learnではこの方法が用いられています。\n",
    "\n",
    "\n",
    "**《補足》**\n",
    "\n",
    "\n",
    "問題2の情報利得を計算する関数はこの問題3で利用する上では、親ノードの不純度 I(p) は固定されるため、左右のノードの不純度の合計を計算するだけでも同じ結果が得られることになります。しかし、ここでは親ノードを考慮した情報利得を計算する実装を行なってください。"
   ]
  },
  {
   "cell_type": "markdown",
   "metadata": {},
   "source": [
    "## 【問題4】推定\n",
    "推定する仕組みを実装してください。ScratchDecesionTreeClassifierDepth1クラスの雛形に含まれるpredictメソッドに書き加えてください。\n",
    "\n",
    "\n",
    "入力されたデータの値を学習した条件で判定していき、どの葉ノードに到達するかを見ます。葉ノードにはクラスが記録されているので、これが推定値となります。"
   ]
  },
  {
   "cell_type": "markdown",
   "metadata": {},
   "source": [
    "## 【問題5】学習と推定\n",
    "機械学習スクラッチ入門のSprintで用意したシンプルデータセット2の2値分類に対してスクラッチ実装の学習と推定を行なってください。\n",
    "\n",
    "\n",
    "scikit-learnによる実装と比べ、正しく動いているかを確認してください。\n",
    "\n",
    "\n",
    "AccuracyやPrecision、Recallなどの指標値はscikit-learnを使用してください。"
   ]
  },
  {
   "cell_type": "code",
   "execution_count": 129,
   "metadata": {},
   "outputs": [],
   "source": [
    "class ScratchDecesionTreeClassifierDepth1():\n",
    "    \"\"\"\n",
    "    深さ1の決定木分類器のスクラッチ実装\n",
    "    Parameters\n",
    "    ----------\n",
    "    verbose : bool\n",
    "      学習過程を出力する場合はTrue\n",
    "    \"\"\"\n",
    "    def __init__(self, verbose=False):\n",
    "        # ハイパーパラメータを属性として記録\n",
    "        self.verbose = verbose\n",
    "        \n",
    "        self.left = None\n",
    "        self.right = None\n",
    "        self.feature = None\n",
    "        self.threshold = None\n",
    "        self.label = None\n",
    "        self.numdata = None\n",
    "        self.gini_index = None\n",
    "\n",
    "               \n",
    "    def fit(self, X, y):\n",
    "        \"\"\"\n",
    "        決定木分類器を学習する\n",
    "        Parameters\n",
    "        ----------\n",
    "        X : 次の形のndarray, shape (n_samples, n_features)\n",
    "            訓練データの特徴量\n",
    "        y : 次の形のndarray, shape (n_samples, )\n",
    "            訓練データの正解値\n",
    "        \"\"\"\n",
    "        \n",
    "        self.numdata = X.shape[0] # n_samples\n",
    "        num_features = X.shape[1] # n_features\n",
    "        \n",
    "        # ルートノードのクラス設定(各データの多数決)\n",
    "        class_cnt = {i: len(y[y == i]) for i in np.unique(y)}\n",
    "        self.label= max(class_cnt.items(), key=lambda x:x[1])[0]\n",
    "        \n",
    "        # 最良の分割を記録する変数\n",
    "        best_Ig = 0.0 # 不純度変化なし\n",
    "        best_feature = None\n",
    "        best_threshold = None\n",
    "        \n",
    "        # ルートノードのジニ不純度の計算\n",
    "        gini_root = self.gini_func(y)\n",
    "        \n",
    "        for f in range(num_features):\n",
    "            X_f = X[:, f] # f列目の特徴量\n",
    "            \n",
    "            for threshold in X_f:\n",
    "                # しきい値で2グループに分割\n",
    "                y_l = y[X[:, f] <  threshold]\n",
    "                y_r = y[X[:, f] >= threshold]\n",
    "                \n",
    "                # 分割後の情報利得を計算\n",
    "                gini_p = self.gini_func(y) # 親ノードの不純度\n",
    "        \n",
    "                # 分割後の不純度と情報利得の計算\n",
    "                gini_l = self.gini_func(y_l)\n",
    "                gini_r = self.gini_func(y_r)\n",
    "\n",
    "                Ig = gini_p - (float(y_l.shape[0]) / self.numdata) * gini_l\\\n",
    "                            - (float(y_r.shape[0]) / self.numdata) * gini_r\n",
    "                \n",
    "                # より良い分割であれば記録しておく\n",
    "                if Ig > best_Ig:\n",
    "                    best_Ig = Ig\n",
    "                    best_feature = f\n",
    "                    best_threshold = threshold\n",
    "                    \n",
    "        # 不純度が減らなければ終了\n",
    "        if best_Ig == 0:\n",
    "            return\n",
    "        \n",
    "        # 最良の分割を保持する\n",
    "        self.feature = best_feature\n",
    "        self.Ig = best_Ig\n",
    "        self.threshold = best_threshold\n",
    "#         print(\"self.feature\", self.feature)\n",
    "#         print(\"self.Ig\", self.Ig)\n",
    "#         print(\"self.threshold\", self.threshold)\n",
    "    \n",
    "        if self.verbose:\n",
    "            #verboseをTrueにした際は学習過程を出力\n",
    "            print()\n",
    "    \n",
    "    def gini_func(self, y):\n",
    "        \"\"\"\n",
    "        ジニ不純度を求める関数\n",
    "        \"\"\"\n",
    "        classes = np.unique(y)\n",
    "        numdata = y.shape[0] # n_samples\n",
    "        \n",
    "        gini = 1.0\n",
    "        for c in classes:\n",
    "            gini -= (len(y[y == c]) / numdata) ** 2.0\n",
    "        \n",
    "        return gini \n",
    "    \n",
    "    \n",
    "    def predict(self, X):\n",
    "        \"\"\"\n",
    "        決定木分類器を使いラベルを推定する\n",
    "        \"\"\"\n",
    "        columns = X.shape[1]\n",
    "        for c in range(columns):\n",
    "            pred = np.where(X[:, c] < self.threshold, 0, 1)\n",
    "        return pred"
   ]
  },
  {
   "cell_type": "code",
   "execution_count": 130,
   "metadata": {},
   "outputs": [],
   "source": [
    "# シンプルデータセット2作成\n",
    "X = np.array([[-0.44699 , -2.8073  ],[-1.4621  , -2.4586  ],\n",
    "       [ 0.10645 ,  1.9242  ],[-3.5944  , -4.0112  ],\n",
    "       [-0.9888  ,  4.5718  ],[-3.1625  , -3.9606  ],\n",
    "       [ 0.56421 ,  0.72888 ],[-0.60216 ,  8.4636  ],\n",
    "       [-0.61251 , -0.75345 ],[-0.73535 , -2.2718  ],\n",
    "       [-0.80647 , -2.2135  ],[ 0.86291 ,  2.3946  ],\n",
    "       [-3.1108  ,  0.15394 ],[-2.9362  ,  2.5462  ],\n",
    "       [-0.57242 , -2.9915  ],[ 1.4771  ,  3.4896  ],\n",
    "       [ 0.58619 ,  0.37158 ],[ 0.6017  ,  4.3439  ],\n",
    "       [-2.1086  ,  8.3428  ],[-4.1013  , -4.353   ],\n",
    "       [-1.9948  , -1.3927  ],[ 0.35084 , -0.031994],\n",
    "       [ 0.96765 ,  7.8929  ],[-1.281   , 15.6824  ],\n",
    "       [ 0.96765 , 10.083   ],[ 1.3763  ,  1.3347  ],\n",
    "       [-2.234   , -2.5323  ],[-2.9452  , -1.8219  ],\n",
    "       [ 0.14654 , -0.28733 ],[ 0.5461  ,  5.8245  ],\n",
    "       [-0.65259 ,  9.3444  ],[ 0.59912 ,  5.3524  ],\n",
    "       [ 0.50214 , -0.31818 ],[-3.0603  , -3.6461  ],\n",
    "       [-6.6797  ,  0.67661 ],[-2.353   , -0.72261 ],\n",
    "       [ 1.1319  ,  2.4023  ],[-0.12243 ,  9.0162  ],\n",
    "       [-2.5677  , 13.1779  ],[ 0.057313,  5.4681  ]])\n",
    "y = np.array([0, 0, 0, 0, 0, 0, 0, 0, 0, 0, 0, 0, 0, 0, 0, 0, 0, 0, 0, 0, 1, 1,\n",
    "       1, 1, 1, 1, 1, 1, 1, 1, 1, 1, 1, 1, 1, 1, 1, 1, 1, 1])"
   ]
  },
  {
   "cell_type": "code",
   "execution_count": 131,
   "metadata": {},
   "outputs": [
    {
     "data": {
      "text/plain": [
       "(30, 2)"
      ]
     },
     "metadata": {},
     "output_type": "display_data"
    },
    {
     "data": {
      "text/plain": [
       "(10, 2)"
      ]
     },
     "metadata": {},
     "output_type": "display_data"
    },
    {
     "data": {
      "text/plain": [
       "(30,)"
      ]
     },
     "metadata": {},
     "output_type": "display_data"
    },
    {
     "data": {
      "text/plain": [
       "(10,)"
      ]
     },
     "metadata": {},
     "output_type": "display_data"
    }
   ],
   "source": [
    "# 訓練データ75%、検証データ25%用に分割\n",
    "from sklearn.model_selection import train_test_split\n",
    "X_train, X_test, y_train, y_test = train_test_split(X, y, random_state=0)\n",
    "display(X_train.shape)\n",
    "display(X_test.shape)\n",
    "display(y_train.shape)\n",
    "display(y_test.shape)"
   ]
  },
  {
   "cell_type": "code",
   "execution_count": 132,
   "metadata": {},
   "outputs": [],
   "source": [
    "reg_scratch = ScratchDecesionTreeClassifierDepth1()\n",
    "reg_scratch.fit(X_train, y_train)"
   ]
  },
  {
   "cell_type": "code",
   "execution_count": 133,
   "metadata": {},
   "outputs": [],
   "source": [
    "y_pred_scratch = reg_scratch.predict(X_test)"
   ]
  },
  {
   "cell_type": "code",
   "execution_count": 134,
   "metadata": {},
   "outputs": [
    {
     "data": {
      "text/plain": [
       "array([1, 0, 0, 0, 0, 0, 0, 0, 1, 1])"
      ]
     },
     "execution_count": 134,
     "metadata": {},
     "output_type": "execute_result"
    }
   ],
   "source": [
    "y_pred_scratch"
   ]
  },
  {
   "cell_type": "code",
   "execution_count": 135,
   "metadata": {},
   "outputs": [],
   "source": [
    "# AccuracyやPrecision、Recallなどの指標値を出してみる\n",
    "\n",
    "from sklearn.metrics import accuracy_score\n",
    "from sklearn.metrics import precision_score\n",
    "from sklearn.metrics import recall_score\n",
    "from sklearn.metrics import f1_score\n",
    "from sklearn.metrics import confusion_matrix"
   ]
  },
  {
   "cell_type": "code",
   "execution_count": 136,
   "metadata": {},
   "outputs": [
    {
     "name": "stdout",
     "output_type": "stream",
     "text": [
      "スクラッチ実装\n",
      "正解率: 0.6\n",
      "適合率: 0.6666666666666666\n",
      "再現率: 0.4\n",
      "F値: 0.4\n",
      "混同行列: \n",
      "[[4 1]\n",
      " [3 2]]\n"
     ]
    }
   ],
   "source": [
    "scratch_accuracy_score = accuracy_score(y_test, y_pred_scratch) # 正解率\n",
    "scratch_precision_score = precision_score(y_test, y_pred_scratch) #適合率\n",
    "scratch_recall_score = recall_score(y_test, y_pred_scratch) #再現率\n",
    "scratch_f1_score = f1_score(y_test, y_pred_scratch) #F値\n",
    "scratch_confusion_matrix = confusion_matrix(y_test, y_pred_scratch) #混同行列\n",
    "\n",
    "print('スクラッチ実装')\n",
    "print('正解率: {}'.format(scratch_accuracy_score))\n",
    "print('適合率: {}'.format(scratch_precision_score))\n",
    "print('再現率: {}'.format(scratch_recall_score))\n",
    "print('F値: {}'.format(scratch_recall_score))\n",
    "print('混同行列: \\n{}'.format(scratch_confusion_matrix))"
   ]
  },
  {
   "cell_type": "markdown",
   "metadata": {},
   "source": [
    "**scikit-learnによる実装と比べ、正しく動いているかを確認**"
   ]
  },
  {
   "cell_type": "code",
   "execution_count": 137,
   "metadata": {},
   "outputs": [
    {
     "name": "stdout",
     "output_type": "stream",
     "text": [
      "scikit-learnによる実装\n",
      "正解率: 0.6\n",
      "適合率: 0.6666666666666666\n",
      "再現率: 0.4\n",
      "F値: 0.4\n",
      "混同行列: \n",
      "[[4 1]\n",
      " [3 2]]\n"
     ]
    }
   ],
   "source": [
    "from sklearn.tree import DecisionTreeClassifier\n",
    "\n",
    "tree_sklearn = DecisionTreeClassifier(max_depth=1) # インスタンス作成\n",
    "tree_sklearn.fit(X_train, y_train) # 学習\n",
    "y_pred_sklearn = tree_sklearn.predict(X_test) # 予測\n",
    "\n",
    "sklearn_accuracy_score = accuracy_score(y_test, y_pred_sklearn) # 正解率\n",
    "sklearn_precision_score = precision_score(y_test, y_pred_sklearn) #適合率\n",
    "sklearn_recall_score = recall_score(y_test, y_pred_sklearn) #再現率\n",
    "sklearn_f1_score = f1_score(y_test, y_pred_sklearn) #F値\n",
    "sklearn_confusion_matrix = confusion_matrix(y_test, y_pred_sklearn) #混同行列\n",
    "\n",
    "print('scikit-learnによる実装')\n",
    "print('正解率: {}'.format(sklearn_accuracy_score))\n",
    "print('適合率: {}'.format(sklearn_precision_score))\n",
    "print('再現率: {}'.format(sklearn_recall_score))\n",
    "print('F値: {}'.format(sklearn_recall_score))\n",
    "print('混同行列: \\n{}'.format(sklearn_confusion_matrix))"
   ]
  },
  {
   "cell_type": "markdown",
   "metadata": {},
   "source": [
    "**考察：木の深さによる影響か、正解率などの指標は低いが、スクラッチはscikit-learnによる実装と同じ結果となったため、正しく動いていると言えよう。**"
   ]
  },
  {
   "cell_type": "markdown",
   "metadata": {},
   "source": [
    "## 【問題6】決定領域の可視化"
   ]
  },
  {
   "cell_type": "code",
   "execution_count": 138,
   "metadata": {},
   "outputs": [],
   "source": [
    "from matplotlib.colors import ListedColormap\n",
    "import matplotlib.patches as mpatches\n",
    "\n",
    "def decision_region(\n",
    "    X, y, model, step=0.01, \n",
    "    title='decision region', xlabel='xlabel', ylabel='ylabel', \n",
    "    target_names=['versicolor', 'virginica']):\n",
    "    \"\"\"\n",
    "    2値分類を2次元の特徴量で学習したモデルの決定領域を描く。\n",
    "    背景の色が学習したモデルによる推定値から描画される。\n",
    "    散布図の点は訓練データまたは検証データである。\n",
    "    Parameters\n",
    "    ----------------\n",
    "    X : ndarray, shape(n_samples, 2)　\n",
    "        特徴量\n",
    "    y : ndarray, shape(n_samples,)　　\n",
    "        ラベル\n",
    "    model : object　　　　　　　　　　\n",
    "        学習したモデルのインスンタスを入れる\n",
    "    step : float, (default : 0.1)　　　　  \n",
    "        推定値を計算する間隔を設定する\n",
    "    title : str　                                    \n",
    "        グラフのタイトルの文章を与える\n",
    "    xlabel, ylabel : str　                       \n",
    "        軸ラベルの文章を与える\n",
    "    target_names= : list of str　          \n",
    "        凡例の一覧を与える\n",
    "    \"\"\"\n",
    "    # setting\n",
    "    scatter_color = ['red', 'blue']\n",
    "    contourf_color = ['pink', 'skyblue']\n",
    "    n_class = 2\n",
    "    # pred\n",
    "    mesh_f0, mesh_f1  = np.meshgrid(np.arange(np.min(X[:,0])-0.5, np.max(X[:,0])+0.5, step), np.arange(np.min(X[:,1])-0.5, np.max(X[:,1])+0.5, step))\n",
    "    mesh = np.c_[np.ravel(mesh_f0),np.ravel(mesh_f1)]\n",
    "    y_pred = model.predict(mesh).reshape(mesh_f0.shape)\n",
    "    # plot\n",
    "    plt.title(title)\n",
    "    plt.xlabel(xlabel)\n",
    "    plt.ylabel(ylabel)\n",
    "    plt.contourf(mesh_f0, mesh_f1, y_pred, n_class-1, cmap=ListedColormap(contourf_color))\n",
    "    plt.contour(mesh_f0, mesh_f1, y_pred, n_class-1, colors='y', linewidths=3, alpha=0.5)\n",
    "    for i, target in enumerate(set(y)):\n",
    "        plt.scatter(X[y==target][:, 0], X[y==target][:, 1], s=80, color=scatter_color[i], label=target_names[i], marker='o')\n",
    "    patches = [mpatches.Patch(color=scatter_color[i], label=target_names[i]) for i in range(n_class)]\n",
    "    \n",
    "    plt.legend(handles=patches)\n",
    "    plt.legend()\n",
    "    plt.show()"
   ]
  },
  {
   "cell_type": "code",
   "execution_count": 139,
   "metadata": {},
   "outputs": [
    {
     "data": {
      "image/png": "[encoded data removed]",
      "text/plain": [
       "<Figure size 432x288 with 1 Axes>"
      ]
     },
     "metadata": {
      "needs_background": "light"
     },
     "output_type": "display_data"
    }
   ],
   "source": [
    "# スクラッチ実装(訓練データ)\n",
    "\n",
    "decision_region(X_train, y_train, model=reg_scratch)"
   ]
  },
  {
   "cell_type": "code",
   "execution_count": 140,
   "metadata": {},
   "outputs": [
    {
     "data": {
      "image/png": "[encoded data removed]",
      "text/plain": [
       "<Figure size 432x288 with 1 Axes>"
      ]
     },
     "metadata": {
      "needs_background": "light"
     },
     "output_type": "display_data"
    }
   ],
   "source": [
    "# スクラッチ実装(検証データ)\n",
    "\n",
    "decision_region(X_test, y_test, model=reg_scratch)"
   ]
  },
  {
   "cell_type": "code",
   "execution_count": 141,
   "metadata": {},
   "outputs": [
    {
     "data": {
      "image/png": "[encoded data removed]",
      "text/plain": [
       "<Figure size 432x288 with 1 Axes>"
      ]
     },
     "metadata": {
      "needs_background": "light"
     },
     "output_type": "display_data"
    }
   ],
   "source": [
    "# scikit-learnによる実装(訓練データ)\n",
    "\n",
    "decision_region(X_train, y_train, model=tree_sklearn)"
   ]
  },
  {
   "cell_type": "code",
   "execution_count": 142,
   "metadata": {},
   "outputs": [
    {
     "data": {
      "image/png": "[encoded data removed]",
      "text/plain": [
       "<Figure size 432x288 with 1 Axes>"
      ]
     },
     "metadata": {
      "needs_background": "light"
     },
     "output_type": "display_data"
    }
   ],
   "source": [
    "# scikit-learnによる実装(検証データ)\n",
    "\n",
    "decision_region(X_test, y_test, model=tree_sklearn)"
   ]
  }
 ],
 "metadata": {
  "kernelspec": {
   "display_name": "Python 3",
   "language": "python",
   "name": "python3"
  },
  "language_info": {
   "codemirror_mode": {
    "name": "ipython",
    "version": 3
   },
   "file_extension": ".py",
   "mimetype": "text/x-python",
   "name": "python",
   "nbconvert_exporter": "python",
   "pygments_lexer": "ipython3",
   "version": "3.8.6"
  }
 },
 "nbformat": 4,
 "nbformat_minor": 4
}
