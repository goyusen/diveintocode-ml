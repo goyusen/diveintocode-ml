{
 "cells": [
  {
   "cell_type": "markdown",
   "metadata": {},
   "source": [
    "# Sprint 機械学習スクラッチ入門"
   ]
  },
  {
   "cell_type": "markdown",
   "metadata": {},
   "source": [
    "**Sprintの目的**\n",
    "\n",
    "- 機械学習スクラッチの準備をする\n",
    "\n",
    "**どのように学ぶか**\n",
    "\n",
    "- 今後の機械学習スクラッチ課題で作成するモデルを、scikit-learnを用いて一度動かしておきます。これまでの復習を兼ねたスクラッチ課題の準備です。"
   ]
  },
  {
   "cell_type": "markdown",
   "metadata": {},
   "source": [
    "## 【問題1】train_test_splitのスクラッチ\n",
    "\n",
    "スクラッチの練習として、scikit-learnのtrain_test_splitを自作してみます。\n",
    "\n",
    "\n",
    "[sklearn.model_selection.train_test_split — scikit-learn 0.21.3 documentation](http://scikit-learn.org/stable/modules/generated/sklearn.model_selection.train_test_split.html)\n",
    "\n",
    "\n",
    "なお、作成した関数がscikit-learnのtrain_test_splitと同じ動作をしているか必ず確認をするようにしましょう。"
   ]
  },
  {
   "cell_type": "code",
   "execution_count": 1,
   "metadata": {},
   "outputs": [],
   "source": [
    "import numpy as np\n",
    "import pandas as pd\n",
    "import random\n",
    "from sklearn.model_selection import train_test_split"
   ]
  },
  {
   "cell_type": "code",
   "execution_count": 2,
   "metadata": {},
   "outputs": [],
   "source": [
    "def scratch_train_test_split(X,y,train_size=0.8,random_state=0):\n",
    "    \"\"\"\n",
    "    検証データを分割する。\n",
    "\n",
    "    Parameters\n",
    "    ----------\n",
    "    X : 次の形のndarray, shape (n_samples, n_features)\n",
    "      訓練データ\n",
    "    y : 次の形のndarray, shape (n_samples, )\n",
    "      正解値\n",
    "    train_size : float (0<train_size<1)\n",
    "      何割をtrainとするか指定\n",
    "\n",
    "    Returns\n",
    "    ----------\n",
    "    X_train : 次の形のndarray, shape (n_samples, n_features)\n",
    "      訓練データ\n",
    "    X_test : 次の形のndarray, shape (n_samples, n_features)\n",
    "      検証データ\n",
    "    y_train : 次の形のndarray, shape (n_samples, )\n",
    "      訓練データの正解値\n",
    "    y_test : 次の形のndarray, shape (n_samples, )\n",
    "      検証データの正解値\n",
    "    \"\"\"\n",
    "    # Xとyのデータサイズが一致しないとエラーメッセージ\n",
    "    assert X.shape[0] == y.shape[0], \"Xとyのデータサイズが一致しない\"\n",
    "    \n",
    "    # 乱数のシード\n",
    "    np.random.seed(random_state)\n",
    "    \n",
    "    # X,yを一旦横方向に結合させる\n",
    "    y = y.reshape(-1,1)\n",
    "    Xy = np.concatenate([X,y],axis=1)\n",
    "    \n",
    "    # trainデータ、testデータの分割\n",
    "    Xy_size = len(Xy)\n",
    "    pick_num = int(np.round(Xy_size*train_size))\n",
    "    train_pick = np.random.choice(a=np.arange(Xy_size),size=pick_num,replace=False)\n",
    "    test_pick = np.delete(np.arange(Xy_size),train_pick)\n",
    "    \n",
    "    train = Xy[train_pick,:]\n",
    "    test = Xy[test_pick,:]\n",
    "\n",
    "    X_train = train[:,0:(Xy.shape[1]-y.shape[1])].reshape(-1,X.shape[1])\n",
    "    y_train = train[:,-y.shape[1]].reshape(-1,)\n",
    "    X_test = test[:,0:(Xy.shape[1]-y.shape[1])].reshape(-1,X.shape[1])\n",
    "    y_test = test[:,-y.shape[1]].reshape(-1,)\n",
    "    \n",
    "    return X_train, X_test, y_train, y_test  "
   ]
  },
  {
   "cell_type": "markdown",
   "metadata": {},
   "source": [
    "sklearn.model_selection.train_test_split公式の例(np.ndarray) "
   ]
  },
  {
   "cell_type": "code",
   "execution_count": 3,
   "metadata": {},
   "outputs": [
    {
     "name": "stdout",
     "output_type": "stream",
     "text": [
      "[[0 1]\n",
      " [2 3]\n",
      " [4 5]\n",
      " [6 7]\n",
      " [8 9]]\n",
      "[0, 1, 2, 3, 4]\n"
     ]
    }
   ],
   "source": [
    "X, y = np.arange(10).reshape((5, 2)), range(5)\n",
    "print(X)\n",
    "print(list(y))"
   ]
  },
  {
   "cell_type": "code",
   "execution_count": 4,
   "metadata": {},
   "outputs": [
    {
     "name": "stdout",
     "output_type": "stream",
     "text": [
      "[[4 5]\n",
      " [0 1]\n",
      " [6 7]]\n",
      "[2, 0, 3]\n"
     ]
    }
   ],
   "source": [
    "X_train, X_test, y_train, y_test = train_test_split(X, y, test_size=0.33, random_state=42)\n",
    "print(X_train)\n",
    "print(y_train)"
   ]
  },
  {
   "cell_type": "code",
   "execution_count": 5,
   "metadata": {},
   "outputs": [
    {
     "name": "stdout",
     "output_type": "stream",
     "text": [
      "[[2 3]\n",
      " [8 9]]\n",
      "[1, 4]\n"
     ]
    }
   ],
   "source": [
    "print(X_test)\n",
    "print(y_test)"
   ]
  },
  {
   "cell_type": "markdown",
   "metadata": {},
   "source": [
    "scratch_train_test_split関数で検証"
   ]
  },
  {
   "cell_type": "code",
   "execution_count": 6,
   "metadata": {},
   "outputs": [
    {
     "name": "stdout",
     "output_type": "stream",
     "text": [
      "[[0 1]\n",
      " [2 3]\n",
      " [4 5]\n",
      " [6 7]\n",
      " [8 9]]\n",
      "[0, 1, 2, 3, 4]\n"
     ]
    }
   ],
   "source": [
    "X, y = np.arange(10).reshape((5, 2)), range(5)\n",
    "print(X)\n",
    "print(list(y))"
   ]
  },
  {
   "cell_type": "code",
   "execution_count": 7,
   "metadata": {
    "jupyter": {
     "source_hidden": true
    }
   },
   "outputs": [
    {
     "name": "stdout",
     "output_type": "stream",
     "text": [
      "[[4 5]\n",
      " [0 1]\n",
      " [6 7]]\n",
      "[2, 0, 3]\n"
     ]
    }
   ],
   "source": [
    "X_train, X_test, y_train, y_test = train_test_split(X, y, test_size=0.33, random_state=42)\n",
    "print(X_train)\n",
    "print(y_train)"
   ]
  },
  {
   "cell_type": "code",
   "execution_count": 8,
   "metadata": {},
   "outputs": [
    {
     "name": "stdout",
     "output_type": "stream",
     "text": [
      "[[2 3]\n",
      " [8 9]]\n",
      "[1, 4]\n"
     ]
    }
   ],
   "source": [
    "print(X_test)\n",
    "print(y_test)"
   ]
  },
  {
   "cell_type": "markdown",
   "metadata": {},
   "source": [
    "## 【問題2】 分類問題を解くコードの作成"
   ]
  },
  {
   "cell_type": "code",
   "execution_count": 9,
   "metadata": {},
   "outputs": [
    {
     "data": {
      "text/html": [
       "<div>\n",
       "<style scoped>\n",
       "    .dataframe tbody tr th:only-of-type {\n",
       "        vertical-align: middle;\n",
       "    }\n",
       "\n",
       "    .dataframe tbody tr th {\n",
       "        vertical-align: top;\n",
       "    }\n",
       "\n",
       "    .dataframe thead th {\n",
       "        text-align: right;\n",
       "    }\n",
       "</style>\n",
       "<table border=\"1\" class=\"dataframe\">\n",
       "  <thead>\n",
       "    <tr style=\"text-align: right;\">\n",
       "      <th></th>\n",
       "      <th>sepal_length</th>\n",
       "      <th>petal_length</th>\n",
       "      <th>Species</th>\n",
       "    </tr>\n",
       "  </thead>\n",
       "  <tbody>\n",
       "    <tr>\n",
       "      <th>50</th>\n",
       "      <td>7.0</td>\n",
       "      <td>4.7</td>\n",
       "      <td>1</td>\n",
       "    </tr>\n",
       "    <tr>\n",
       "      <th>51</th>\n",
       "      <td>6.4</td>\n",
       "      <td>4.5</td>\n",
       "      <td>1</td>\n",
       "    </tr>\n",
       "    <tr>\n",
       "      <th>52</th>\n",
       "      <td>6.9</td>\n",
       "      <td>4.9</td>\n",
       "      <td>1</td>\n",
       "    </tr>\n",
       "    <tr>\n",
       "      <th>53</th>\n",
       "      <td>5.5</td>\n",
       "      <td>4.0</td>\n",
       "      <td>1</td>\n",
       "    </tr>\n",
       "    <tr>\n",
       "      <th>54</th>\n",
       "      <td>6.5</td>\n",
       "      <td>4.6</td>\n",
       "      <td>1</td>\n",
       "    </tr>\n",
       "  </tbody>\n",
       "</table>\n",
       "</div>"
      ],
      "text/plain": [
       "    sepal_length  petal_length  Species\n",
       "50           7.0           4.7        1\n",
       "51           6.4           4.5        1\n",
       "52           6.9           4.9        1\n",
       "53           5.5           4.0        1\n",
       "54           6.5           4.6        1"
      ]
     },
     "execution_count": 9,
     "metadata": {},
     "output_type": "execute_result"
    }
   ],
   "source": [
    "#irisデータセットを読み込む\n",
    "from sklearn.datasets import load_iris\n",
    "\n",
    "iris_dataset = load_iris()\n",
    "X = pd.DataFrame(iris_dataset.data, columns=[\"sepal_length\", \"sepal_width\", \"petal_length\", \"petal_width\"])\n",
    "y = pd.DataFrame(iris_dataset.target, columns=[\"Species\"])\n",
    "df = pd.concat([X, y], axis=1)\n",
    "\n",
    "df_selected = df.query(\"Species == [1, 2]\").loc[:, [\"sepal_length\", \"petal_length\", \"Species\"]]\n",
    "df_selected.head()"
   ]
  },
  {
   "cell_type": "code",
   "execution_count": 10,
   "metadata": {},
   "outputs": [
    {
     "name": "stdout",
     "output_type": "stream",
     "text": [
      "X_train (75, 2)\n",
      "X_test (25, 2)\n",
      "y_train (75,)\n",
      "y_test (25,)\n"
     ]
    }
   ],
   "source": [
    "# スクラッチしたtrain_test_split関数でtrainデータとtestデータに分ける\n",
    "\n",
    "X_train, X_test, y_train, y_test = scratch_train_test_split(df_selected.iloc[:, :-1].values, df_selected.iloc[:, -1:].values, train_size=0.75)\n",
    "print(\"X_train\",X_train.shape)\n",
    "print(\"X_test\",X_test.shape)\n",
    "print(\"y_train\",y_train.shape)\n",
    "print(\"y_test\",y_test.shape)"
   ]
  },
  {
   "cell_type": "code",
   "execution_count": 11,
   "metadata": {},
   "outputs": [],
   "source": [
    "# 前処理・標準化\n",
    "from sklearn.preprocessing import StandardScaler\n",
    "\n",
    "scaler = StandardScaler() # インスタンス作成\n",
    "scaler.fit(X_train)\n",
    "X_train_transformed = scaler.transform(X_train) #X_trainの標準化\n",
    "X_test_transformed = scaler.transform(X_test) #X_testの標準化\n",
    "# print(X_train_transformed)\n",
    "# print(X_test_transformed)"
   ]
  },
  {
   "cell_type": "code",
   "execution_count": 12,
   "metadata": {},
   "outputs": [
    {
     "data": {
      "text/plain": [
       "array([1., 1., 1., 1., 1., 1., 1., 1., 1., 1., 1., 2., 2., 2., 2., 2., 2.,\n",
       "       2., 1., 2., 2., 2., 1., 2., 2.])"
      ]
     },
     "execution_count": 12,
     "metadata": {},
     "output_type": "execute_result"
    }
   ],
   "source": [
    "# irisデータセットの学習・推定：ロジスティック回帰(勾配降下法SGDClassifierクラス使用)\n",
    "from sklearn.linear_model import SGDClassifier\n",
    "\n",
    "sgdc = SGDClassifier(loss=\"log\")\n",
    "sgdc.fit(X_train_transformed, y_train)\n",
    "sgdc_pred = sgdc.predict(X_test_transformed)\n",
    "sgdc_pred"
   ]
  },
  {
   "cell_type": "code",
   "execution_count": 13,
   "metadata": {},
   "outputs": [
    {
     "data": {
      "text/plain": [
       "array([1., 1., 1., 1., 1., 1., 1., 1., 1., 1., 1., 2., 2., 2., 2., 2., 2.,\n",
       "       2., 2., 2., 2., 2., 1., 2., 2.])"
      ]
     },
     "execution_count": 13,
     "metadata": {},
     "output_type": "execute_result"
    }
   ],
   "source": [
    "# irisデータセットの学習・推定：SVM\n",
    "from sklearn.svm import SVC\n",
    "\n",
    "svm = SVC() # インスタンス作成\n",
    "svm.fit(X_train_transformed, y_train) # 学習\n",
    "svm_pred = svm.predict(X_test_transformed) # 予測\n",
    "svm_pred"
   ]
  },
  {
   "cell_type": "code",
   "execution_count": 14,
   "metadata": {},
   "outputs": [
    {
     "data": {
      "text/plain": [
       "array([1., 1., 2., 1., 1., 1., 1., 1., 1., 1., 1., 2., 2., 2., 2., 2., 2.,\n",
       "       2., 2., 2., 2., 2., 2., 2., 1.])"
      ]
     },
     "execution_count": 14,
     "metadata": {},
     "output_type": "execute_result"
    }
   ],
   "source": [
    "# irisデータセットの学習・推定：決定木\n",
    "from sklearn.tree import DecisionTreeClassifier\n",
    "\n",
    "dtc = DecisionTreeClassifier() # インスタンス作成\n",
    "dtc.fit(X_train_transformed, y_train) # 学習\n",
    "dtc_pred = dtc.predict(X_test_transformed) # 予測\n",
    "dtc_pred"
   ]
  },
  {
   "cell_type": "markdown",
   "metadata": {},
   "source": [
    "### シンプルデータセット1での学習・推定"
   ]
  },
  {
   "cell_type": "code",
   "execution_count": 15,
   "metadata": {},
   "outputs": [
    {
     "data": {
      "text/plain": [
       "(500, 2)"
      ]
     },
     "metadata": {},
     "output_type": "display_data"
    },
    {
     "data": {
      "text/plain": [
       "(500,)"
      ]
     },
     "metadata": {},
     "output_type": "display_data"
    }
   ],
   "source": [
    "# サンプルコードでシンプルデータセット1作成\n",
    "\n",
    "import numpy as np\n",
    "np.random.seed(seed=0)\n",
    "n_samples = 500\n",
    "f0 = [-1, 2]\n",
    "f1 = [2, -1]\n",
    "cov = [[1.0,0.8], [0.8, 1.0]]\n",
    "f0 = np.random.multivariate_normal(f0, cov, int(n_samples/2))\n",
    "f1 = np.random.multivariate_normal(f1, cov, int(n_samples/2))\n",
    "X = np.concatenate((f0, f1))\n",
    "y = np.concatenate((np.ones((int(n_samples/2))), np.ones((int(n_samples/2))) *(-1))).astype(np.int)\n",
    "random_index = np.random.permutation(np.arange(n_samples))\n",
    "X = X[random_index]\n",
    "y = y[random_index]\n",
    "display(X.shape)\n",
    "display(y.shape)"
   ]
  },
  {
   "cell_type": "code",
   "execution_count": 16,
   "metadata": {},
   "outputs": [
    {
     "name": "stdout",
     "output_type": "stream",
     "text": [
      "X_train (375, 2)\n",
      "X_test (125, 2)\n",
      "y_train (375,)\n",
      "y_test (125,)\n"
     ]
    }
   ],
   "source": [
    "# スクラッチしたtrain_test_split関数でtrainデータとtestデータに分ける\n",
    "\n",
    "X_train, X_test, y_train, y_test = scratch_train_test_split(X, y, train_size=0.75)\n",
    "print(\"X_train\",X_train.shape)\n",
    "print(\"X_test\",X_test.shape)\n",
    "print(\"y_train\",y_train.shape)\n",
    "print(\"y_test\",y_test.shape)"
   ]
  },
  {
   "cell_type": "code",
   "execution_count": 17,
   "metadata": {},
   "outputs": [],
   "source": [
    "# 前処理・標準化\n",
    "\n",
    "scaler = StandardScaler() # インスタンス作成\n",
    "scaler.fit(X_train)\n",
    "X_train_transformed = scaler.transform(X_train) #X_trainの標準化\n",
    "X_test_transformed = scaler.transform(X_test) #X_testの標準化\n",
    "# print(X_train_transformed)\n",
    "# print(X_test_transformed)"
   ]
  },
  {
   "cell_type": "code",
   "execution_count": 18,
   "metadata": {},
   "outputs": [
    {
     "data": {
      "text/plain": [
       "array([-1., -1.,  1.,  1.,  1., -1., -1., -1.,  1.,  1.,  1.,  1., -1.,\n",
       "       -1., -1.,  1.,  1.,  1.,  1.,  1.,  1.,  1.,  1., -1.,  1., -1.,\n",
       "        1.,  1.,  1., -1., -1.,  1.,  1.,  1.,  1., -1.,  1., -1., -1.,\n",
       "       -1.,  1., -1.,  1., -1., -1., -1., -1., -1., -1., -1.,  1., -1.,\n",
       "        1.,  1., -1.,  1., -1., -1.,  1., -1.,  1., -1.,  1.,  1.,  1.,\n",
       "       -1., -1., -1., -1., -1.,  1.,  1.,  1.,  1., -1.,  1.,  1., -1.,\n",
       "       -1., -1.,  1., -1., -1.,  1., -1., -1., -1., -1.,  1.,  1.,  1.,\n",
       "        1.,  1.,  1.,  1., -1., -1.,  1.,  1., -1., -1., -1., -1., -1.,\n",
       "       -1.,  1.,  1., -1.,  1., -1., -1., -1., -1.,  1., -1.,  1., -1.,\n",
       "       -1.,  1., -1.,  1., -1., -1., -1.,  1.])"
      ]
     },
     "execution_count": 18,
     "metadata": {},
     "output_type": "execute_result"
    }
   ],
   "source": [
    "# シンプルデータセット1の学習・推定：ロジスティック回帰(勾配降下法SGDClassifierクラス使用)\n",
    "\n",
    "sgdc = SGDClassifier(loss=\"log\")\n",
    "sgdc.fit(X_train_transformed, y_train)\n",
    "sgdc_pred = sgdc.predict(X_test_transformed)\n",
    "sgdc_pred"
   ]
  },
  {
   "cell_type": "code",
   "execution_count": 19,
   "metadata": {},
   "outputs": [
    {
     "data": {
      "text/plain": [
       "array([-1., -1.,  1.,  1.,  1., -1., -1., -1.,  1.,  1.,  1.,  1., -1.,\n",
       "       -1., -1.,  1.,  1.,  1.,  1.,  1.,  1.,  1.,  1., -1.,  1., -1.,\n",
       "        1.,  1.,  1., -1., -1.,  1.,  1.,  1.,  1., -1.,  1., -1., -1.,\n",
       "       -1.,  1., -1.,  1., -1., -1., -1., -1., -1., -1., -1.,  1., -1.,\n",
       "        1.,  1., -1.,  1., -1., -1.,  1., -1.,  1., -1.,  1.,  1.,  1.,\n",
       "       -1., -1., -1., -1., -1.,  1.,  1.,  1.,  1., -1.,  1.,  1., -1.,\n",
       "       -1., -1.,  1., -1., -1.,  1., -1., -1., -1., -1.,  1.,  1.,  1.,\n",
       "        1.,  1.,  1.,  1., -1., -1.,  1.,  1., -1., -1., -1., -1., -1.,\n",
       "       -1.,  1.,  1., -1.,  1., -1., -1., -1., -1.,  1., -1.,  1., -1.,\n",
       "       -1.,  1., -1.,  1., -1., -1., -1.,  1.])"
      ]
     },
     "execution_count": 19,
     "metadata": {},
     "output_type": "execute_result"
    }
   ],
   "source": [
    "# シンプルデータセット1の学習・推定：SVM\n",
    "\n",
    "svm = SVC() # インスタンス作成\n",
    "svm.fit(X_train_transformed, y_train) # 学習\n",
    "svm_pred = svm.predict(X_test_transformed) # 予測\n",
    "svm_pred"
   ]
  },
  {
   "cell_type": "code",
   "execution_count": 20,
   "metadata": {},
   "outputs": [
    {
     "data": {
      "text/plain": [
       "array([-1., -1.,  1.,  1.,  1., -1., -1., -1.,  1.,  1.,  1.,  1., -1.,\n",
       "       -1., -1.,  1.,  1.,  1.,  1.,  1.,  1.,  1.,  1., -1.,  1., -1.,\n",
       "        1.,  1.,  1., -1., -1.,  1.,  1.,  1.,  1., -1.,  1., -1., -1.,\n",
       "       -1.,  1., -1.,  1., -1., -1., -1., -1., -1., -1., -1.,  1., -1.,\n",
       "        1.,  1., -1.,  1., -1., -1.,  1., -1.,  1., -1.,  1.,  1.,  1.,\n",
       "       -1., -1., -1., -1., -1.,  1.,  1.,  1.,  1., -1.,  1.,  1., -1.,\n",
       "       -1., -1.,  1., -1., -1.,  1., -1., -1., -1., -1.,  1.,  1.,  1.,\n",
       "        1.,  1.,  1.,  1., -1., -1.,  1.,  1., -1., -1., -1., -1., -1.,\n",
       "       -1.,  1.,  1., -1.,  1., -1., -1., -1., -1.,  1., -1.,  1., -1.,\n",
       "       -1.,  1., -1.,  1., -1., -1., -1.,  1.])"
      ]
     },
     "execution_count": 20,
     "metadata": {},
     "output_type": "execute_result"
    }
   ],
   "source": [
    "# シンプルデータセット1の学習・推定：決定木\n",
    "\n",
    "dtc = DecisionTreeClassifier() # インスタンス作成\n",
    "dtc.fit(X_train_transformed, y_train) # 学習\n",
    "dtc_pred = dtc.predict(X_test_transformed) # 予測\n",
    "dtc_pred"
   ]
  },
  {
   "cell_type": "markdown",
   "metadata": {},
   "source": [
    "### シンプルデータセット2での学習・推定"
   ]
  },
  {
   "cell_type": "code",
   "execution_count": 21,
   "metadata": {},
   "outputs": [
    {
     "data": {
      "text/plain": [
       "(40, 2)"
      ]
     },
     "metadata": {},
     "output_type": "display_data"
    },
    {
     "data": {
      "text/plain": [
       "(40,)"
      ]
     },
     "metadata": {},
     "output_type": "display_data"
    }
   ],
   "source": [
    "# サンプルコードでシンプルデータセット2作成\n",
    "\n",
    "X = np.array([[-0.44699 , -2.8073  ],[-1.4621  , -2.4586  ],\n",
    "[ 0.10645 ,  1.9242  ],[-3.5944  , -4.0112  ],\n",
    "[-0.9888  ,  4.5718  ],[-3.1625  , -3.9606  ],\n",
    "[ 0.56421 ,  0.72888 ],[-0.60216 ,  8.4636  ],\n",
    "[-0.61251 , -0.75345 ],[-0.73535 , -2.2718  ],\n",
    "[-0.80647 , -2.2135  ],[ 0.86291 ,  2.3946  ],\n",
    "[-3.1108  ,  0.15394 ],[-2.9362  ,  2.5462  ],\n",
    "[-0.57242 , -2.9915  ],[ 1.4771  ,  3.4896  ],\n",
    "[ 0.58619 ,  0.37158 ],[ 0.6017  ,  4.3439  ],\n",
    "[-2.1086  ,  8.3428  ],[-4.1013  , -4.353   ],\n",
    "[-1.9948  , -1.3927  ],[ 0.35084 , -0.031994],\n",
    "[ 0.96765 ,  7.8929  ],[-1.281   , 15.6824  ],\n",
    "[ 0.96765 , 10.083   ],[ 1.3763  ,  1.3347  ],\n",
    "[-2.234   , -2.5323  ],[-2.9452  , -1.8219  ],\n",
    "[ 0.14654 , -0.28733 ],[ 0.5461  ,  5.8245  ],\n",
    "[-0.65259 ,  9.3444  ],[ 0.59912 ,  5.3524  ],\n",
    "[ 0.50214 , -0.31818 ],[-3.0603  , -3.6461  ],\n",
    "[-6.6797  ,  0.67661 ],[-2.353   , -0.72261 ],\n",
    "[ 1.1319  ,  2.4023  ],[-0.12243 ,  9.0162  ],\n",
    "[-2.5677  , 13.1779  ],[ 0.057313,  5.4681  ]])\n",
    "y = np.array([0, 0, 0, 0, 0, 0, 0, 0, 0, 0, 0, 0, 0, 0, 0, 0, 0, 0, 0, 0, 1, 1,\n",
    "1, 1, 1, 1, 1, 1, 1, 1, 1, 1, 1, 1, 1, 1, 1, 1, 1, 1])\n",
    "display(X.shape)\n",
    "display(y.shape)"
   ]
  },
  {
   "cell_type": "code",
   "execution_count": 22,
   "metadata": {},
   "outputs": [
    {
     "name": "stdout",
     "output_type": "stream",
     "text": [
      "X_train (30, 2)\n",
      "X_test (10, 2)\n",
      "y_train (30,)\n",
      "y_test (10,)\n"
     ]
    }
   ],
   "source": [
    "# スクラッチしたtrain_test_split関数でtrainデータとtestデータに分ける\n",
    "\n",
    "X_train, X_test, y_train, y_test = scratch_train_test_split(X, y, train_size=0.75)\n",
    "print(\"X_train\",X_train.shape)\n",
    "print(\"X_test\",X_test.shape)\n",
    "print(\"y_train\",y_train.shape)\n",
    "print(\"y_test\",y_test.shape)"
   ]
  },
  {
   "cell_type": "code",
   "execution_count": 23,
   "metadata": {},
   "outputs": [],
   "source": [
    "# 前処理・標準化\n",
    "\n",
    "scaler = StandardScaler() # インスタンス作成\n",
    "scaler.fit(X_train)\n",
    "X_train_transformed = scaler.transform(X_train) #X_trainの標準化\n",
    "X_test_transformed = scaler.transform(X_test) #X_testの標準化\n",
    "# print(X_train_transformed)\n",
    "# print(X_test_transformed)"
   ]
  },
  {
   "cell_type": "code",
   "execution_count": 24,
   "metadata": {},
   "outputs": [
    {
     "data": {
      "text/plain": [
       "array([0., 1., 0., 1., 1., 0., 1., 1., 1., 1.])"
      ]
     },
     "execution_count": 24,
     "metadata": {},
     "output_type": "execute_result"
    }
   ],
   "source": [
    "# シンプルデータセット1の学習・推定：ロジスティック回帰(勾配降下法SGDClassifierクラス使用)\n",
    "\n",
    "sgdc = SGDClassifier(loss=\"log\")\n",
    "sgdc.fit(X_train_transformed, y_train)\n",
    "sgdc_pred = sgdc.predict(X_test_transformed)\n",
    "sgdc_pred"
   ]
  },
  {
   "cell_type": "code",
   "execution_count": 25,
   "metadata": {},
   "outputs": [
    {
     "data": {
      "text/plain": [
       "array([0., 1., 0., 0., 1., 0., 1., 1., 1., 0.])"
      ]
     },
     "execution_count": 25,
     "metadata": {},
     "output_type": "execute_result"
    }
   ],
   "source": [
    "# シンプルデータセット1の学習・推定：SVM\n",
    "\n",
    "svm = SVC() # インスタンス作成\n",
    "svm.fit(X_train_transformed, y_train) # 学習\n",
    "svm_pred = svm.predict(X_test_transformed) # 予測\n",
    "svm_pred"
   ]
  },
  {
   "cell_type": "code",
   "execution_count": 26,
   "metadata": {},
   "outputs": [
    {
     "data": {
      "text/plain": [
       "array([0., 0., 0., 0., 0., 1., 1., 1., 1., 1.])"
      ]
     },
     "execution_count": 26,
     "metadata": {},
     "output_type": "execute_result"
    }
   ],
   "source": [
    "# シンプルデータセット1の学習・推定：決定木\n",
    "\n",
    "dtc = DecisionTreeClassifier() # インスタンス作成\n",
    "dtc.fit(X_train_transformed, y_train) # 学習\n",
    "dtc_pred = dtc.predict(X_test_transformed) # 予測\n",
    "dtc_pred"
   ]
  },
  {
   "cell_type": "markdown",
   "metadata": {},
   "source": [
    "## 【問題3】 回帰問題を解くコードの作成\n",
    "\n",
    "線形回帰でHouse Pricesデータセットを学習・推定するコードを作成してください。"
   ]
  },
  {
   "cell_type": "code",
   "execution_count": 27,
   "metadata": {},
   "outputs": [],
   "source": [
    "# データセットを読み込み、説明変数GrLivAreaとYearBuilt、目的変数SalePriceをそれぞれ抽出\n",
    "df = pd.read_csv('train.csv')\n",
    "df = df[['GrLivArea', 'YearBuilt', 'SalePrice']]\n",
    "# df.info()"
   ]
  },
  {
   "cell_type": "code",
   "execution_count": 28,
   "metadata": {},
   "outputs": [
    {
     "name": "stdout",
     "output_type": "stream",
     "text": [
      "(1095, 2)\n",
      "(365, 2)\n",
      "(1095,)\n",
      "(365,)\n"
     ]
    }
   ],
   "source": [
    "# スクラッチしたtrain_test_split関数でtrainデータとtestデータに分ける\n",
    "\n",
    "X_train, X_test, y_train, y_test = scratch_train_test_split(df.loc[:, ['GrLivArea', 'YearBuilt']].values, df.iloc[:, 2].values, train_size=0.75)\n",
    "print(X_train.shape)\n",
    "print(X_test.shape)\n",
    "print(y_train.shape)\n",
    "print(y_test.shape)"
   ]
  },
  {
   "cell_type": "code",
   "execution_count": 29,
   "metadata": {},
   "outputs": [
    {
     "data": {
      "text/plain": [
       "array([2.40346564e+15, 1.03743515e+15, 1.03787834e+15, 1.61999311e+15,\n",
       "       1.62276305e+15, 1.22398428e+15, 1.73085139e+15, 1.07647165e+15,\n",
       "       1.32835061e+15, 9.05487600e+14, 1.74999827e+15, 7.34699163e+14,\n",
       "       1.48929375e+15, 2.36631270e+15, 1.74816668e+15, 1.06678569e+15,\n",
       "       1.48432699e+15, 1.57682425e+15, 1.21305357e+15, 1.22761461e+15,\n",
       "       2.37302281e+15, 1.82179749e+15, 7.97089423e+14, 1.21690550e+15,\n",
       "       1.02841055e+15, 1.43644237e+15, 1.46679353e+15, 1.10765035e+15,\n",
       "       1.18689016e+15, 1.34960264e+15, 1.03085838e+15, 2.22493364e+15,\n",
       "       1.20456040e+15, 1.79799368e+15, 8.39759691e+14, 2.09099174e+15,\n",
       "       1.34693664e+15, 1.73901216e+15, 1.24606386e+15, 1.22309447e+15,\n",
       "       8.45948661e+14, 1.64179227e+15, 1.91176554e+15, 1.74999827e+15,\n",
       "       1.73720655e+15, 1.67633804e+15, 2.11876171e+15, 1.53923155e+15,\n",
       "       1.61275156e+15, 3.26089452e+15, 1.74242433e+15, 1.27433585e+15,\n",
       "       8.06501814e+14, 1.08160118e+15, 1.07272365e+15, 1.89254413e+15,\n",
       "       1.44271273e+15, 2.34195833e+15, 9.58671372e+14, 2.00978699e+15,\n",
       "       2.17252888e+15, 1.75870960e+15, 1.62437647e+15, 1.65733137e+15,\n",
       "       7.73096864e+14, 1.56827226e+15, 8.26749810e+14, 2.03431098e+15,\n",
       "       1.25433543e+15, 1.76747290e+15, 8.19149887e+14, 1.96520375e+15,\n",
       "       1.75076699e+15, 1.57770720e+15, 1.99924407e+15, 2.05295585e+15,\n",
       "       1.41490648e+15, 1.66889746e+15, 1.15004363e+15, 3.11319314e+15,\n",
       "       1.18336033e+15, 1.82357025e+15, 1.96850512e+15, 1.95352344e+15,\n",
       "       8.01919408e+14, 1.71099118e+15, 1.64834648e+15, 1.12615844e+15,\n",
       "       1.26370812e+15, 1.68962835e+15, 1.31894508e+15, 2.55716381e+15,\n",
       "       7.41464674e+14, 1.10776458e+15, 1.48951535e+15, 1.05893133e+15,\n",
       "       1.28302120e+15, 1.71164911e+15, 2.73494279e+15, 1.41763131e+15,\n",
       "       9.58726771e+14, 1.62487506e+15, 8.71414434e+14, 1.95396663e+15,\n",
       "       1.38150496e+15, 1.17207125e+15, 7.72731626e+14, 1.23452377e+15,\n",
       "       1.68895670e+15, 1.65683622e+15, 1.73978774e+15, 1.51517673e+15,\n",
       "       1.89065714e+15, 2.50666174e+15, 8.63733127e+14, 1.32102768e+15,\n",
       "       1.38416753e+15, 1.01781909e+15, 1.36666349e+15, 7.46985429e+14,\n",
       "       1.25871880e+15, 1.41890892e+15, 8.25586436e+14, 7.19192907e+14,\n",
       "       1.50752141e+15, 7.21826064e+14, 1.04711767e+15, 8.95664864e+14,\n",
       "       1.02744278e+15, 1.07311144e+15, 1.57368908e+15, 1.39770885e+15,\n",
       "       9.70182055e+14, 1.43644237e+15, 1.59476806e+15, 8.00446195e+14,\n",
       "       2.37300369e+15, 8.90339721e+14, 1.86463395e+15, 1.67250867e+15,\n",
       "       1.57388126e+15, 1.94902928e+15, 1.01468734e+15, 2.06471411e+15,\n",
       "       1.00702859e+15, 1.91462715e+15, 7.91959891e+14, 1.52516566e+15,\n",
       "       2.14145411e+15, 1.57027691e+15, 1.03432595e+15, 1.39246509e+15,\n",
       "       1.58434279e+15, 9.52234823e+14, 1.07549702e+15, 1.48384752e+15,\n",
       "       1.49902824e+15, 1.16857769e+15, 1.88135898e+15, 1.44956305e+15,\n",
       "       1.87908763e+15, 5.60077920e+14, 1.13397995e+15, 1.15035004e+15,\n",
       "       1.07460721e+15, 6.81567359e+14, 1.49078952e+15, 1.35132343e+15,\n",
       "       9.41525707e+14, 1.22182029e+15, 1.63796976e+15, 2.08682997e+15,\n",
       "       9.16695304e+14, 1.80691974e+15, 1.75865420e+15, 1.54660645e+15,\n",
       "       1.12765077e+15, 1.48085942e+15, 1.80176766e+15, 2.44815968e+15,\n",
       "       1.51823053e+15, 1.78600353e+15, 8.18540500e+14, 2.02363128e+15,\n",
       "       8.57935379e+14, 2.07609144e+15, 9.76788231e+14, 1.43638697e+15,\n",
       "       1.68135335e+15, 1.03959913e+15, 7.28177800e+14, 1.71576234e+15,\n",
       "       1.46429715e+15, 2.94213114e+15, 1.11222933e+15, 9.51374426e+14,\n",
       "       1.59867882e+15, 2.20814292e+15, 1.02145285e+15, 9.82390368e+14,\n",
       "       1.35804041e+15, 9.04542390e+14, 1.86799072e+15, 1.04644945e+15,\n",
       "       1.83893972e+15, 1.73104700e+15, 1.89761827e+15, 8.06557213e+14,\n",
       "       1.81655030e+15, 1.01657090e+15, 2.76257254e+15, 1.43665711e+15,\n",
       "       9.75012040e+14, 2.40229541e+15, 8.76410615e+14, 1.26398511e+15,\n",
       "       1.01651550e+15, 1.61325015e+15, 1.73837336e+15, 1.74383528e+15,\n",
       "       2.28963153e+15, 1.52019547e+15, 8.91780089e+14, 1.55121484e+15,\n",
       "       1.69578790e+15, 8.66092721e+14, 1.49459291e+15, 2.35185902e+15,\n",
       "       1.22139966e+15, 1.42145726e+15, 1.10879118e+15, 1.82373988e+15,\n",
       "       2.30869360e+15, 8.91975700e+14, 1.95005587e+15, 2.11815232e+15,\n",
       "       1.91753044e+15, 1.65164785e+15, 1.38497596e+15, 9.35255354e+14,\n",
       "       7.21715267e+14, 9.50931236e+14, 1.22007009e+15, 1.93837556e+15,\n",
       "       1.07971419e+15, 8.83626178e+14, 1.43389060e+15, 8.33710933e+14,\n",
       "       8.59043355e+14, 1.51623274e+15, 1.68371637e+15, 1.07239126e+15,\n",
       "       1.51673133e+15, 1.11373196e+15, 1.24339786e+15, 1.38128337e+15,\n",
       "       1.67869764e+15, 8.05859582e+14, 2.33768577e+15, 1.84240729e+15,\n",
       "       2.40970658e+15, 1.54269569e+15, 1.33684377e+15, 2.33471679e+15,\n",
       "       1.58939094e+15, 1.63427716e+15, 2.61839070e+15, 1.57454604e+15,\n",
       "       1.07677463e+15, 1.25194643e+15, 1.46770932e+15, 9.67301319e+14,\n",
       "       9.04376194e+14, 1.29960944e+15, 1.44998026e+15, 2.07556687e+15,\n",
       "       2.01555532e+15, 7.74481833e+14, 8.58323170e+14, 1.62378964e+15,\n",
       "       1.01673710e+15, 1.62054710e+15, 1.24661785e+15, 1.58594936e+15,\n",
       "       1.91168415e+15, 2.94873388e+15, 9.79949392e+14, 8.92223279e+14,\n",
       "       1.59840182e+15, 1.85111862e+15, 7.75977600e+14, 1.44534588e+15,\n",
       "       8.58267772e+14, 1.69720229e+15, 2.17363343e+15, 1.25591258e+15,\n",
       "       1.24135154e+15, 8.88759140e+14, 1.59213490e+15, 1.35376441e+15,\n",
       "       1.20051286e+15, 1.81416815e+15, 1.05263842e+15, 1.03366117e+15,\n",
       "       1.72841384e+15, 1.27949480e+15, 8.58378569e+14, 1.94836106e+15,\n",
       "       8.78906990e+14, 1.20125903e+15, 1.71629034e+15, 9.60972136e+14,\n",
       "       2.17396925e+15, 1.40922639e+15, 8.36627945e+14, 2.23531036e+15,\n",
       "       1.02772321e+15, 9.02795613e+14, 1.96949887e+15, 2.54131487e+15,\n",
       "       2.02038531e+15, 1.69095792e+15, 8.26528215e+14, 1.04881248e+15,\n",
       "       1.23962731e+15, 1.63741577e+15, 1.73701437e+15, 2.93014442e+15,\n",
       "       9.17470887e+14, 1.65239745e+15, 6.71053854e+14, 7.54780963e+14,\n",
       "       7.30478565e+14, 7.73096864e+14, 2.91454649e+15, 1.65511542e+15,\n",
       "       1.09436691e+15, 2.23592318e+15, 1.96303291e+15, 9.32338342e+14,\n",
       "       3.39295972e+15, 8.56214587e+14, 1.54436451e+15, 1.77412761e+15,\n",
       "       1.41663414e+15, 1.48640616e+15, 2.73802256e+15, 1.42583719e+15,\n",
       "       1.77801925e+15, 1.60489720e+15, 1.51184937e+15, 1.71739489e+15,\n",
       "       7.91324520e+14, 2.15457822e+15, 1.88000343e+15, 1.88410980e+15,\n",
       "       1.88610415e+15, 1.42306725e+15, 1.04711767e+15, 8.06557213e+14,\n",
       "       1.24611926e+15, 1.55432060e+15, 1.22891820e+15, 1.17670562e+15,\n",
       "       1.67128989e+15])"
      ]
     },
     "execution_count": 29,
     "metadata": {},
     "output_type": "execute_result"
    }
   ],
   "source": [
    "# 学習・推定：線形回帰(勾配降下法SGDRegressorクラス使用)\n",
    "from sklearn.linear_model import SGDRegressor\n",
    "\n",
    "sgdr = SGDRegressor()\n",
    "sgdr.fit(X_train, y_train)\n",
    "sgdr_pred = sgdr.predict(X_test)\n",
    "sgdr_pred"
   ]
  }
 ],
 "metadata": {
  "kernelspec": {
   "display_name": "Python 3",
   "language": "python",
   "name": "python3"
  },
  "language_info": {
   "codemirror_mode": {
    "name": "ipython",
    "version": 3
   },
   "file_extension": ".py",
   "mimetype": "text/x-python",
   "name": "python",
   "nbconvert_exporter": "python",
   "pygments_lexer": "ipython3",
   "version": "3.8.6"
  }
 },
 "nbformat": 4,
 "nbformat_minor": 4
}
