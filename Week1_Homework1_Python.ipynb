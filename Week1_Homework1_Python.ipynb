{
 "cells": [
  {
   "cell_type": "markdown",
   "metadata": {},
   "source": [
    "# Week１　授業前課題１　Pythonをつかてみよう（紙を折る!）\n",
    "\n",
    "この課題の目的\n",
    "\n",
    "- 基礎的なプログラミング力を確認する!\n",
    "- プログラミングを何らかしらの問題に対して適用してみる！\n",
    "- 随時調査しながら進められるようにする!"
   ]
  },
  {
   "cell_type": "markdown",
   "metadata": {},
   "source": [
    "**【問題1】べき乗の算術演算子を使用して作成**"
   ]
  },
  {
   "cell_type": "code",
   "execution_count": 11,
   "metadata": {},
   "outputs": [
    {
     "name": "stdout",
     "output_type": "stream",
     "text": [
      "厚さ： 703687441.77664メートル\n"
     ]
    }
   ],
   "source": [
    "\"\"\"\n",
    "紙を43回折った時の厚さを計算するコード\n",
    "\"\"\"\n",
    "THICKNESS = 0.00008\n",
    "n_folded = 43\n",
    "folded_thickness = THICKNESS*(2**n_folded)\n",
    "print(\"厚さ： {}メートル\".format(folded_thickness))"
   ]
  },
  {
   "cell_type": "markdown",
   "metadata": {},
   "source": [
    "**【問題2】単位の変換**"
   ]
  },
  {
   "cell_type": "code",
   "execution_count": 7,
   "metadata": {},
   "outputs": [
    {
     "name": "stdout",
     "output_type": "stream",
     "text": [
      "厚さ： 70.37万キロメートル\n"
     ]
    }
   ],
   "source": [
    "# メートルを万キロメートルに変換して小数点以下2桁で表示する\n",
    "print(\"厚さ： {:.2f}万キロメートル\".format(folded_thickness/1000/10000))"
   ]
  },
  {
   "cell_type": "markdown",
   "metadata": {},
   "source": [
    "月までの距離は38.44万キロメートル\n",
    "⇒結論：**紙を43回折った時の厚さは月に届く**"
   ]
  },
  {
   "cell_type": "markdown",
   "metadata": {},
   "source": [
    "**【問題3】for文を使用して作成**"
   ]
  },
  {
   "cell_type": "code",
   "execution_count": 31,
   "metadata": {},
   "outputs": [
    {
     "name": "stdout",
     "output_type": "stream",
     "text": [
      "厚さ： 70.37万キロメートル\n"
     ]
    }
   ],
   "source": [
    "#for文を使用したプログラム\n",
    "THICKNESS = 0.00008\n",
    "\n",
    "n_folded = 43\n",
    "\n",
    "folded_thickness = THICKNESS\n",
    "for i in range(n_folded):\n",
    "    folded_thickness = folded_thickness*2\n",
    "print(\"厚さ： {:.2f}万キロメートル\".format(folded_thickness/10000000))"
   ]
  },
  {
   "cell_type": "markdown",
   "metadata": {},
   "source": [
    "**【問題4】計算時間の比較**"
   ]
  },
  {
   "cell_type": "code",
   "execution_count": 35,
   "metadata": {},
   "outputs": [
    {
     "name": "stdout",
     "output_type": "stream",
     "text": [
      "time_べき_43 : 0.16427040100097656[ms]\n"
     ]
    }
   ],
   "source": [
    "#べき乗（43回）の計算時間\n",
    "import time\n",
    "start01 = time.time()\n",
    "#####\n",
    "\n",
    "THICKNESS = 0.00008\n",
    "\n",
    "n_folded = 43\n",
    "\n",
    "folded_thickness = THICKNESS*(2**n_folded)\n",
    "\n",
    "#####\n",
    "elapsed_time = time.time() - start01\n",
    "print(\"time_べき_43 : {}[ms]\".format(elapsed_time*1000))"
   ]
  },
  {
   "cell_type": "code",
   "execution_count": 36,
   "metadata": {},
   "outputs": [
    {
     "name": "stdout",
     "output_type": "stream",
     "text": [
      "time_for_43 : 0.2181529998779297[ms]\n"
     ]
    }
   ],
   "source": [
    "#for分（43回）の計算時間\n",
    "start02 = time.time()\n",
    "#####\n",
    "\n",
    "THICKNESS = 0.00008\n",
    "\n",
    "n_folded = 43\n",
    "\n",
    "folded_thickness = THICKNESS\n",
    "for i in range(n_folded):\n",
    "    folded_thickness = folded_thickness*2\n",
    "\n",
    "#####\n",
    "elapsed_time = time.time() - start02\n",
    "print(\"time_for_43 : {}[ms]\".format(elapsed_time*1000))"
   ]
  },
  {
   "cell_type": "markdown",
   "metadata": {},
   "source": [
    "《発展：繰り返し回数を増やす》"
   ]
  },
  {
   "cell_type": "code",
   "execution_count": 37,
   "metadata": {},
   "outputs": [
    {
     "name": "stdout",
     "output_type": "stream",
     "text": [
      "time_べき_1000 : 0.16999244689941406[ms]\n"
     ]
    }
   ],
   "source": [
    "#べき乗（1000回）の計算時間\n",
    "start03 = time.time()\n",
    "#####\n",
    "\n",
    "THICKNESS = 0.00008\n",
    "\n",
    "n_folded = 1000\n",
    "\n",
    "folded_thickness = THICKNESS*(2**n_folded)\n",
    "\n",
    "#####\n",
    "elapsed_time = time.time() - start03\n",
    "print(\"time_べき_1000 : {}[ms]\".format(elapsed_time*1000))"
   ]
  },
  {
   "cell_type": "code",
   "execution_count": 39,
   "metadata": {},
   "outputs": [
    {
     "name": "stdout",
     "output_type": "stream",
     "text": [
      "time_for_1000 : 0.33783912658691406[ms]\n"
     ]
    }
   ],
   "source": [
    "#for分（1000回）の計算時間\n",
    "start04 = time.time()\n",
    "#####\n",
    "\n",
    "THICKNESS = 0.00008\n",
    "\n",
    "n_folded = 1000\n",
    "\n",
    "folded_thickness = THICKNESS\n",
    "for i in range(n_folded):\n",
    "    folded_thickness = folded_thickness*2\n",
    "\n",
    "#####\n",
    "elapsed_time = time.time() - start04\n",
    "print(\"time_for_1000 : {}[ms]\".format(elapsed_time*1000))"
   ]
  },
  {
   "cell_type": "markdown",
   "metadata": {},
   "source": [
    "《発展：マジックコマンドを使う》"
   ]
  },
  {
   "cell_type": "code",
   "execution_count": 24,
   "metadata": {},
   "outputs": [
    {
     "name": "stdout",
     "output_type": "stream",
     "text": [
      "588 ns ± 2.25 ns per loop (mean ± std. dev. of 7 runs, 1000000 loops each)\n"
     ]
    }
   ],
   "source": [
    "%%timeit\n",
    "THICKNESS = 0.00008\n",
    "n_folded = 43\n",
    "folded_thickness = THICKNESS*2**(n_folded)"
   ]
  },
  {
   "cell_type": "code",
   "execution_count": 41,
   "metadata": {
    "scrolled": true
   },
   "outputs": [
    {
     "name": "stdout",
     "output_type": "stream",
     "text": [
      "69.3 µs ± 246 ns per loop (mean ± std. dev. of 7 runs, 10000 loops each)\n"
     ]
    }
   ],
   "source": [
    "%%timeit\n",
    "THICKNESS = 0.00008\n",
    "n_folded = 1000\n",
    "folded_thickness = THICKNESS\n",
    "for i in range(n_folded):\n",
    "    folded_thickness = folded_thickness*2"
   ]
  },
  {
   "cell_type": "markdown",
   "metadata": {},
   "source": [
    "**結論：べき乗の算術演算子を使った計算速度がfor文を使用したプログラミングより速い。**\n",
    "\n",
    "原因の推察：べき乗の算術演算子を使った計算は単純計算であり、計算が得意であるコンピューターにとっては負担とならないのに対し、for文を使用したプログラミングは40何回も繰り返さないといけないため、計算時間がよりかかる。\n",
    "\n",
    "また、コードの長さもべき乗のほうが短くてわかりやすいため、こちらの書き方の方が良さそうだと感じました。\n"
   ]
  },
  {
   "cell_type": "markdown",
   "metadata": {},
   "source": [
    "## 4.過程の可視化"
   ]
  },
  {
   "cell_type": "markdown",
   "metadata": {},
   "source": [
    "**【問題5】リストへの保存**"
   ]
  },
  {
   "cell_type": "code",
   "execution_count": 48,
   "metadata": {
    "scrolled": true
   },
   "outputs": [
    {
     "name": "stdout",
     "output_type": "stream",
     "text": [
      "厚さ： 70.37万キロメートル\n",
      "[8e-05, 0.00016, 0.00032, 0.00064, 0.00128, 0.00256, 0.00512, 0.01024, 0.02048, 0.04096, 0.08192, 0.16384, 0.32768, 0.65536, 1.31072, 2.62144, 5.24288, 10.48576, 20.97152, 41.94304, 83.88608, 167.77216, 335.54432, 671.08864, 1342.17728, 2684.35456, 5368.70912, 10737.41824, 21474.83648, 42949.67296, 85899.34592, 171798.69184, 343597.38368, 687194.76736, 1374389.53472, 2748779.06944, 5497558.13888, 10995116.27776, 21990232.55552, 43980465.11104, 87960930.22208, 175921860.44416, 351843720.88832, 703687441.77664]\n",
      "リスト要素の個数: 44\n"
     ]
    }
   ],
   "source": [
    "# for文を使用したコードに、過程の値合計44個を記録するコードを追加\n",
    "THICKNESS = 0.00008\n",
    "\n",
    "n_folded = 43\n",
    "\n",
    "folded_thickness_list = [THICKNESS]\n",
    "for i in range(n_folded):\n",
    "    folded_thickness_list.append(folded_thickness_list[-1]*2)\n",
    "print(\"厚さ： {:.2f}万キロメートル\".format(folded_thickness_list[-1]/10000000))\n",
    "print(folded_thickness_list)\n",
    "print(\"リスト要素の個数:\",len(folded_thickness_list))"
   ]
  },
  {
   "cell_type": "markdown",
   "metadata": {},
   "source": [
    "**【問題6】折れ線グラフの表示**"
   ]
  },
  {
   "cell_type": "code",
   "execution_count": 50,
   "metadata": {},
   "outputs": [
    {
     "data": {
      "image/png": "[encoded data removed]",
      "text/plain": [
       "<Figure size 432x288 with 1 Axes>"
      ]
     },
     "metadata": {
      "needs_background": "light"
     },
     "output_type": "display_data"
    }
   ],
   "source": [
    "\"\"\"\n",
    "グラフを表示する。タイトルと軸ラベル名付き。\n",
    "\"\"\"\n",
    "import matplotlib.pyplot as plt\n",
    "%matplotlib inline\n",
    "\n",
    "plt.title(\"thickness of folded paper\")\n",
    "plt.xlabel(\"number of folds\")\n",
    "plt.ylabel(\"thickness[m]\")\n",
    "plt.plot(folded_thickness_list) # 「リスト名」のところにリストの変数名を入れる\n",
    "plt.show()"
   ]
  },
  {
   "cell_type": "markdown",
   "metadata": {},
   "source": [
    "**グラフに対する考察：40回を超えたところから急激に厚さが増えた⇒指数関数の性質に合致する**"
   ]
  },
  {
   "cell_type": "markdown",
   "metadata": {},
   "source": [
    "**【問題7】グラフのカスタマイズ**"
   ]
  },
  {
   "cell_type": "code",
   "execution_count": 51,
   "metadata": {},
   "outputs": [
    {
     "data": {
      "image/png": "[encoded data removed]",
      "text/plain": [
       "<Figure size 432x288 with 1 Axes>"
      ]
     },
     "metadata": {
      "needs_background": "light"
     },
     "output_type": "display_data"
    }
   ],
   "source": [
    "\"\"\"\n",
    "赤い折れ線グラフを表示する。\n",
    "\"\"\"\n",
    "plt.title(\"thickness of folded paper\")\n",
    "plt.xlabel(\"number of folds\")\n",
    "plt.ylabel(\"thickness[m]\")\n",
    "plt.plot(folded_thickness_list, color='red')\n",
    "plt.show()"
   ]
  },
  {
   "cell_type": "code",
   "execution_count": 52,
   "metadata": {
    "scrolled": false
   },
   "outputs": [
    {
     "data": {
      "image/png": "[encoded data removed]",
      "text/plain": [
       "<Figure size 432x288 with 1 Axes>"
      ]
     },
     "metadata": {
      "needs_background": "light"
     },
     "output_type": "display_data"
    }
   ],
   "source": [
    "\"\"\"\n",
    "青色の折れ線グラフを表示する。\n",
    "\"\"\"\n",
    "plt.title(\"thickness of folded paper\")\n",
    "plt.xlabel(\"number of folds\")\n",
    "plt.ylabel(\"thickness[m]\")\n",
    "plt.plot(folded_thickness_list, color='blue' ,linestyle=':')\n",
    "plt.show()"
   ]
  },
  {
   "cell_type": "code",
   "execution_count": 53,
   "metadata": {},
   "outputs": [
    {
     "data": {
      "image/png": "[encoded data removed]",
      "text/plain": [
       "<Figure size 432x288 with 1 Axes>"
      ]
     },
     "metadata": {
      "needs_background": "light"
     },
     "output_type": "display_data"
    }
   ],
   "source": [
    "\"\"\"\n",
    "青色の折れ線グラフ（点線）を表示する。\n",
    "\"\"\"\n",
    "plt.title(\"thickness of folded paper\")\n",
    "plt.xlabel(\"number of folds\")\n",
    "plt.ylabel(\"thickness[m]\")\n",
    "plt.tick_params(labelsize=20) # 軸の値に関する設定\n",
    "plt.plot(folded_thickness_list, color='blue', linestyle=':', linewidth='10')\n",
    "plt.show()"
   ]
  }
 ],
 "metadata": {
  "kernelspec": {
   "display_name": "Python 3",
   "language": "python",
   "name": "python3"
  },
  "language_info": {
   "codemirror_mode": {
    "name": "ipython",
    "version": 3
   },
   "file_extension": ".py",
   "mimetype": "text/x-python",
   "name": "python",
   "nbconvert_exporter": "python",
   "pygments_lexer": "ipython3",
   "version": "3.8.3"
  }
 },
 "nbformat": 4,
 "nbformat_minor": 4
}
